{
 "cells": [
  {
   "cell_type": "markdown",
   "metadata": {},
   "source": [
    "# Word2Vec with Gensim"
   ]
  },
  {
   "cell_type": "code",
   "execution_count": 1,
   "metadata": {},
   "outputs": [
    {
     "name": "stderr",
     "output_type": "stream",
     "text": [
      "C:\\Users\\Pink\\AppData\\Local\\Continuum\\anaconda3\\lib\\site-packages\\gensim\\utils.py:1212: UserWarning: detected Windows; aliasing chunkize to chunkize_serial\n",
      "  warnings.warn(\"detected Windows; aliasing chunkize to chunkize_serial\")\n"
     ]
    }
   ],
   "source": [
    "import numpy as np\n",
    "import pandas as pd\n",
    "import gensim\n",
    "import wikipedia as wiki\n",
    "import nltk\n",
    "import string"
   ]
  },
  {
   "cell_type": "code",
   "execution_count": 2,
   "metadata": {},
   "outputs": [],
   "source": [
    "wiki_coffee=wiki.summary(\"coffee\")"
   ]
  },
  {
   "cell_type": "code",
   "execution_count": 3,
   "metadata": {},
   "outputs": [],
   "source": [
    "## Converting everything into lower case \n",
    "def Convert_lower(text):\n",
    "    return text.lower() "
   ]
  },
  {
   "cell_type": "code",
   "execution_count": 4,
   "metadata": {},
   "outputs": [
    {
     "data": {
      "text/plain": [
       "'coffee is a brewed drink prepared from roasted coffee beans, the seeds of berries from certain coffea species. the genus coffea is native to tropical africa (specifically having its origin in ethiopia and sudan) and madagascar, the comoros, mauritius, and réunion in the indian ocean. coffee plants are now cultivated in over 70 countries, primarily in the equatorial regions of the americas, southeast asia, indian subcontinent, and africa. the two most commonly grown are c. arabica and c. robusta. once ripe, coffee berries are picked, processed, and dried. dried coffee seeds (referred to as \"beans\") are roasted to varying degrees, depending on the desired flavor. roasted beans are ground and then brewed with near-boiling water to produce the beverage known as coffee.\\ncoffee is darkly colored, bitter, slightly acidic and has a stimulating effect in humans, primarily due to its caffeine content. it is one of the most popular drinks in the world, and it can be prepared and presented in a variety of ways (e.g., espresso, french press, café latte). it is usually served hot, although iced coffee is a popular alternative. clinical studies indicate that moderate coffee consumption is benign or mildly beneficial in healthy adults, with continuing research on whether long-term consumption lowers the risk of some diseases, although those long-term studies are of generally poor quality.the earliest credible evidence of coffee-drinking appears in yemen in southern arabia in the middle of the 15th century in sufi shrines. it was here in arabia that coffee seeds were first roasted and brewed in a similar way to how it is now prepared.  but the coffee seeds had to be first exported from east africa to yemen, as the coffea arabica plant is thought to have been indigenous to the former. yemeni traders took coffee back to their homeland and began to cultivate the seed. by the 16th century, the drink had reached persia, turkey, and north africa. from there, it spread to europe and the rest of the world.\\nas of 2016, brazil was the leading grower of coffee beans, producing one-third of the world total. coffee is a major export commodity, being the top legal agricultural export for numerous countries. it is one of the most valuable commodities exported by developing countries. green, unroasted coffee is one of the most traded agricultural commodities in the world. some controversy has been associated with coffee cultivation and the way developed countries trade with developing nations, as well as the impact on the environment with regards to the clearing of land for coffee-growing and water use. consequently, the markets for fair trade and organic coffee are expanding.'"
      ]
     },
     "execution_count": 4,
     "metadata": {},
     "output_type": "execute_result"
    }
   ],
   "source": [
    "wiki_coffee=Convert_lower(wiki_coffee)\n",
    "wiki_coffee"
   ]
  },
  {
   "cell_type": "code",
   "execution_count": 5,
   "metadata": {},
   "outputs": [],
   "source": [
    "## Removing punctuations\n",
    "import re\n",
    "def remove_punc(text):\n",
    "    p = re.compile(r'[?|!|\\'|\"|#|.|,|@|)|(|\\|/|~|%|*|\\n]')\n",
    "    return p.sub('',text)"
   ]
  },
  {
   "cell_type": "code",
   "execution_count": 6,
   "metadata": {},
   "outputs": [
    {
     "data": {
      "text/plain": [
       "'coffee is a brewed drink prepared from roasted coffee beans the seeds of berries from certain coffea species the genus coffea is native to tropical africa specifically having its origin in ethiopia and sudan and madagascar the comoros mauritius and réunion in the indian ocean coffee plants are now cultivated in over 70 countries primarily in the equatorial regions of the americas southeast asia indian subcontinent and africa the two most commonly grown are c arabica and c robusta once ripe coffee berries are picked processed and dried dried coffee seeds referred to as beans are roasted to varying degrees depending on the desired flavor roasted beans are ground and then brewed with near-boiling water to produce the beverage known as coffeecoffee is darkly colored bitter slightly acidic and has a stimulating effect in humans primarily due to its caffeine content it is one of the most popular drinks in the world and it can be prepared and presented in a variety of ways eg espresso french press café latte it is usually served hot although iced coffee is a popular alternative clinical studies indicate that moderate coffee consumption is benign or mildly beneficial in healthy adults with continuing research on whether long-term consumption lowers the risk of some diseases although those long-term studies are of generally poor qualitythe earliest credible evidence of coffee-drinking appears in yemen in southern arabia in the middle of the 15th century in sufi shrines it was here in arabia that coffee seeds were first roasted and brewed in a similar way to how it is now prepared  but the coffee seeds had to be first exported from east africa to yemen as the coffea arabica plant is thought to have been indigenous to the former yemeni traders took coffee back to their homeland and began to cultivate the seed by the 16th century the drink had reached persia turkey and north africa from there it spread to europe and the rest of the worldas of 2016 brazil was the leading grower of coffee beans producing one-third of the world total coffee is a major export commodity being the top legal agricultural export for numerous countries it is one of the most valuable commodities exported by developing countries green unroasted coffee is one of the most traded agricultural commodities in the world some controversy has been associated with coffee cultivation and the way developed countries trade with developing nations as well as the impact on the environment with regards to the clearing of land for coffee-growing and water use consequently the markets for fair trade and organic coffee are expanding'"
      ]
     },
     "execution_count": 6,
     "metadata": {},
     "output_type": "execute_result"
    }
   ],
   "source": [
    "wiki_coffee=remove_punc(wiki_coffee)\n",
    "wiki_coffee"
   ]
  },
  {
   "cell_type": "code",
   "execution_count": 7,
   "metadata": {},
   "outputs": [],
   "source": [
    "## Tokenization of wiki_coffee\n",
    "wiki_coffee=nltk.word_tokenize(wiki_coffee)"
   ]
  },
  {
   "cell_type": "code",
   "execution_count": 8,
   "metadata": {},
   "outputs": [],
   "source": [
    "## Now Tokenizing every word.\n",
    "from nltk.corpus import stopwords\n",
    "stopWords = set(stopwords.words('english'))\n",
    "## Craeting a list\n",
    "def AfterStopwords(dataframe):\n",
    "    corpus_ws=[]\n",
    "    for word in dataframe:\n",
    "        if word not in stopWords:\n",
    "            corpus_ws.append(word)\n",
    "    return  corpus_ws\n"
   ]
  },
  {
   "cell_type": "code",
   "execution_count": 9,
   "metadata": {},
   "outputs": [
    {
     "name": "stdout",
     "output_type": "stream",
     "text": [
      "Length of the Tokenization after eliminating stop words-> ['coffee', 'brewed', 'drink', 'prepared', 'roasted', 'coffee', 'beans', 'seeds', 'berries', 'certain', 'coffea', 'species', 'genus', 'coffea', 'native', 'tropical', 'africa', 'specifically', 'origin', 'ethiopia', 'sudan', 'madagascar', 'comoros', 'mauritius', 'réunion', 'indian', 'ocean', 'coffee', 'plants', 'cultivated', '70', 'countries', 'primarily', 'equatorial', 'regions', 'americas', 'southeast', 'asia', 'indian', 'subcontinent', 'africa', 'two', 'commonly', 'grown', 'c', 'arabica', 'c', 'robusta', 'ripe', 'coffee', 'berries', 'picked', 'processed', 'dried', 'dried', 'coffee', 'seeds', 'referred', 'beans', 'roasted', 'varying', 'degrees', 'depending', 'desired', 'flavor', 'roasted', 'beans', 'ground', 'brewed', 'near-boiling', 'water', 'produce', 'beverage', 'known', 'coffeecoffee', 'darkly', 'colored', 'bitter', 'slightly', 'acidic', 'stimulating', 'effect', 'humans', 'primarily', 'due', 'caffeine', 'content', 'one', 'popular', 'drinks', 'world', 'prepared', 'presented', 'variety', 'ways', 'eg', 'espresso', 'french', 'press', 'café', 'latte', 'usually', 'served', 'hot', 'although', 'iced', 'coffee', 'popular', 'alternative', 'clinical', 'studies', 'indicate', 'moderate', 'coffee', 'consumption', 'benign', 'mildly', 'beneficial', 'healthy', 'adults', 'continuing', 'research', 'whether', 'long-term', 'consumption', 'lowers', 'risk', 'diseases', 'although', 'long-term', 'studies', 'generally', 'poor', 'qualitythe', 'earliest', 'credible', 'evidence', 'coffee-drinking', 'appears', 'yemen', 'southern', 'arabia', 'middle', '15th', 'century', 'sufi', 'shrines', 'arabia', 'coffee', 'seeds', 'first', 'roasted', 'brewed', 'similar', 'way', 'prepared', 'coffee', 'seeds', 'first', 'exported', 'east', 'africa', 'yemen', 'coffea', 'arabica', 'plant', 'thought', 'indigenous', 'former', 'yemeni', 'traders', 'took', 'coffee', 'back', 'homeland', 'began', 'cultivate', 'seed', '16th', 'century', 'drink', 'reached', 'persia', 'turkey', 'north', 'africa', 'spread', 'europe', 'rest', 'worldas', '2016', 'brazil', 'leading', 'grower', 'coffee', 'beans', 'producing', 'one-third', 'world', 'total', 'coffee', 'major', 'export', 'commodity', 'top', 'legal', 'agricultural', 'export', 'numerous', 'countries', 'one', 'valuable', 'commodities', 'exported', 'developing', 'countries', 'green', 'unroasted', 'coffee', 'one', 'traded', 'agricultural', 'commodities', 'world', 'controversy', 'associated', 'coffee', 'cultivation', 'way', 'developed', 'countries', 'trade', 'developing', 'nations', 'well', 'impact', 'environment', 'regards', 'clearing', 'land', 'coffee-growing', 'water', 'use', 'consequently', 'markets', 'fair', 'trade', 'organic', 'coffee', 'expanding']\n"
     ]
    }
   ],
   "source": [
    "### New\n",
    "NewCorpus_coffee=AfterStopwords(dataframe=wiki_coffee)\n",
    "print('Length of the Tokenization after eliminating stop words->',NewCorpus_coffee)"
   ]
  },
  {
   "cell_type": "code",
   "execution_count": 10,
   "metadata": {},
   "outputs": [],
   "source": [
    "documents=[NewCorpus_coffee]"
   ]
  },
  {
   "cell_type": "code",
   "execution_count": 11,
   "metadata": {},
   "outputs": [
    {
     "data": {
      "text/plain": [
       "(151122, 250000)"
      ]
     },
     "execution_count": 11,
     "metadata": {},
     "output_type": "execute_result"
    }
   ],
   "source": [
    "# build vocabulary and train model\n",
    "model = gensim.models.Word2Vec (documents,min_count=1,size=32)\n",
    "model.train(documents,total_examples=len(documents),epochs=1000)"
   ]
  },
  {
   "cell_type": "code",
   "execution_count": 12,
   "metadata": {},
   "outputs": [
    {
     "name": "stderr",
     "output_type": "stream",
     "text": [
      "C:\\Users\\Pink\\AppData\\Local\\Continuum\\anaconda3\\lib\\site-packages\\gensim\\matutils.py:737: FutureWarning: Conversion of the second argument of issubdtype from `int` to `np.signedinteger` is deprecated. In future, it will be treated as `np.int32 == np.dtype(int).type`.\n",
      "  if np.issubdtype(vec.dtype, np.int):\n"
     ]
    },
    {
     "data": {
      "text/plain": [
       "[('organic', 0.9885283708572388),\n",
       " ('fair', 0.97634357213974),\n",
       " ('markets', 0.9579740762710571),\n",
       " ('consequently', 0.935758113861084),\n",
       " ('use', 0.9100143313407898),\n",
       " ('coffee-growing', 0.8748865127563477),\n",
       " ('land', 0.8418675661087036),\n",
       " ('trade', 0.8367928266525269),\n",
       " ('clearing', 0.8191864490509033),\n",
       " ('regards', 0.7845898866653442)]"
      ]
     },
     "execution_count": 12,
     "metadata": {},
     "output_type": "execute_result"
    }
   ],
   "source": [
    "w1 = [\"expanding\"]\n",
    "model.wv.most_similar (positive=w1)"
   ]
  },
  {
   "cell_type": "code",
   "execution_count": 13,
   "metadata": {},
   "outputs": [
    {
     "name": "stderr",
     "output_type": "stream",
     "text": [
      "C:\\Users\\Pink\\AppData\\Local\\Continuum\\anaconda3\\lib\\site-packages\\gensim\\matutils.py:737: FutureWarning: Conversion of the second argument of issubdtype from `int` to `np.signedinteger` is deprecated. In future, it will be treated as `np.int32 == np.dtype(int).type`.\n",
      "  if np.issubdtype(vec.dtype, np.int):\n"
     ]
    },
    {
     "data": {
      "text/plain": [
       "[('ethiopia', 0.9946420788764954),\n",
       " ('madagascar', 0.9849677681922913),\n",
       " ('origin', 0.9724627137184143),\n",
       " ('comoros', 0.9623600840568542),\n",
       " ('specifically', 0.951302707195282),\n",
       " ('mauritius', 0.9229506850242615),\n",
       " ('tropical', 0.8878210783004761),\n",
       " ('réunion', 0.8541017174720764)]"
      ]
     },
     "execution_count": 13,
     "metadata": {},
     "output_type": "execute_result"
    }
   ],
   "source": [
    "# look up top 6 words similar to 'sudan'\n",
    "w1 = [\"sudan\"]\n",
    "model.wv.most_similar (positive=w1,topn=8)"
   ]
  },
  {
   "cell_type": "code",
   "execution_count": 14,
   "metadata": {},
   "outputs": [
    {
     "name": "stderr",
     "output_type": "stream",
     "text": [
      "C:\\Users\\Pink\\AppData\\Local\\Continuum\\anaconda3\\lib\\site-packages\\gensim\\matutils.py:737: FutureWarning: Conversion of the second argument of issubdtype from `int` to `np.signedinteger` is deprecated. In future, it will be treated as `np.int32 == np.dtype(int).type`.\n",
      "  if np.issubdtype(vec.dtype, np.int):\n",
      "C:\\Users\\Pink\\AppData\\Local\\Continuum\\anaconda3\\lib\\site-packages\\ipykernel_launcher.py:6: DeprecationWarning: Call to deprecated `__getitem__` (Method will be removed in 4.0.0, use self.wv.__getitem__() instead).\n",
      "  \n"
     ]
    },
    {
     "data": {
      "text/html": [
       "<div>\n",
       "<style scoped>\n",
       "    .dataframe tbody tr th:only-of-type {\n",
       "        vertical-align: middle;\n",
       "    }\n",
       "\n",
       "    .dataframe tbody tr th {\n",
       "        vertical-align: top;\n",
       "    }\n",
       "\n",
       "    .dataframe thead th {\n",
       "        text-align: right;\n",
       "    }\n",
       "</style>\n",
       "<table border=\"1\" class=\"dataframe\">\n",
       "  <thead>\n",
       "    <tr style=\"text-align: right;\">\n",
       "      <th></th>\n",
       "      <th>x</th>\n",
       "      <th>y</th>\n",
       "    </tr>\n",
       "  </thead>\n",
       "  <tbody>\n",
       "    <tr>\n",
       "      <th>ethiopia</th>\n",
       "      <td>115.222610</td>\n",
       "      <td>35.738609</td>\n",
       "    </tr>\n",
       "    <tr>\n",
       "      <th>madagascar</th>\n",
       "      <td>128.953445</td>\n",
       "      <td>-101.670120</td>\n",
       "    </tr>\n",
       "    <tr>\n",
       "      <th>origin</th>\n",
       "      <td>22.934774</td>\n",
       "      <td>-48.436676</td>\n",
       "    </tr>\n",
       "    <tr>\n",
       "      <th>comoros</th>\n",
       "      <td>10.590251</td>\n",
       "      <td>-172.744431</td>\n",
       "    </tr>\n",
       "    <tr>\n",
       "      <th>specifically</th>\n",
       "      <td>-104.351173</td>\n",
       "      <td>-126.588867</td>\n",
       "    </tr>\n",
       "    <tr>\n",
       "      <th>mauritius</th>\n",
       "      <td>9.440293</td>\n",
       "      <td>100.201218</td>\n",
       "    </tr>\n",
       "    <tr>\n",
       "      <th>agricultural</th>\n",
       "      <td>-70.297508</td>\n",
       "      <td>-1.754560</td>\n",
       "    </tr>\n",
       "    <tr>\n",
       "      <th>tropical</th>\n",
       "      <td>-187.498138</td>\n",
       "      <td>-25.362089</td>\n",
       "    </tr>\n",
       "    <tr>\n",
       "      <th>réunion</th>\n",
       "      <td>-121.381935</td>\n",
       "      <td>106.352631</td>\n",
       "    </tr>\n",
       "  </tbody>\n",
       "</table>\n",
       "</div>"
      ],
      "text/plain": [
       "                       x           y\n",
       "ethiopia      115.222610   35.738609\n",
       "madagascar    128.953445 -101.670120\n",
       "origin         22.934774  -48.436676\n",
       "comoros        10.590251 -172.744431\n",
       "specifically -104.351173 -126.588867\n",
       "mauritius       9.440293  100.201218\n",
       "agricultural  -70.297508   -1.754560\n",
       "tropical     -187.498138  -25.362089\n",
       "réunion      -121.381935  106.352631"
      ]
     },
     "execution_count": 14,
     "metadata": {},
     "output_type": "execute_result"
    }
   ],
   "source": [
    "from sklearn.manifold import TSNE\n",
    "import re\n",
    "import matplotlib.pyplot as plt\n",
    "vocab = list(model.wv.most_similar (positive=w1,topn=6))\n",
    "vocab=['ethiopia','madagascar','origin','comoros','specifically','mauritius','agricultural','tropical','réunion']\n",
    "X = model[vocab]\n",
    "tsne = TSNE(n_components=2)\n",
    "X_tsne = tsne.fit_transform(X)\n",
    "df = pd.DataFrame(X_tsne, index=vocab, columns=['x', 'y'])\n",
    "df.iloc[0:,]\n"
   ]
  },
  {
   "cell_type": "code",
   "execution_count": 15,
   "metadata": {},
   "outputs": [
    {
     "data": {
      "image/png": "[encoded data removed]",
      "text/plain": [
       "<Figure size 432x288 with 1 Axes>"
      ]
     },
     "metadata": {},
     "output_type": "display_data"
    }
   ],
   "source": [
    "### Scatterplot of words which are near to sudan\n",
    "fig = plt.figure()\n",
    "ax = fig.add_subplot(1, 1, 1)\n",
    "\n",
    "ax.scatter(df['x'], df['y'])\n",
    "\n",
    "for word, pos in df.iterrows():\n",
    "    ax.annotate(word, pos)"
   ]
  },
  {
   "cell_type": "markdown",
   "metadata": {},
   "source": [
    "###### Similarity between two words"
   ]
  },
  {
   "cell_type": "code",
   "execution_count": 16,
   "metadata": {},
   "outputs": [
    {
     "name": "stderr",
     "output_type": "stream",
     "text": [
      "C:\\Users\\Pink\\AppData\\Local\\Continuum\\anaconda3\\lib\\site-packages\\gensim\\matutils.py:737: FutureWarning: Conversion of the second argument of issubdtype from `int` to `np.signedinteger` is deprecated. In future, it will be treated as `np.int32 == np.dtype(int).type`.\n",
      "  if np.issubdtype(vec.dtype, np.int):\n"
     ]
    },
    {
     "data": {
      "text/plain": [
       "0.49519828"
      ]
     },
     "execution_count": 16,
     "metadata": {},
     "output_type": "execute_result"
    }
   ],
   "source": [
    "model.wv.similarity(w1=\"world\",w2=\"countries\")"
   ]
  },
  {
   "cell_type": "code",
   "execution_count": 17,
   "metadata": {},
   "outputs": [
    {
     "name": "stderr",
     "output_type": "stream",
     "text": [
      "C:\\Users\\Pink\\AppData\\Local\\Continuum\\anaconda3\\lib\\site-packages\\gensim\\matutils.py:737: FutureWarning: Conversion of the second argument of issubdtype from `int` to `np.signedinteger` is deprecated. In future, it will be treated as `np.int32 == np.dtype(int).type`.\n",
      "  if np.issubdtype(vec.dtype, np.int):\n"
     ]
    },
    {
     "data": {
      "text/plain": [
       "0.99999994"
      ]
     },
     "execution_count": 17,
     "metadata": {},
     "output_type": "execute_result"
    }
   ],
   "source": [
    "## Between two similar words\n",
    "model.wv.similarity(w1=\"world\",w2=\"world\")"
   ]
  }
 ],
 "metadata": {
  "kernelspec": {
   "display_name": "Python 3",
   "language": "python",
   "name": "python3"
  },
  "language_info": {
   "codemirror_mode": {
    "name": "ipython",
    "version": 3
   },
   "file_extension": ".py",
   "mimetype": "text/x-python",
   "name": "python",
   "nbconvert_exporter": "python",
   "pygments_lexer": "ipython3",
   "version": "3.6.5"
  }
 },
 "nbformat": 4,
 "nbformat_minor": 2
}
