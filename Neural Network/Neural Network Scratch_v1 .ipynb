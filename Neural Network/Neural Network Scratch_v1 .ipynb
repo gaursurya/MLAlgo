{
 "cells": [
  {
   "cell_type": "markdown",
   "metadata": {},
   "source": [
    "# Neural Network From Scratch (Regression)"
   ]
  },
  {
   "cell_type": "code",
   "execution_count": 1,
   "metadata": {},
   "outputs": [],
   "source": [
    "# Package imports\n",
    "import matplotlib.pyplot as plt\n",
    "import numpy as np\n",
    "import sklearn\n",
    "import sklearn.datasets\n",
    "import sklearn.linear_model\n",
    "import matplotlib\n",
    "\n",
    "# Display plots inline and change default figure size\n",
    "%matplotlib inline\n",
    "matplotlib.rcParams['figure.figsize'] = (10.0, 8.0)"
   ]
  },
  {
   "cell_type": "code",
   "execution_count": 2,
   "metadata": {},
   "outputs": [],
   "source": [
    "## Building Data For Feeding into Neural network\n",
    "X=np.array(([3,5],[5,1],[10,2],[5,2]),dtype=float)\n",
    "y=np.array(([75],[82],[93],[99]),dtype=float)"
   ]
  },
  {
   "cell_type": "code",
   "execution_count": 3,
   "metadata": {},
   "outputs": [
    {
     "data": {
      "text/plain": [
       "'\\n## FF\\ninputLayer=X.shape[1]\\nhiddenLayer=X.shape[0]\\noutputLayer=y.shape[1]\\n## Weight Initialization\\nw1 = np.random.randn(inputLayer,hiddenLayer)\\nw2 = np.random.randn(hiddenLayer,outputLayer)\\nz2=np.dot(X,w1)\\na2=sigmoid(z2)\\nz3=np.dot(a2,w2)\\nyhat=sigmoid(z3)\\nyhat\\n## BP\\ndelta1=np.multiply(-(y-yhat),sigmoidPrime(z3))\\ndjdw2=(np.dot(delta1.T,a2)).T\\ndjdw2\\n'"
      ]
     },
     "execution_count": 3,
     "metadata": {},
     "output_type": "execute_result"
    }
   ],
   "source": [
    "\"\"\"\n",
    "## FF\n",
    "inputLayer=X.shape[1]\n",
    "hiddenLayer=X.shape[0]\n",
    "outputLayer=y.shape[1]\n",
    "## Weight Initialization\n",
    "w1 = np.random.randn(inputLayer,hiddenLayer)\n",
    "w2 = np.random.randn(hiddenLayer,outputLayer)\n",
    "z2=np.dot(X,w1)\n",
    "a2=sigmoid(z2)\n",
    "z3=np.dot(a2,w2)\n",
    "yhat=sigmoid(z3)\n",
    "yhat\n",
    "## BP\n",
    "delta1=np.multiply(-(y-yhat),sigmoidPrime(z3))\n",
    "djdw2=(np.dot(delta1.T,a2)).T\n",
    "djdw2\n",
    "\"\"\""
   ]
  },
  {
   "cell_type": "code",
   "execution_count": 4,
   "metadata": {},
   "outputs": [],
   "source": [
    "class NeuralNetwork(object):\n",
    "    def __init__(self):\n",
    "        self.inputLayer=X.shape[1]\n",
    "        self.hiddenLayer=X.shape[0]\n",
    "        self.outputLayer=y.shape[1]\n",
    "    ## Weight Initialization\n",
    "        self.w1 = np.random.randn(self.inputLayer,self.hiddenLayer)\n",
    "        self.w2 = np.random.randn(self.hiddenLayer,self.outputLayer)\n",
    "    \n",
    "    def sigmoid(self,z):\n",
    "        return 1 / (1 + np.exp(-z))        \n",
    "    \n",
    "    def FF(self,X):\n",
    "        ## From Input Layer to Hidden Layer\n",
    "        self.z2=np.dot(X,self.w1)\n",
    "        self.a2=self.sigmoid(self.z2)\n",
    "        \n",
    "        ## From Hidden layer to Output Layer\n",
    "        self.z3=np.dot(self.a2,self.w2)\n",
    "        y_hat=self.sigmoid(self.z3)\n",
    "        return y_hat\n",
    "    \n",
    "    def J(self, X, y):\n",
    "        #Compute cost for given X,y, use weights already stored in class.\n",
    "        self.y_hat = self.FF(X)\n",
    "        J = 0.5*sum((y-self.y_hat)**2)\n",
    "        return J\n",
    "    \n",
    "    def  sigmoidPrime(self,y):\n",
    "         return (1 / (1 + np.exp(-y)))*(1-1 / (1 + np.exp(-y)))\n",
    "        \n",
    "    def BP(self, X, y):        \n",
    "        self.y_hat=self.FF(X)\n",
    "     ## djdw2 Derivative with respect of weight-2\n",
    "    \n",
    "        delta1=np.multiply(-(y-self.y_hat),self.sigmoidPrime(self.z3))\n",
    "        djdw2=(np.dot(delta1.T,self.a2)).T\n",
    "     ##  djdw1  Derivative with respect of weight-1\n",
    "        delta2=np.multiply(np.dot(delta1,self.w2.T),self.sigmoidPrime(self.z2))\n",
    "        djdw1=np.dot(X.T,delta2)\n",
    "        return djdw1, djdw2"
   ]
  },
  {
   "cell_type": "code",
   "execution_count": 5,
   "metadata": {},
   "outputs": [],
   "source": [
    "## Initialting the class\n",
    "NN = NeuralNetwork()"
   ]
  },
  {
   "cell_type": "code",
   "execution_count": 6,
   "metadata": {},
   "outputs": [
    {
     "data": {
      "text/plain": [
       "array([15225.39632991])"
      ]
     },
     "execution_count": 6,
     "metadata": {},
     "output_type": "execute_result"
    }
   ],
   "source": [
    "## Cost Function\n",
    "J = NN.J(X,y)\n",
    "J"
   ]
  },
  {
   "cell_type": "code",
   "execution_count": 7,
   "metadata": {},
   "outputs": [],
   "source": [
    "dJdW1, dJdW2 = NN.BP(X,y)"
   ]
  },
  {
   "cell_type": "code",
   "execution_count": 8,
   "metadata": {},
   "outputs": [
    {
     "data": {
      "text/plain": [
       "array([[-1.03115662,  0.61621264,  0.00222532,  0.33247856],\n",
       "       [-1.38311111,  0.65173284,  0.00156354,  0.07256971]])"
      ]
     },
     "execution_count": 8,
     "metadata": {},
     "output_type": "execute_result"
    }
   ],
   "source": [
    "### Weight Matrix dw1 \n",
    "dJdW1"
   ]
  },
  {
   "cell_type": "code",
   "execution_count": 9,
   "metadata": {},
   "outputs": [
    {
     "data": {
      "text/plain": [
       "array([[-2.20972708e+00],\n",
       "       [-1.33712115e-01],\n",
       "       [-2.11717961e-04],\n",
       "       [-1.48751439e-01]])"
      ]
     },
     "execution_count": 9,
     "metadata": {},
     "output_type": "execute_result"
    }
   ],
   "source": [
    "### Weight Matrix dw2\n",
    "dJdW2"
   ]
  },
  {
   "cell_type": "code",
   "execution_count": 10,
   "metadata": {},
   "outputs": [
    {
     "name": "stdout",
     "output_type": "stream",
     "text": [
      "[15099.57274349]\n",
      "[15052.82455645]\n",
      "[15052.66421726]\n",
      "[15052.60994776]\n",
      "[15052.58264564]\n",
      "[15052.5662083]\n",
      "[15052.55522593]\n",
      "[15052.54736925]\n",
      "[15052.54146998]\n",
      "[15052.53687758]\n"
     ]
    }
   ],
   "source": [
    "### Gradient Descent for Neural Network\n",
    "NN = NeuralNetwork()\n",
    "max_iter=1000\n",
    "iter=0\n",
    "\n",
    "learning_rate=.01\n",
    "\n",
    "while iter<max_iter:\n",
    "    dJdW1,dJdW2=NN.BP(X, y)\n",
    "    \n",
    "    NN.w1=NN.w1-learning_rate*dJdW1\n",
    "    NN.w2=NN.w2-learning_rate*dJdW2\n",
    "    \n",
    "    if iter%100==0:\n",
    "        print(NN.J(X, y))\n",
    "    \n",
    "    iter=iter+1"
   ]
  },
  {
   "cell_type": "code",
   "execution_count": null,
   "metadata": {},
   "outputs": [],
   "source": []
  }
 ],
 "metadata": {
  "kernelspec": {
   "display_name": "Python 3",
   "language": "python",
   "name": "python3"
  },
  "language_info": {
   "codemirror_mode": {
    "name": "ipython",
    "version": 3
   },
   "file_extension": ".py",
   "mimetype": "text/x-python",
   "name": "python",
   "nbconvert_exporter": "python",
   "pygments_lexer": "ipython3",
   "version": "3.6.5"
  }
 },
 "nbformat": 4,
 "nbformat_minor": 2
}
