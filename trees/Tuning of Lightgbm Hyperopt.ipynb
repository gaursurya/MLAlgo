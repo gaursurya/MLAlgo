{
 "cells": [
  {
   "cell_type": "code",
   "execution_count": 1,
   "metadata": {},
   "outputs": [],
   "source": [
    "import gc, math, pickle, datetime, os, random\n",
    "import numpy as np \n",
    "import pandas as pd \n",
    "from sklearn.model_selection import train_test_split\n",
    "from sklearn.metrics import mean_squared_log_error\n",
    "from sklearn.metrics import mean_squared_log_error\n",
    "from sklearn.preprocessing import LabelEncoder\n",
    "import lightgbm as lgb\n",
    "import matplotlib.pyplot as plt\n",
    "import seaborn as sns\n",
    "\n",
    "from pandas.plotting import register_matplotlib_converters\n",
    "register_matplotlib_converters()\n",
    "from matplotlib import pyplot,dates\n",
    "\n",
    "import warnings\n",
    "warnings.filterwarnings('ignore')\n",
    "import gc"
   ]
  },
  {
   "cell_type": "code",
   "execution_count": 2,
   "metadata": {},
   "outputs": [],
   "source": [
    "train=pd.read_csv('C:/Users/Pink/Desktop/Advance America/train.csv')\n",
    "test=pd.read_csv('C:/Users/Pink/Desktop/Advance America/test.csv')"
   ]
  },
  {
   "cell_type": "code",
   "execution_count": 3,
   "metadata": {},
   "outputs": [
    {
     "name": "stdout",
     "output_type": "stream",
     "text": [
      "Shape of Train (20839, 13)\n",
      "Shape of Test (1000, 12)\n"
     ]
    }
   ],
   "source": [
    "print('Shape of Train',train.shape)\n",
    "print('Shape of Test',test.shape)"
   ]
  },
  {
   "cell_type": "code",
   "execution_count": 4,
   "metadata": {},
   "outputs": [
    {
     "name": "stdout",
     "output_type": "stream",
     "text": [
      "Unique counts\n",
      " 0    18710\n",
      "1     2129\n",
      "Name: target, dtype: int64\n",
      "percentage with target 0 - 0.897835788665483\n",
      "percentage with target 1 - 0.10216421133451702\n"
     ]
    }
   ],
   "source": [
    "print('Unique counts\\n',train['target'].value_counts())\n",
    "print('percentage with target 0 -',train['target'].value_counts()[0]/len(train))\n",
    "print('percentage with target 1 -',train['target'].value_counts()[1]/len(train))"
   ]
  },
  {
   "cell_type": "code",
   "execution_count": 5,
   "metadata": {},
   "outputs": [
    {
     "name": "stdout",
     "output_type": "stream",
     "text": [
      "Creating Current Age variable\n",
      "for test\n"
     ]
    }
   ],
   "source": [
    "## 8760 -- 365*24\n",
    "import datetime as dt\n",
    "print('Creating Current Age variable')\n",
    "train['date_of_birth']=pd.to_datetime(train[\"date_of_birth\"])\n",
    "train['Age']=((dt.datetime.now() - train['date_of_birth']).astype('timedelta64[h]')/8760).apply(lambda x:np.floor(x))\n",
    "\n",
    "print('for test')\n",
    "test['date_of_birth']=pd.to_datetime(test[\"date_of_birth\"])\n",
    "test['Age']=((dt.datetime.now() - test['date_of_birth']).astype('timedelta64[h]')/8760).apply(lambda x:np.floor(x))"
   ]
  },
  {
   "cell_type": "code",
   "execution_count": 6,
   "metadata": {},
   "outputs": [
    {
     "name": "stdout",
     "output_type": "stream",
     "text": [
      "Creating Unique Features for test and train\n",
      "---------------------------------------\n",
      "---------------------------------------\n"
     ]
    }
   ],
   "source": [
    "print('Creating Unique Features for test and train')\n",
    "print('---------------------------------------')\n",
    "train['MI_num_opncrdlns_interact']=train['monthly_income']*train['number_open_credit_lines']\n",
    "train['score1_score2_interaction'] = ((train['score2']*train['score1']))\n",
    "train['credit_remain_after_debt'] =train.monthly_income - (train.debt_to_income_ratio*train.monthly_income)\n",
    "train['scr1_monthly_income_interact']=((train['score1']*train['monthly_income']))\n",
    "train['scr2_monthly_income_interact']=((train['score2']*train['monthly_income']))\n",
    "train['score1_score2_monthyInceome_interact']=train['score1']*train['score2']*train['monthly_income']\n",
    "train['Age_monthly_income']=train['monthly_income']/train['Age']\n",
    "train['monthly_remains']=train['monthly_income']/(10**-9+train['number_open_credit_lines'] + train['number_open_loans'] + train['number_dependants'])\n",
    "train['monthly_remains']=train['monthly_income']-train['monthly_remains']\n",
    "print('---------------------------------------')\n",
    "test['MI_num_opncrdlns_interact']=test['monthly_income']*test['number_open_credit_lines']\n",
    "test['score1_score2_interaction'] = ((test['score2']*test['score1']))\n",
    "test['credit_remain_after_debt'] =test.monthly_income - (test.debt_to_income_ratio*test.monthly_income)\n",
    "test['scr1_monthly_income_interact']=((test['score1']*test['monthly_income']))\n",
    "test['scr2_monthly_income_interact']=((test['score2']*test['monthly_income']))\n",
    "test['score1_score2_monthyInceome_interact']=test['score1']*test['score2']*test['monthly_income']\n",
    "\n",
    "#train['score2_score2'] = train['score2']*train['score2']\n",
    "#train['monthly_income_monthly_income'] = train['monthly_income']*train['monthly_income']\n",
    "\n",
    "test['Age_monthly_income']=test['monthly_income']/train['Age']\n",
    "\n",
    "test['monthly_remains']=test['monthly_income']/(10**-9+test['number_open_credit_lines'] + test['number_open_loans'] + test['number_dependants'])\n",
    "test['monthly_remains']=test['monthly_income']-test['monthly_remains']\n",
    "\n",
    "test['bin_monthly_income']=pd.cut(test['monthly_income'],bins = np.linspace(np.min(test['monthly_income'])-100, np.max(test['monthly_income']), num = 15))"
   ]
  },
  {
   "cell_type": "code",
   "execution_count": 7,
   "metadata": {},
   "outputs": [
    {
     "name": "stdout",
     "output_type": "stream",
     "text": [
      "Create Binnning of Monthly Income train and Test\n"
     ]
    }
   ],
   "source": [
    "print('Create Binnning of Monthly Income train and Test')\n",
    "train['bin_monthly_income']=pd.cut(train['monthly_income'],bins = np.linspace(np.min(train['monthly_income'])-100, np.max(train['monthly_income']), num = 15))\n",
    "test['bin_monthly_income']=pd.cut(test['monthly_income'],bins = np.linspace(np.min(test['monthly_income'])-100, np.max(test['monthly_income']), num = 15))"
   ]
  },
  {
   "cell_type": "code",
   "execution_count": 8,
   "metadata": {},
   "outputs": [],
   "source": [
    "from sklearn import preprocessing \n",
    "label_encoder = preprocessing.LabelEncoder()\n",
    "train['bin_monthly_income']= label_encoder.fit_transform(train['bin_monthly_income'])\n",
    "test['bin_monthly_income']= label_encoder.fit_transform(test['bin_monthly_income'])"
   ]
  },
  {
   "cell_type": "code",
   "execution_count": 9,
   "metadata": {},
   "outputs": [
    {
     "name": "stdout",
     "output_type": "stream",
     "text": [
      "Find-nan train: False\n",
      "Find-nan test: False\n"
     ]
    }
   ],
   "source": [
    "print('Find-nan train:',train.isnull().sum().any())\n",
    "print('Find-nan test:',test.isnull().sum().any())"
   ]
  },
  {
   "cell_type": "code",
   "execution_count": 10,
   "metadata": {},
   "outputs": [
    {
     "name": "stdout",
     "output_type": "stream",
     "text": [
      "Train\n",
      "X (20839, 20) Y (20839,)\n",
      "Test\n",
      "Number of columns in train and test should be same test 20 X-Train 20\n"
     ]
    }
   ],
   "source": [
    "print('Train')\n",
    "Y=train['target']\n",
    "X=train.drop(['id','date_of_birth','target'],axis=1)\n",
    "print('X',X.shape,'Y',Y.shape)\n",
    "\n",
    "print('Test')\n",
    "test=test.drop(['id','date_of_birth'],axis=1)\n",
    "\n",
    "print('Number of columns in train and test should be same','test',test.shape[1],'X-Train',X.shape[1])"
   ]
  },
  {
   "cell_type": "code",
   "execution_count": 11,
   "metadata": {},
   "outputs": [],
   "source": [
    "from sklearn.preprocessing import RobustScaler\n",
    "# Scaling..\n",
    "scaler = RobustScaler()\n",
    "X = scaler.fit_transform(X)\n",
    "test = scaler.fit_transform(test)"
   ]
  },
  {
   "cell_type": "markdown",
   "metadata": {},
   "source": [
    "#### Hyper parameter tuning of LightGBM"
   ]
  },
  {
   "cell_type": "code",
   "execution_count": 12,
   "metadata": {},
   "outputs": [],
   "source": [
    "from hyperopt import STATUS_OK\n",
    "from sklearn.model_selection import cross_val_score\n",
    "from sklearn.model_selection import StratifiedKFold\n",
    "\n",
    "def objective(params):\n",
    "    params = {\n",
    "        'max_depth': int(params['max_depth']),\n",
    "        'gamma': \"{:.3f}\".format(params['gamma']),\n",
    "        'subsample': \"{:.2f}\".format(params['subsample']),\n",
    "        'reg_alpha': \"{:.3f}\".format(params['reg_alpha']),\n",
    "        'reg_lambda': \"{:.3f}\".format(params['reg_lambda']),\n",
    "        'learning_rate': \"{:.3f}\".format(params['learning_rate']),\n",
    "        #'num_leaves': '{:.3f}'.format(params['num_leaves']),\n",
    "        'colsample_bytree': '{:.3f}'.format(params['colsample_bytree']),\n",
    "        'min_child_samples': '{:.3f}'.format(params['min_child_samples']),\n",
    "        'feature_fraction': '{:.3f}'.format(params['feature_fraction']),\n",
    "        'bagging_fraction': '{:.3f}'.format(params['bagging_fraction'])\n",
    "    }\n",
    "    \n",
    "    clf = lgb.LGBMClassifier(scale_pos_weight =(18710/2129),min_data_in_leaf=80,class_weight='balanced',n_estimators=500,**params)\n",
    "    \n",
    "    score = cross_val_score(clf, X, Y, scoring='roc_auc', cv=StratifiedKFold()).mean()\n",
    "    print(\"roc_auc {:.3f} params {}\".format(score, params))\n",
    "    return score"
   ]
  },
  {
   "cell_type": "code",
   "execution_count": 13,
   "metadata": {},
   "outputs": [],
   "source": [
    "from hyperopt import STATUS_OK, Trials, fmin, hp, tpe\n",
    "space = {\n",
    "\n",
    "    'max_depth': hp.quniform('max_depth', 7, 23, 1),\n",
    "\n",
    "    'reg_alpha':  hp.uniform('reg_alpha', 0.01, 0.4),\n",
    "\n",
    "    'reg_lambda': hp.uniform('reg_lambda', 0.01, .4),\n",
    "\n",
    "    'learning_rate': hp.uniform('learning_rate', 0.01, 0.2),\n",
    "\n",
    "    'colsample_bytree': hp.uniform('colsample_bytree', 0.3, .9),\n",
    "\n",
    "    'gamma': hp.uniform('gamma', 0.01, .7),\n",
    "\n",
    "   # 'num_leaves': hp.choice('num_leaves', list(range(20, 250, 10))),\n",
    "\n",
    "    'min_child_samples': hp.choice('min_child_samples', list(range(100, 250, 10))),\n",
    "\n",
    "    'subsample': hp.choice('subsample', [0.2, 0.4, 0.5, 0.6, 0.7, .8, .9]),\n",
    "\n",
    "    'feature_fraction': hp.uniform('feature_fraction', 0.4, .8),\n",
    "\n",
    "    'bagging_fraction': hp.uniform('bagging_fraction', 0.4, .9)\n",
    "\n",
    "}"
   ]
  },
  {
   "cell_type": "code",
   "execution_count": 14,
   "metadata": {},
   "outputs": [
    {
     "name": "stdout",
     "output_type": "stream",
     "text": [
      "roc_auc 0.724 params {'max_depth': 14, 'gamma': '0.498', 'subsample': '0.60', 'reg_alpha': '0.098', 'reg_lambda': '0.363', 'learning_rate': '0.171', 'colsample_bytree': '0.536', 'min_child_samples': '180.000', 'feature_fraction': '0.469', 'bagging_fraction': '0.491'}\n",
      "roc_auc 0.729 params {'max_depth': 20, 'gamma': '0.020', 'subsample': '0.20', 'reg_alpha': '0.305', 'reg_lambda': '0.162', 'learning_rate': '0.147', 'colsample_bytree': '0.746', 'min_child_samples': '140.000', 'feature_fraction': '0.543', 'bagging_fraction': '0.583'}\n",
      "roc_auc 0.723 params {'max_depth': 10, 'gamma': '0.404', 'subsample': '0.40', 'reg_alpha': '0.316', 'reg_lambda': '0.178', 'learning_rate': '0.180', 'colsample_bytree': '0.719', 'min_child_samples': '200.000', 'feature_fraction': '0.697', 'bagging_fraction': '0.621'}\n",
      "roc_auc 0.766 params {'max_depth': 8, 'gamma': '0.456', 'subsample': '0.70', 'reg_alpha': '0.254', 'reg_lambda': '0.199', 'learning_rate': '0.011', 'colsample_bytree': '0.427', 'min_child_samples': '200.000', 'feature_fraction': '0.744', 'bagging_fraction': '0.776'}\n",
      "roc_auc 0.761 params {'max_depth': 20, 'gamma': '0.190', 'subsample': '0.80', 'reg_alpha': '0.098', 'reg_lambda': '0.213', 'learning_rate': '0.027', 'colsample_bytree': '0.514', 'min_child_samples': '100.000', 'feature_fraction': '0.514', 'bagging_fraction': '0.561'}\n",
      "roc_auc 0.758 params {'max_depth': 23, 'gamma': '0.107', 'subsample': '0.80', 'reg_alpha': '0.025', 'reg_lambda': '0.100', 'learning_rate': '0.040', 'colsample_bytree': '0.889', 'min_child_samples': '100.000', 'feature_fraction': '0.417', 'bagging_fraction': '0.820'}\n",
      "roc_auc 0.730 params {'max_depth': 9, 'gamma': '0.223', 'subsample': '0.60', 'reg_alpha': '0.288', 'reg_lambda': '0.338', 'learning_rate': '0.143', 'colsample_bytree': '0.493', 'min_child_samples': '150.000', 'feature_fraction': '0.610', 'bagging_fraction': '0.723'}\n",
      "roc_auc 0.758 params {'max_depth': 13, 'gamma': '0.630', 'subsample': '0.60', 'reg_alpha': '0.363', 'reg_lambda': '0.318', 'learning_rate': '0.034', 'colsample_bytree': '0.409', 'min_child_samples': '110.000', 'feature_fraction': '0.508', 'bagging_fraction': '0.586'}\n",
      "roc_auc 0.765 params {'max_depth': 23, 'gamma': '0.527', 'subsample': '0.60', 'reg_alpha': '0.270', 'reg_lambda': '0.029', 'learning_rate': '0.022', 'colsample_bytree': '0.392', 'min_child_samples': '110.000', 'feature_fraction': '0.427', 'bagging_fraction': '0.866'}\n",
      "roc_auc 0.721 params {'max_depth': 17, 'gamma': '0.168', 'subsample': '0.60', 'reg_alpha': '0.195', 'reg_lambda': '0.061', 'learning_rate': '0.185', 'colsample_bytree': '0.885', 'min_child_samples': '140.000', 'feature_fraction': '0.538', 'bagging_fraction': '0.882'}\n",
      "roc_auc 0.748 params {'max_depth': 13, 'gamma': '0.308', 'subsample': '0.90', 'reg_alpha': '0.112', 'reg_lambda': '0.188', 'learning_rate': '0.059', 'colsample_bytree': '0.536', 'min_child_samples': '180.000', 'feature_fraction': '0.689', 'bagging_fraction': '0.617'}\n",
      "roc_auc 0.751 params {'max_depth': 8, 'gamma': '0.272', 'subsample': '0.50', 'reg_alpha': '0.399', 'reg_lambda': '0.076', 'learning_rate': '0.056', 'colsample_bytree': '0.851', 'min_child_samples': '150.000', 'feature_fraction': '0.569', 'bagging_fraction': '0.658'}\n",
      "roc_auc 0.744 params {'max_depth': 17, 'gamma': '0.141', 'subsample': '0.20', 'reg_alpha': '0.301', 'reg_lambda': '0.198', 'learning_rate': '0.073', 'colsample_bytree': '0.701', 'min_child_samples': '180.000', 'feature_fraction': '0.738', 'bagging_fraction': '0.700'}\n",
      "roc_auc 0.765 params {'max_depth': 15, 'gamma': '0.401', 'subsample': '0.80', 'reg_alpha': '0.214', 'reg_lambda': '0.235', 'learning_rate': '0.019', 'colsample_bytree': '0.379', 'min_child_samples': '150.000', 'feature_fraction': '0.464', 'bagging_fraction': '0.553'}\n",
      "roc_auc 0.741 params {'max_depth': 9, 'gamma': '0.656', 'subsample': '0.60', 'reg_alpha': '0.040', 'reg_lambda': '0.224', 'learning_rate': '0.093', 'colsample_bytree': '0.443', 'min_child_samples': '200.000', 'feature_fraction': '0.687', 'bagging_fraction': '0.836'}\n",
      "roc_auc 0.737 params {'max_depth': 11, 'gamma': '0.052', 'subsample': '0.90', 'reg_alpha': '0.072', 'reg_lambda': '0.084', 'learning_rate': '0.119', 'colsample_bytree': '0.659', 'min_child_samples': '170.000', 'feature_fraction': '0.598', 'bagging_fraction': '0.649'}\n",
      "roc_auc 0.725 params {'max_depth': 9, 'gamma': '0.212', 'subsample': '0.80', 'reg_alpha': '0.331', 'reg_lambda': '0.221', 'learning_rate': '0.160', 'colsample_bytree': '0.807', 'min_child_samples': '200.000', 'feature_fraction': '0.797', 'bagging_fraction': '0.419'}\n",
      "roc_auc 0.744 params {'max_depth': 18, 'gamma': '0.322', 'subsample': '0.60', 'reg_alpha': '0.310', 'reg_lambda': '0.180', 'learning_rate': '0.081', 'colsample_bytree': '0.611', 'min_child_samples': '120.000', 'feature_fraction': '0.633', 'bagging_fraction': '0.504'}\n",
      "roc_auc 0.762 params {'max_depth': 19, 'gamma': '0.284', 'subsample': '0.90', 'reg_alpha': '0.036', 'reg_lambda': '0.278', 'learning_rate': '0.022', 'colsample_bytree': '0.553', 'min_child_samples': '150.000', 'feature_fraction': '0.527', 'bagging_fraction': '0.788'}\n",
      "roc_auc 0.761 params {'max_depth': 22, 'gamma': '0.049', 'subsample': '0.60', 'reg_alpha': '0.216', 'reg_lambda': '0.166', 'learning_rate': '0.024', 'colsample_bytree': '0.462', 'min_child_samples': '200.000', 'feature_fraction': '0.707', 'bagging_fraction': '0.705'}\n",
      "roc_auc 0.721 params {'max_depth': 16, 'gamma': '0.389', 'subsample': '0.40', 'reg_alpha': '0.158', 'reg_lambda': '0.022', 'learning_rate': '0.200', 'colsample_bytree': '0.761', 'min_child_samples': '240.000', 'feature_fraction': '0.651', 'bagging_fraction': '0.413'}\n",
      "roc_auc 0.720 params {'max_depth': 16, 'gamma': '0.380', 'subsample': '0.40', 'reg_alpha': '0.156', 'reg_lambda': '0.011', 'learning_rate': '0.194', 'colsample_bytree': '0.798', 'min_child_samples': '240.000', 'feature_fraction': '0.637', 'bagging_fraction': '0.407'}\n",
      "roc_auc 0.721 params {'max_depth': 16, 'gamma': '0.549', 'subsample': '0.40', 'reg_alpha': '0.156', 'reg_lambda': '0.020', 'learning_rate': '0.197', 'colsample_bytree': '0.790', 'min_child_samples': '240.000', 'feature_fraction': '0.638', 'bagging_fraction': '0.405'}\n",
      "roc_auc 0.715 params {'max_depth': 12, 'gamma': '0.584', 'subsample': '0.40', 'reg_alpha': '0.140', 'reg_lambda': '0.129', 'learning_rate': '0.198', 'colsample_bytree': '0.798', 'min_child_samples': '240.000', 'feature_fraction': '0.636', 'bagging_fraction': '0.453'}\n",
      "roc_auc 0.730 params {'max_depth': 11, 'gamma': '0.600', 'subsample': '0.40', 'reg_alpha': '0.148', 'reg_lambda': '0.128', 'learning_rate': '0.123', 'colsample_bytree': '0.830', 'min_child_samples': '240.000', 'feature_fraction': '0.796', 'bagging_fraction': '0.461'}\n",
      "roc_auc 0.725 params {'max_depth': 12, 'gamma': '0.585', 'subsample': '0.40', 'reg_alpha': '0.190', 'reg_lambda': '0.127', 'learning_rate': '0.191', 'colsample_bytree': '0.324', 'min_child_samples': '190.000', 'feature_fraction': '0.585', 'bagging_fraction': '0.458'}\n",
      "roc_auc 0.726 params {'max_depth': 14, 'gamma': '0.477', 'subsample': '0.40', 'reg_alpha': '0.129', 'reg_lambda': '0.057', 'learning_rate': '0.164', 'colsample_bytree': '0.640', 'min_child_samples': '210.000', 'feature_fraction': '0.661', 'bagging_fraction': '0.505'}\n",
      "roc_auc 0.731 params {'max_depth': 15, 'gamma': '0.677', 'subsample': '0.70', 'reg_alpha': '0.066', 'reg_lambda': '0.128', 'learning_rate': '0.143', 'colsample_bytree': '0.678', 'min_child_samples': '130.000', 'feature_fraction': '0.747', 'bagging_fraction': '0.444'}\n",
      "roc_auc 0.724 params {'max_depth': 13, 'gamma': '0.698', 'subsample': '0.50', 'reg_alpha': '0.238', 'reg_lambda': '0.261', 'learning_rate': '0.168', 'colsample_bytree': '0.583', 'min_child_samples': '220.000', 'feature_fraction': '0.617', 'bagging_fraction': '0.534'}\n",
      "roc_auc 0.736 params {'max_depth': 14, 'gamma': '0.439', 'subsample': '0.40', 'reg_alpha': '0.083', 'reg_lambda': '0.104', 'learning_rate': '0.125', 'colsample_bytree': '0.842', 'min_child_samples': '230.000', 'feature_fraction': '0.561', 'bagging_fraction': '0.473'}\n",
      "roc_auc 0.725 params {'max_depth': 21, 'gamma': '0.513', 'subsample': '0.20', 'reg_alpha': '0.170', 'reg_lambda': '0.045', 'learning_rate': '0.176', 'colsample_bytree': '0.743', 'min_child_samples': '240.000', 'feature_fraction': '0.667', 'bagging_fraction': '0.403'}\n",
      "roc_auc 0.729 params {'max_depth': 11, 'gamma': '0.366', 'subsample': '0.40', 'reg_alpha': '0.121', 'reg_lambda': '0.152', 'learning_rate': '0.154', 'colsample_bytree': '0.783', 'min_child_samples': '160.000', 'feature_fraction': '0.721', 'bagging_fraction': '0.529'}\n",
      "roc_auc 0.741 params {'max_depth': 7, 'gamma': '0.565', 'subsample': '0.70', 'reg_alpha': '0.235', 'reg_lambda': '0.150', 'learning_rate': '0.105', 'colsample_bytree': '0.712', 'min_child_samples': '240.000', 'feature_fraction': '0.482', 'bagging_fraction': '0.439'}\n",
      "roc_auc 0.732 params {'max_depth': 19, 'gamma': '0.444', 'subsample': '0.40', 'reg_alpha': '0.136', 'reg_lambda': '0.289', 'learning_rate': '0.135', 'colsample_bytree': '0.882', 'min_child_samples': '240.000', 'feature_fraction': '0.770', 'bagging_fraction': '0.489'}\n",
      "roc_auc 0.720 params {'max_depth': 12, 'gamma': '0.486', 'subsample': '0.50', 'reg_alpha': '0.187', 'reg_lambda': '0.395', 'learning_rate': '0.199', 'colsample_bytree': '0.756', 'min_child_samples': '220.000', 'feature_fraction': '0.568', 'bagging_fraction': '0.590'}\n",
      "roc_auc 0.726 params {'max_depth': 17, 'gamma': '0.631', 'subsample': '0.40', 'reg_alpha': '0.097', 'reg_lambda': '0.107', 'learning_rate': '0.183', 'colsample_bytree': '0.623', 'min_child_samples': '160.000', 'feature_fraction': '0.622', 'bagging_fraction': '0.433'}\n",
      "roc_auc 0.722 params {'max_depth': 16, 'gamma': '0.323', 'subsample': '0.20', 'reg_alpha': '0.261', 'reg_lambda': '0.390', 'learning_rate': '0.173', 'colsample_bytree': '0.897', 'min_child_samples': '130.000', 'feature_fraction': '0.596', 'bagging_fraction': '0.518'}\n",
      "roc_auc 0.737 params {'max_depth': 10, 'gamma': '0.258', 'subsample': '0.70', 'reg_alpha': '0.013', 'reg_lambda': '0.012', 'learning_rate': '0.110', 'colsample_bytree': '0.682', 'min_child_samples': '230.000', 'feature_fraction': '0.775', 'bagging_fraction': '0.559'}\n",
      "roc_auc 0.731 params {'max_depth': 20, 'gamma': '0.361', 'subsample': '0.40', 'reg_alpha': '0.050', 'reg_lambda': '0.040', 'learning_rate': '0.153', 'colsample_bytree': '0.730', 'min_child_samples': '100.000', 'feature_fraction': '0.493', 'bagging_fraction': '0.743'}\n",
      "roc_auc 0.724 params {'max_depth': 12, 'gamma': '0.428', 'subsample': '0.40', 'reg_alpha': '0.176', 'reg_lambda': '0.249', 'learning_rate': '0.190', 'colsample_bytree': '0.867', 'min_child_samples': '140.000', 'feature_fraction': '0.459', 'bagging_fraction': '0.611'}\n",
      "roc_auc 0.735 params {'max_depth': 18, 'gamma': '0.527', 'subsample': '0.80', 'reg_alpha': '0.098', 'reg_lambda': '0.076', 'learning_rate': '0.135', 'colsample_bytree': '0.811', 'min_child_samples': '120.000', 'feature_fraction': '0.550', 'bagging_fraction': '0.657'}\n",
      "roc_auc 0.719 params {'max_depth': 14, 'gamma': '0.103', 'subsample': '0.90', 'reg_alpha': '0.348', 'reg_lambda': '0.347', 'learning_rate': '0.190', 'colsample_bytree': '0.586', 'min_child_samples': '190.000', 'feature_fraction': '0.673', 'bagging_fraction': '0.475'}\n",
      "roc_auc 0.742 params {'max_depth': 14, 'gamma': '0.071', 'subsample': '0.90', 'reg_alpha': '0.397', 'reg_lambda': '0.362', 'learning_rate': '0.091', 'colsample_bytree': '0.580', 'min_child_samples': '190.000', 'feature_fraction': '0.676', 'bagging_fraction': '0.483'}\n",
      "roc_auc 0.725 params {'max_depth': 7, 'gamma': '0.129', 'subsample': '0.90', 'reg_alpha': '0.344', 'reg_lambda': '0.329', 'learning_rate': '0.181', 'colsample_bytree': '0.517', 'min_child_samples': '190.000', 'feature_fraction': '0.706', 'bagging_fraction': '0.569'}\n",
      "roc_auc 0.725 params {'max_depth': 10, 'gamma': '0.027', 'subsample': '0.90', 'reg_alpha': '0.285', 'reg_lambda': '0.362', 'learning_rate': '0.166', 'colsample_bytree': '0.491', 'min_child_samples': '170.000', 'feature_fraction': '0.726', 'bagging_fraction': '0.633'}\n",
      "roc_auc 0.750 params {'max_depth': 13, 'gamma': '0.181', 'subsample': '0.90', 'reg_alpha': '0.363', 'reg_lambda': '0.308', 'learning_rate': '0.047', 'colsample_bytree': '0.347', 'min_child_samples': '110.000', 'feature_fraction': '0.766', 'bagging_fraction': '0.542'}\n",
      "roc_auc 0.731 params {'max_depth': 8, 'gamma': '0.088', 'subsample': '0.50', 'reg_alpha': '0.389', 'reg_lambda': '0.199', 'learning_rate': '0.156', 'colsample_bytree': '0.566', 'min_child_samples': '190.000', 'feature_fraction': '0.442', 'bagging_fraction': '0.676'}\n",
      "roc_auc 0.729 params {'max_depth': 15, 'gamma': '0.143', 'subsample': '0.90', 'reg_alpha': '0.278', 'reg_lambda': '0.340', 'learning_rate': '0.144', 'colsample_bytree': '0.477', 'min_child_samples': '180.000', 'feature_fraction': '0.654', 'bagging_fraction': '0.593'}\n",
      "roc_auc 0.734 params {'max_depth': 8, 'gamma': '0.231', 'subsample': '0.20', 'reg_alpha': '0.378', 'reg_lambda': '0.283', 'learning_rate': '0.132', 'colsample_bytree': '0.532', 'min_child_samples': '100.000', 'feature_fraction': '0.582', 'bagging_fraction': '0.765'}\n",
      "roc_auc 0.748 params {'max_depth': 12, 'gamma': '0.620', 'subsample': '0.80', 'reg_alpha': '0.327', 'reg_lambda': '0.242', 'learning_rate': '0.074', 'colsample_bytree': '0.638', 'min_child_samples': '210.000', 'feature_fraction': '0.403', 'bagging_fraction': '0.473'}\n",
      "100%|███████████████████████████████████████████████████| 50/50 [04:23<00:00,  5.24s/it, best loss: 0.7153153075342104]\n"
     ]
    }
   ],
   "source": [
    "best = fmin(fn=objective,\n",
    "            space=space,\n",
    "            algo=tpe.suggest,\n",
    "            max_evals=50)"
   ]
  },
  {
   "cell_type": "code",
   "execution_count": 15,
   "metadata": {},
   "outputs": [
    {
     "name": "stdout",
     "output_type": "stream",
     "text": [
      "Hyperopt estimated optimum {'bagging_fraction': 0.45254862303110904, 'colsample_bytree': 0.7984066186401673, 'feature_fraction': 0.6363231189182963, 'gamma': 0.5835222950636281, 'learning_rate': 0.19828196191779748, 'max_depth': 12.0, 'min_child_samples': 14, 'reg_alpha': 0.13969256712430847, 'reg_lambda': 0.12897453117675745, 'subsample': 1}\n"
     ]
    }
   ],
   "source": [
    "print(\"Hyperopt estimated optimum {}\".format(best))\n",
    "best['max_depth'] = int(best['max_depth'])"
   ]
  },
  {
   "cell_type": "code",
   "execution_count": 16,
   "metadata": {},
   "outputs": [],
   "source": [
    "columns=train.drop(['id','date_of_birth','target'],axis=1).columns\n"
   ]
  },
  {
   "cell_type": "code",
   "execution_count": 24,
   "metadata": {},
   "outputs": [],
   "source": [
    "lgb_params = {'bagging_fraction': 0.45254862303110904, \n",
    "              'colsample_bytree': 0.7930996128401728, \n",
    "              'feature_fraction': 0.6363231189182963, \n",
    "              'gamma': 0.5835222950636281, \n",
    "              'learning_rate': 0.1999421721926211, \n",
    "              'max_depth': 12, \n",
    "              'min_child_samples': 14, \n",
    "              'reg_alpha': 2.5, \n",
    "              'reg_lambda': 2.5, \n",
    "              'subsample': 0,\n",
    "              'scale_pos_weight' :(18710/2129),\n",
    "              'min_data_in_leaf':80,\n",
    "              'class_weight' :'balanced',\n",
    "                'objective' :'binary',\n",
    "                'boosting' : \"gbdt\",\n",
    "                'metric':\"auc\",\n",
    "                'boost_from_average':False\n",
    "             }"
   ]
  },
  {
   "cell_type": "code",
   "execution_count": 39,
   "metadata": {},
   "outputs": [],
   "source": [
    "lgb_params = {\n",
    "    'objective' :'binary',\n",
    "    'boosting' : \"gbdt\",\n",
    "    'metric':\"auc\",\n",
    "    'boost_from_average':False,\n",
    "    'num_threads':8,\n",
    "    'learning_rate' :.005,\n",
    "    'num_leaves' :13,\n",
    "    'max_depth':-1,\n",
    "    'feature_fraction' :0.041,\n",
    "    'bagging_freq' :5,\n",
    "    'bagging_fraction' :0.331,\n",
    "    'min_data_in_leaf' :80,\n",
    "    'min_sum_hessian_in_leaf' :10.0,\n",
    "    'verbosity' :1,\n",
    "    'num_iterations' :99999999,\n",
    "    'seed': 44000,\n",
    "    'scale_pos_weight' :(18710/2129)-1,\n",
    "    'reg_lambda': 5,\n",
    "    'reg_alpha': 5,\n",
    "    'min_child_weight': 0.1,\n",
    "    'max_bin': 150\n",
    "           }"
   ]
  },
  {
   "cell_type": "code",
   "execution_count": 40,
   "metadata": {},
   "outputs": [
    {
     "name": "stdout",
     "output_type": "stream",
     "text": [
      "Training until validation scores don't improve for 500 rounds\n",
      "[200]\ttraining's auc: 0.782052\tvalid_1's auc: 0.744393\n",
      "[400]\ttraining's auc: 0.786354\tvalid_1's auc: 0.749311\n",
      "[600]\ttraining's auc: 0.790684\tvalid_1's auc: 0.751619\n",
      "[800]\ttraining's auc: 0.794688\tvalid_1's auc: 0.754153\n",
      "[1000]\ttraining's auc: 0.798375\tvalid_1's auc: 0.755493\n",
      "[1200]\ttraining's auc: 0.802027\tvalid_1's auc: 0.756466\n",
      "[1400]\ttraining's auc: 0.805235\tvalid_1's auc: 0.756841\n",
      "[1600]\ttraining's auc: 0.808501\tvalid_1's auc: 0.7574\n",
      "[1800]\ttraining's auc: 0.811634\tvalid_1's auc: 0.757357\n",
      "[2000]\ttraining's auc: 0.814749\tvalid_1's auc: 0.757603\n",
      "[2200]\ttraining's auc: 0.817224\tvalid_1's auc: 0.757214\n",
      "[2400]\ttraining's auc: 0.819885\tvalid_1's auc: 0.756903\n",
      "Early stopping, best iteration is:\n",
      "[1930]\ttraining's auc: 0.813804\tvalid_1's auc: 0.757709\n",
      "Fold 1 | AUC: 0.7577087755689085\n",
      "Training until validation scores don't improve for 500 rounds\n",
      "[200]\ttraining's auc: 0.77782\tvalid_1's auc: 0.762037\n",
      "[400]\ttraining's auc: 0.782565\tvalid_1's auc: 0.763316\n",
      "[600]\ttraining's auc: 0.786959\tvalid_1's auc: 0.76561\n",
      "[800]\ttraining's auc: 0.791032\tvalid_1's auc: 0.7663\n",
      "[1000]\ttraining's auc: 0.794733\tvalid_1's auc: 0.767711\n",
      "[1200]\ttraining's auc: 0.798338\tvalid_1's auc: 0.769195\n",
      "[1400]\ttraining's auc: 0.801649\tvalid_1's auc: 0.769935\n",
      "[1600]\ttraining's auc: 0.804904\tvalid_1's auc: 0.770481\n",
      "[1800]\ttraining's auc: 0.808116\tvalid_1's auc: 0.770369\n",
      "[2000]\ttraining's auc: 0.81137\tvalid_1's auc: 0.770617\n",
      "[2200]\ttraining's auc: 0.814112\tvalid_1's auc: 0.770009\n",
      "Early stopping, best iteration is:\n",
      "[1884]\ttraining's auc: 0.809503\tvalid_1's auc: 0.770643\n",
      "Fold 2 | AUC: 0.7706427913134906\n",
      "Training until validation scores don't improve for 500 rounds\n",
      "[200]\ttraining's auc: 0.776104\tvalid_1's auc: 0.775251\n",
      "[400]\ttraining's auc: 0.780569\tvalid_1's auc: 0.77624\n",
      "[600]\ttraining's auc: 0.785251\tvalid_1's auc: 0.777419\n",
      "[800]\ttraining's auc: 0.789522\tvalid_1's auc: 0.778965\n",
      "[1000]\ttraining's auc: 0.793484\tvalid_1's auc: 0.780004\n",
      "[1200]\ttraining's auc: 0.797116\tvalid_1's auc: 0.780681\n",
      "[1400]\ttraining's auc: 0.800501\tvalid_1's auc: 0.780657\n",
      "[1600]\ttraining's auc: 0.803681\tvalid_1's auc: 0.780905\n",
      "[1800]\ttraining's auc: 0.806994\tvalid_1's auc: 0.781699\n",
      "[2000]\ttraining's auc: 0.810415\tvalid_1's auc: 0.781155\n",
      "[2200]\ttraining's auc: 0.813248\tvalid_1's auc: 0.780971\n",
      "Early stopping, best iteration is:\n",
      "[1823]\ttraining's auc: 0.807489\tvalid_1's auc: 0.781751\n",
      "Fold 3 | AUC: 0.7817043496115893\n",
      "Training until validation scores don't improve for 500 rounds\n",
      "[200]\ttraining's auc: 0.780804\tvalid_1's auc: 0.752853\n",
      "[400]\ttraining's auc: 0.785137\tvalid_1's auc: 0.755809\n",
      "[600]\ttraining's auc: 0.789724\tvalid_1's auc: 0.757432\n",
      "[800]\ttraining's auc: 0.793669\tvalid_1's auc: 0.758602\n",
      "[1000]\ttraining's auc: 0.797321\tvalid_1's auc: 0.759871\n",
      "[1200]\ttraining's auc: 0.800706\tvalid_1's auc: 0.76105\n",
      "[1400]\ttraining's auc: 0.803927\tvalid_1's auc: 0.761563\n",
      "[1600]\ttraining's auc: 0.807343\tvalid_1's auc: 0.762507\n",
      "[1800]\ttraining's auc: 0.810466\tvalid_1's auc: 0.762665\n",
      "[2000]\ttraining's auc: 0.813758\tvalid_1's auc: 0.762979\n",
      "[2200]\ttraining's auc: 0.816443\tvalid_1's auc: 0.762651\n",
      "[2400]\ttraining's auc: 0.819164\tvalid_1's auc: 0.762376\n",
      "Early stopping, best iteration is:\n",
      "[1953]\ttraining's auc: 0.812984\tvalid_1's auc: 0.763203\n",
      "Fold 4 | AUC: 0.7632027012932834\n",
      "Training until validation scores don't improve for 500 rounds\n",
      "[200]\ttraining's auc: 0.777958\tvalid_1's auc: 0.765541\n",
      "[400]\ttraining's auc: 0.782052\tvalid_1's auc: 0.768067\n",
      "[600]\ttraining's auc: 0.786922\tvalid_1's auc: 0.770659\n",
      "[800]\ttraining's auc: 0.790894\tvalid_1's auc: 0.772\n",
      "[1000]\ttraining's auc: 0.794464\tvalid_1's auc: 0.772846\n",
      "[1200]\ttraining's auc: 0.79819\tvalid_1's auc: 0.773091\n",
      "[1400]\ttraining's auc: 0.801335\tvalid_1's auc: 0.773007\n",
      "[1600]\ttraining's auc: 0.804904\tvalid_1's auc: 0.772944\n",
      "Early stopping, best iteration is:\n",
      "[1104]\ttraining's auc: 0.796488\tvalid_1's auc: 0.773242\n",
      "Fold 5 | AUC: 0.7732415626277934\n",
      "\n",
      "Mean AUC = 0.769300036083013\n",
      "Out of folds AUC = 0.7685313575803736\n"
     ]
    }
   ],
   "source": [
    "import lightgbm as lgb\n",
    "from sklearn.model_selection import KFold\n",
    "from sklearn.metrics import roc_auc_score\n",
    "NFOLDS = 5\n",
    "folds = KFold(n_splits=NFOLDS)\n",
    "\n",
    "feature_importances = pd.DataFrame()\n",
    "feature_importances['feature'] = columns\n",
    "\n",
    "\n",
    "splits = folds.split(X,Y)\n",
    "y_preds = np.zeros(test.shape[0])\n",
    "y_oof_lgb = np.zeros(X.shape[0])\n",
    "score = 0\n",
    "\n",
    "for fold_n, (train_index, valid_index) in enumerate(splits):\n",
    "    X_train, X_valid = X[train_index], X[valid_index]\n",
    "    y_train, y_valid = Y[train_index], Y[valid_index]\n",
    "    \n",
    "    dtrain = lgb.Dataset(X_train, label=y_train)\n",
    "    dvalid = lgb.Dataset(X_valid, label=y_valid)\n",
    "    \n",
    "    ## feature Importance\n",
    "    clf = lgb.train(lgb_params, dtrain, 600, valid_sets = [dtrain, dvalid], verbose_eval=200,early_stopping_rounds=500)\n",
    "    y_preds += clf.predict(test) / NFOLDS\n",
    "    \n",
    "\n",
    "    \n",
    "    feature_importances[f'fold_{fold_n + 1}'] = clf.feature_importance()\n",
    "    \n",
    "    y_pred_valid = clf.predict(X_valid)\n",
    "    y_oof_lgb[valid_index] = y_pred_valid\n",
    "    print(f\"Fold {fold_n + 1} | AUC: {roc_auc_score(y_valid, y_pred_valid)}\")\n",
    "    \n",
    "\n",
    "    \n",
    "    score += roc_auc_score(y_valid, y_pred_valid)/ NFOLDS\n",
    "    \n",
    "print(f\"\\nMean AUC = {score}\")\n",
    "print(f\"Out of folds AUC = {roc_auc_score(Y, y_oof_lgb)}\")\n"
   ]
  },
  {
   "cell_type": "code",
   "execution_count": 41,
   "metadata": {},
   "outputs": [
    {
     "data": {
      "image/png": "[encoded data removed]",
      "text/plain": [
       "<Figure size 1152x1152 with 1 Axes>"
      ]
     },
     "metadata": {
      "needs_background": "light"
     },
     "output_type": "display_data"
    }
   ],
   "source": [
    "feature_importances['average'] = feature_importances[[f'fold_{fold_n + 1}' for fold_n in range(folds.n_splits)]].mean(axis=1)\n",
    "feature_importances.to_csv('feature_importances.csv')\n",
    "\n",
    "plt.figure(figsize=(16, 16))\n",
    "sns.barplot(data=feature_importances.sort_values(by='average', ascending=False).head(50), x='average', y='feature');\n",
    "plt.title('50 TOP feature importance over {} folds average'.format(folds.n_splits));"
   ]
  },
  {
   "cell_type": "code",
   "execution_count": 42,
   "metadata": {},
   "outputs": [],
   "source": [
    "Y_test=np.zeros(y_preds.shape[0])\n",
    "for i in range(len(y_preds)):\n",
    "    if y_preds[i]>=.55:\n",
    "        Y_test[i]=1\n",
    "    else:\n",
    "        Y_test[i]=0"
   ]
  },
  {
   "cell_type": "code",
   "execution_count": 43,
   "metadata": {},
   "outputs": [
    {
     "data": {
      "text/plain": [
       "array([760, 240], dtype=int64)"
      ]
     },
     "execution_count": 43,
     "metadata": {},
     "output_type": "execute_result"
    }
   ],
   "source": [
    "unique_elements, counts_elements = np.unique(Y_test, return_counts=True)\n",
    "counts_elements"
   ]
  },
  {
   "cell_type": "code",
   "execution_count": null,
   "metadata": {},
   "outputs": [],
   "source": []
  }
 ],
 "metadata": {
  "kernelspec": {
   "display_name": "Python 3",
   "language": "python",
   "name": "python3"
  },
  "language_info": {
   "codemirror_mode": {
    "name": "ipython",
    "version": 3
   },
   "file_extension": ".py",
   "mimetype": "text/x-python",
   "name": "python",
   "nbconvert_exporter": "python",
   "pygments_lexer": "ipython3",
   "version": "3.7.3"
  }
 },
 "nbformat": 4,
 "nbformat_minor": 2
}
