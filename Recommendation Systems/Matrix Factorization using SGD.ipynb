{
 "cells": [
  {
   "cell_type": "code",
   "execution_count": 1,
   "metadata": {},
   "outputs": [],
   "source": [
    "import numpy as np\n",
    "import pandas as pd"
   ]
  },
  {
   "cell_type": "code",
   "execution_count": 2,
   "metadata": {},
   "outputs": [
    {
     "name": "stdout",
     "output_type": "stream",
     "text": [
      "P [[ 0.87971044  0.24722306 -0.13840838]\n",
      " [ 0.16075561  0.45867482  0.69856148]]\n",
      "Q [[-0.31586508 -0.13368587 -0.172719  ]\n",
      " [-0.21001784  0.29836012 -0.03329432]\n",
      " [-0.31357397  0.41231224 -0.0389786 ]\n",
      " [ 0.88666783 -0.11104982 -0.1398854 ]]\n",
      "R [[5 3 0 1]\n",
      " [4 0 0 1]]\n"
     ]
    }
   ],
   "source": [
    "# ## [1,1,0,5],[1,0,0,4],[0,1,5,4]\n",
    "R=np.array([[5,3,0,1],[4,0,0,1],])\n",
    "num_users,num_items=R.shape\n",
    "k=3\n",
    "P = np.random.normal(scale=1/k, size=(num_users,k))\n",
    "Q = np.random.normal(scale=1/k, size=(num_items,k))\n",
    "print('P',P)\n",
    "print('Q',Q)\n",
    "print('R',R)"
   ]
  },
  {
   "cell_type": "code",
   "execution_count": 3,
   "metadata": {},
   "outputs": [],
   "source": [
    "def matrix(R,P,Q,k,lr,epochs,Beta):\n",
    "    '''\n",
    "    lr is a learning Rate\n",
    "    K is a Latent features of a Matrix\n",
    "    epochs is Number of iterations    \n",
    "    P=P and Q=Q.T (Shape of P dot Q.T should be equal to R)\n",
    "    '''\n",
    "    Q=Q.T\n",
    "    \n",
    "    '''\n",
    "    How Matrix Notations Work Down below\n",
    "    R[0][0]=np.dot(P[0,:],Q[:,0])\n",
    "    \n",
    "    '''\n",
    "    for steps in range(1):\n",
    "        for i in range(len(R)):\n",
    "            for j in range(len(R[i])):\n",
    "                if R[i][j]>0:\n",
    "                    eij=R[i][j]-np.dot(P[i,:],Q[:,j])\n",
    "                    \n",
    "                    for K in range(k):\n",
    "                        P[i][K]= P[i][K]+lr*(2*eij*Q[K][j] - Beta*P[i,K])\n",
    "                        Q[K][j]=Q[K][j]+lr*(2*eij*P[i][K]- Beta*Q[K,j])\n",
    "                        \n",
    "        er_pred=np.dot(P,Q)\n",
    "        \n",
    "    return P,Q.T"
   ]
  },
  {
   "cell_type": "code",
   "execution_count": 4,
   "metadata": {},
   "outputs": [
    {
     "data": {
      "text/plain": [
       "(array([[ 0.87547192,  0.2476099 , -0.14050561],\n",
       "        [ 0.15994885,  0.45734006,  0.69680241]]),\n",
       " array([[-0.3052587 , -0.12721414, -0.16830226],\n",
       "        [-0.20458146,  0.29989802, -0.03416669],\n",
       "        [-0.31357397,  0.41231224, -0.0389786 ],\n",
       "        [ 0.8873929 , -0.11001249, -0.13854525]]))"
      ]
     },
     "execution_count": 4,
     "metadata": {},
     "output_type": "execute_result"
    }
   ],
   "source": [
    "matrix(R,P,Q,k=3,lr=.001,epochs=10000,Beta=.002)"
   ]
  },
  {
   "cell_type": "code",
   "execution_count": 5,
   "metadata": {},
   "outputs": [
    {
     "data": {
      "text/plain": [
       "array([[-0.27509749, -0.10004699, -0.1669559 ,  0.76911377],\n",
       "       [-0.22427932,  0.08062538,  0.11125073, -0.00491431]])"
      ]
     },
     "execution_count": 5,
     "metadata": {},
     "output_type": "execute_result"
    }
   ],
   "source": [
    "np.dot(P,Q.T)"
   ]
  },
  {
   "cell_type": "code",
   "execution_count": null,
   "metadata": {},
   "outputs": [],
   "source": []
  }
 ],
 "metadata": {
  "kernelspec": {
   "display_name": "Python 3",
   "language": "python",
   "name": "python3"
  },
  "language_info": {
   "codemirror_mode": {
    "name": "ipython",
    "version": 3
   },
   "file_extension": ".py",
   "mimetype": "text/x-python",
   "name": "python",
   "nbconvert_exporter": "python",
   "pygments_lexer": "ipython3",
   "version": "3.6.5"
  }
 },
 "nbformat": 4,
 "nbformat_minor": 2
}
