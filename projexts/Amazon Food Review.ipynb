{
 "cells": [
  {
   "cell_type": "code",
   "execution_count": 1,
   "metadata": {},
   "outputs": [],
   "source": [
    "import pandas as pd\n",
    "import numpy as np\n",
    "import tensorflow as tf\n",
    "from string import punctuation\n",
    "import matplotlib.pyplot as plt\n",
    "import seaborn as sns\n",
    "from sklearn.metrics import roc_curve, auc, classification_report\n",
    "from tqdm import tqdm_notebook as tqdm"
   ]
  },
  {
   "cell_type": "code",
   "execution_count": 2,
   "metadata": {},
   "outputs": [
    {
     "data": {
      "text/html": [
       "<div>\n",
       "<style scoped>\n",
       "    .dataframe tbody tr th:only-of-type {\n",
       "        vertical-align: middle;\n",
       "    }\n",
       "\n",
       "    .dataframe tbody tr th {\n",
       "        vertical-align: top;\n",
       "    }\n",
       "\n",
       "    .dataframe thead th {\n",
       "        text-align: right;\n",
       "    }\n",
       "</style>\n",
       "<table border=\"1\" class=\"dataframe\">\n",
       "  <thead>\n",
       "    <tr style=\"text-align: right;\">\n",
       "      <th></th>\n",
       "      <th>Id</th>\n",
       "      <th>ProductId</th>\n",
       "      <th>UserId</th>\n",
       "      <th>ProfileName</th>\n",
       "      <th>HelpfulnessNumerator</th>\n",
       "      <th>HelpfulnessDenominator</th>\n",
       "      <th>Score</th>\n",
       "      <th>Time</th>\n",
       "      <th>Summary</th>\n",
       "      <th>Text</th>\n",
       "    </tr>\n",
       "  </thead>\n",
       "  <tbody>\n",
       "    <tr>\n",
       "      <th>0</th>\n",
       "      <td>1</td>\n",
       "      <td>B001E4KFG0</td>\n",
       "      <td>A3SGXH7AUHU8GW</td>\n",
       "      <td>delmartian</td>\n",
       "      <td>1</td>\n",
       "      <td>1</td>\n",
       "      <td>5</td>\n",
       "      <td>1303862400</td>\n",
       "      <td>Good Quality Dog Food</td>\n",
       "      <td>I have bought several of the Vitality canned d...</td>\n",
       "    </tr>\n",
       "    <tr>\n",
       "      <th>1</th>\n",
       "      <td>2</td>\n",
       "      <td>B00813GRG4</td>\n",
       "      <td>A1D87F6ZCVE5NK</td>\n",
       "      <td>dll pa</td>\n",
       "      <td>0</td>\n",
       "      <td>0</td>\n",
       "      <td>1</td>\n",
       "      <td>1346976000</td>\n",
       "      <td>Not as Advertised</td>\n",
       "      <td>Product arrived labeled as Jumbo Salted Peanut...</td>\n",
       "    </tr>\n",
       "    <tr>\n",
       "      <th>2</th>\n",
       "      <td>3</td>\n",
       "      <td>B000LQOCH0</td>\n",
       "      <td>ABXLMWJIXXAIN</td>\n",
       "      <td>Natalia Corres \"Natalia Corres\"</td>\n",
       "      <td>1</td>\n",
       "      <td>1</td>\n",
       "      <td>4</td>\n",
       "      <td>1219017600</td>\n",
       "      <td>\"Delight\" says it all</td>\n",
       "      <td>This is a confection that has been around a fe...</td>\n",
       "    </tr>\n",
       "    <tr>\n",
       "      <th>3</th>\n",
       "      <td>4</td>\n",
       "      <td>B000UA0QIQ</td>\n",
       "      <td>A395BORC6FGVXV</td>\n",
       "      <td>Karl</td>\n",
       "      <td>3</td>\n",
       "      <td>3</td>\n",
       "      <td>2</td>\n",
       "      <td>1307923200</td>\n",
       "      <td>Cough Medicine</td>\n",
       "      <td>If you are looking for the secret ingredient i...</td>\n",
       "    </tr>\n",
       "    <tr>\n",
       "      <th>4</th>\n",
       "      <td>5</td>\n",
       "      <td>B006K2ZZ7K</td>\n",
       "      <td>A1UQRSCLF8GW1T</td>\n",
       "      <td>Michael D. Bigham \"M. Wassir\"</td>\n",
       "      <td>0</td>\n",
       "      <td>0</td>\n",
       "      <td>5</td>\n",
       "      <td>1350777600</td>\n",
       "      <td>Great taffy</td>\n",
       "      <td>Great taffy at a great price.  There was a wid...</td>\n",
       "    </tr>\n",
       "  </tbody>\n",
       "</table>\n",
       "</div>"
      ],
      "text/plain": [
       "   Id   ProductId          UserId                      ProfileName  \\\n",
       "0   1  B001E4KFG0  A3SGXH7AUHU8GW                       delmartian   \n",
       "1   2  B00813GRG4  A1D87F6ZCVE5NK                           dll pa   \n",
       "2   3  B000LQOCH0   ABXLMWJIXXAIN  Natalia Corres \"Natalia Corres\"   \n",
       "3   4  B000UA0QIQ  A395BORC6FGVXV                             Karl   \n",
       "4   5  B006K2ZZ7K  A1UQRSCLF8GW1T    Michael D. Bigham \"M. Wassir\"   \n",
       "\n",
       "   HelpfulnessNumerator  HelpfulnessDenominator  Score        Time  \\\n",
       "0                     1                       1      5  1303862400   \n",
       "1                     0                       0      1  1346976000   \n",
       "2                     1                       1      4  1219017600   \n",
       "3                     3                       3      2  1307923200   \n",
       "4                     0                       0      5  1350777600   \n",
       "\n",
       "                 Summary                                               Text  \n",
       "0  Good Quality Dog Food  I have bought several of the Vitality canned d...  \n",
       "1      Not as Advertised  Product arrived labeled as Jumbo Salted Peanut...  \n",
       "2  \"Delight\" says it all  This is a confection that has been around a fe...  \n",
       "3         Cough Medicine  If you are looking for the secret ingredient i...  \n",
       "4            Great taffy  Great taffy at a great price.  There was a wid...  "
      ]
     },
     "execution_count": 2,
     "metadata": {},
     "output_type": "execute_result"
    }
   ],
   "source": [
    "df=pd.read_csv('Amazon Reviews.csv')\n",
    "df.head()"
   ]
  },
  {
   "cell_type": "code",
   "execution_count": 3,
   "metadata": {},
   "outputs": [
    {
     "name": "stdout",
     "output_type": "stream",
     "text": [
      "Number of reviews: 568454\n"
     ]
    }
   ],
   "source": [
    "## print the Number of Reviews\n",
    "print(\"Number of reviews:\",len(df))"
   ]
  },
  {
   "cell_type": "code",
   "execution_count": 4,
   "metadata": {},
   "outputs": [
    {
     "data": {
      "image/png": "[encoded data removed]",
      "text/plain": [
       "<Figure size 432x288 with 1 Axes>"
      ]
     },
     "metadata": {},
     "output_type": "display_data"
    }
   ],
   "source": [
    "## Rating Distribution\n",
    "ax = plt.axes()\n",
    "sns.countplot(df.Score,ax=ax)\n",
    "ax.set_title('Rating Distribution')\n",
    "plt.show()"
   ]
  },
  {
   "cell_type": "code",
   "execution_count": 5,
   "metadata": {},
   "outputs": [
    {
     "data": {
      "text/plain": [
       "5    363122\n",
       "4     80655\n",
       "1     52268\n",
       "3     42640\n",
       "2     29769\n",
       "Name: Score, dtype: int64"
      ]
     },
     "execution_count": 5,
     "metadata": {},
     "output_type": "execute_result"
    }
   ],
   "source": [
    "## Number of Unique Count in Ratings\n",
    "df['Score'].value_counts()"
   ]
  },
  {
   "cell_type": "code",
   "execution_count": 6,
   "metadata": {},
   "outputs": [],
   "source": [
    "#Deleting all the duplicates having the same userID, Profile, NameTime and Text all in the same column.\n",
    "df1 =  df.drop_duplicates(subset={\"UserId\",\"ProfileName\",\"Time\",\"Text\"},keep=\"first\")\n",
    "df1=df1.reset_index(drop=True)"
   ]
  },
  {
   "cell_type": "code",
   "execution_count": 7,
   "metadata": {},
   "outputs": [
    {
     "name": "stdout",
     "output_type": "stream",
     "text": [
      "30.7 % reduction in data after deleting duplicates\n",
      "Size of data 393933  rows \n"
     ]
    }
   ],
   "source": [
    "size_diff = df1['Id'].size/df['Id'].size\n",
    "print(\"%.1f %% reduction in data after deleting duplicates\"%((1-size_diff)*100))\n",
    "print(\"Size of data\",df1['Id'].size,\" rows \")"
   ]
  },
  {
   "cell_type": "code",
   "execution_count": 8,
   "metadata": {},
   "outputs": [
    {
     "name": "stdout",
     "output_type": "stream",
     "text": [
      "Number of positive reviews--> 306850 \n",
      "Number of negative reviews--> 87083\n"
     ]
    }
   ],
   "source": [
    "## Working on positive and negeative reviews\n",
    "df_positive=df1.loc[df.Score>3,'Text']\n",
    "df_negeative=df1.loc[df.Score<=3,'Text']\n",
    "print('Number of positive reviews-->',len(df_positive),'\\nNumber of negative reviews-->',len(df_negeative))"
   ]
  },
  {
   "cell_type": "code",
   "execution_count": 9,
   "metadata": {},
   "outputs": [
    {
     "data": {
      "text/plain": [
       "0    1\n",
       "1    0\n",
       "2    1\n",
       "3    0\n",
       "4    1\n",
       "Name: Review_label, dtype: int64"
      ]
     },
     "execution_count": 9,
     "metadata": {},
     "output_type": "execute_result"
    }
   ],
   "source": [
    "df1['Review_label']= np.where(df1['Score']>3, 1, 0)\n",
    "df1['Review_label'].head()"
   ]
  },
  {
   "cell_type": "code",
   "execution_count": 10,
   "metadata": {},
   "outputs": [
    {
     "data": {
      "text/plain": [
       "393933"
      ]
     },
     "execution_count": 10,
     "metadata": {},
     "output_type": "execute_result"
    }
   ],
   "source": [
    "len(df1)"
   ]
  },
  {
   "cell_type": "code",
   "execution_count": 11,
   "metadata": {},
   "outputs": [
    {
     "data": {
      "image/png": "[encoded data removed]",
      "text/plain": [
       "<Figure size 432x288 with 1 Axes>"
      ]
     },
     "metadata": {},
     "output_type": "display_data"
    }
   ],
   "source": [
    "##negative vs positive \n",
    "ax = plt.axes()\n",
    "sns.countplot(df1.Review_label,ax=ax)\n",
    "ax.set_title('Rating Distribution')\n",
    "plt.show()"
   ]
  },
  {
   "cell_type": "code",
   "execution_count": 12,
   "metadata": {},
   "outputs": [
    {
     "name": "stdout",
     "output_type": "stream",
     "text": [
      "Total Number of Words in Positive Reviews--> 0 \n",
      "Total Number of Words in Positive Reviews--> 171086878\n"
     ]
    }
   ],
   "source": [
    "postive_review_words=0\n",
    "negative_review_words=0\n",
    "for i in range(len(df1)):\n",
    "    if df1['Review_label'][i]=='1':\n",
    "        postive_review_words=postive_review_words+len(df1['Text'][i])\n",
    "    else:\n",
    "        negative_review_words=negative_review_words+len(df1['Text'][i])\n",
    "print('Total Number of Words in Positive Reviews-->',postive_review_words,'\\nTotal Number of Words in Positive Reviews-->', negative_review_words)"
   ]
  },
  {
   "cell_type": "code",
   "execution_count": 13,
   "metadata": {},
   "outputs": [
    {
     "data": {
      "text/plain": [
       "263"
      ]
     },
     "execution_count": 13,
     "metadata": {},
     "output_type": "execute_result"
    }
   ],
   "source": [
    "## Length of First Sentence\n",
    "len(df1['Text'][0])"
   ]
  },
  {
   "cell_type": "code",
   "execution_count": 14,
   "metadata": {},
   "outputs": [
    {
     "data": {
      "text/html": [
       "<div>\n",
       "<style scoped>\n",
       "    .dataframe tbody tr th:only-of-type {\n",
       "        vertical-align: middle;\n",
       "    }\n",
       "\n",
       "    .dataframe tbody tr th {\n",
       "        vertical-align: top;\n",
       "    }\n",
       "\n",
       "    .dataframe thead th {\n",
       "        text-align: right;\n",
       "    }\n",
       "</style>\n",
       "<table border=\"1\" class=\"dataframe\">\n",
       "  <thead>\n",
       "    <tr style=\"text-align: right;\">\n",
       "      <th></th>\n",
       "      <th>Id</th>\n",
       "      <th>ProductId</th>\n",
       "      <th>UserId</th>\n",
       "      <th>ProfileName</th>\n",
       "      <th>HelpfulnessNumerator</th>\n",
       "      <th>HelpfulnessDenominator</th>\n",
       "      <th>Score</th>\n",
       "      <th>Time</th>\n",
       "      <th>Summary</th>\n",
       "      <th>Text</th>\n",
       "      <th>Review_label</th>\n",
       "    </tr>\n",
       "  </thead>\n",
       "  <tbody>\n",
       "    <tr>\n",
       "      <th>0</th>\n",
       "      <td>1</td>\n",
       "      <td>B001E4KFG0</td>\n",
       "      <td>A3SGXH7AUHU8GW</td>\n",
       "      <td>delmartian</td>\n",
       "      <td>1</td>\n",
       "      <td>1</td>\n",
       "      <td>5</td>\n",
       "      <td>1303862400</td>\n",
       "      <td>Good Quality Dog Food</td>\n",
       "      <td>I have bought several of the Vitality canned d...</td>\n",
       "      <td>1</td>\n",
       "    </tr>\n",
       "    <tr>\n",
       "      <th>1</th>\n",
       "      <td>2</td>\n",
       "      <td>B00813GRG4</td>\n",
       "      <td>A1D87F6ZCVE5NK</td>\n",
       "      <td>dll pa</td>\n",
       "      <td>0</td>\n",
       "      <td>0</td>\n",
       "      <td>1</td>\n",
       "      <td>1346976000</td>\n",
       "      <td>Not as Advertised</td>\n",
       "      <td>Product arrived labeled as Jumbo Salted Peanut...</td>\n",
       "      <td>0</td>\n",
       "    </tr>\n",
       "    <tr>\n",
       "      <th>2</th>\n",
       "      <td>3</td>\n",
       "      <td>B000LQOCH0</td>\n",
       "      <td>ABXLMWJIXXAIN</td>\n",
       "      <td>Natalia Corres \"Natalia Corres\"</td>\n",
       "      <td>1</td>\n",
       "      <td>1</td>\n",
       "      <td>4</td>\n",
       "      <td>1219017600</td>\n",
       "      <td>\"Delight\" says it all</td>\n",
       "      <td>This is a confection that has been around a fe...</td>\n",
       "      <td>1</td>\n",
       "    </tr>\n",
       "    <tr>\n",
       "      <th>3</th>\n",
       "      <td>4</td>\n",
       "      <td>B000UA0QIQ</td>\n",
       "      <td>A395BORC6FGVXV</td>\n",
       "      <td>Karl</td>\n",
       "      <td>3</td>\n",
       "      <td>3</td>\n",
       "      <td>2</td>\n",
       "      <td>1307923200</td>\n",
       "      <td>Cough Medicine</td>\n",
       "      <td>If you are looking for the secret ingredient i...</td>\n",
       "      <td>0</td>\n",
       "    </tr>\n",
       "    <tr>\n",
       "      <th>4</th>\n",
       "      <td>5</td>\n",
       "      <td>B006K2ZZ7K</td>\n",
       "      <td>A1UQRSCLF8GW1T</td>\n",
       "      <td>Michael D. Bigham \"M. Wassir\"</td>\n",
       "      <td>0</td>\n",
       "      <td>0</td>\n",
       "      <td>5</td>\n",
       "      <td>1350777600</td>\n",
       "      <td>Great taffy</td>\n",
       "      <td>Great taffy at a great price.  There was a wid...</td>\n",
       "      <td>1</td>\n",
       "    </tr>\n",
       "  </tbody>\n",
       "</table>\n",
       "</div>"
      ],
      "text/plain": [
       "   Id   ProductId          UserId                      ProfileName  \\\n",
       "0   1  B001E4KFG0  A3SGXH7AUHU8GW                       delmartian   \n",
       "1   2  B00813GRG4  A1D87F6ZCVE5NK                           dll pa   \n",
       "2   3  B000LQOCH0   ABXLMWJIXXAIN  Natalia Corres \"Natalia Corres\"   \n",
       "3   4  B000UA0QIQ  A395BORC6FGVXV                             Karl   \n",
       "4   5  B006K2ZZ7K  A1UQRSCLF8GW1T    Michael D. Bigham \"M. Wassir\"   \n",
       "\n",
       "   HelpfulnessNumerator  HelpfulnessDenominator  Score        Time  \\\n",
       "0                     1                       1      5  1303862400   \n",
       "1                     0                       0      1  1346976000   \n",
       "2                     1                       1      4  1219017600   \n",
       "3                     3                       3      2  1307923200   \n",
       "4                     0                       0      5  1350777600   \n",
       "\n",
       "                 Summary                                               Text  \\\n",
       "0  Good Quality Dog Food  I have bought several of the Vitality canned d...   \n",
       "1      Not as Advertised  Product arrived labeled as Jumbo Salted Peanut...   \n",
       "2  \"Delight\" says it all  This is a confection that has been around a fe...   \n",
       "3         Cough Medicine  If you are looking for the secret ingredient i...   \n",
       "4            Great taffy  Great taffy at a great price.  There was a wid...   \n",
       "\n",
       "   Review_label  \n",
       "0             1  \n",
       "1             0  \n",
       "2             1  \n",
       "3             0  \n",
       "4             1  "
      ]
     },
     "execution_count": 14,
     "metadata": {},
     "output_type": "execute_result"
    }
   ],
   "source": [
    "df1.head()"
   ]
  },
  {
   "cell_type": "markdown",
   "metadata": {},
   "source": [
    "### Data Pre-processing"
   ]
  },
  {
   "cell_type": "markdown",
   "metadata": {},
   "source": [
    "### Punctuations and Emoticons"
   ]
  },
  {
   "cell_type": "code",
   "execution_count": 15,
   "metadata": {},
   "outputs": [],
   "source": [
    "import os\n",
    "import re"
   ]
  },
  {
   "cell_type": "code",
   "execution_count": 16,
   "metadata": {},
   "outputs": [
    {
     "name": "stdout",
     "output_type": "stream",
     "text": [
      "Finding the Length of first paragraph after removing Punctuation--> 259\n"
     ]
    }
   ],
   "source": [
    "## Data Cleansing\n",
    "## Removing Punctuation and Lower-Case all the strings\n",
    "processed_docs_train_Punc=[]\n",
    "def remove_punc(text):\n",
    "    \n",
    "######  A\n",
    "    text = re.sub(r\"aren't\", \"arent\", text.lower())\n",
    "    \n",
    "######  C\n",
    "    text = re.sub(r\"can't\", \"cant\", text)\n",
    "    text = re.sub(r\"cant\", \"cant\", text)\n",
    "    text = re.sub(r\"could't\", \"couldnt\", text)\n",
    "    \n",
    "######  D\n",
    "    text = re.sub(r\"don't\", \"dont\", text)\n",
    "    text = re.sub(r\"doesn't\", \"doesnt\", text)\n",
    "    text = re.sub(r\"didn't\", \"didnt\", text) \n",
    "######  H\n",
    "    \n",
    "    text = re.sub(r\"haven't\", \"havent\", text)\n",
    "    text = re.sub(r\"hasn't\", \"hasnt\", text)\n",
    "    text = re.sub(r\"hadn't\", \"hadnt\", text)\n",
    "\n",
    "######  I    \n",
    "    text = re.sub(r\"isn't\", \"isnt\", text)\n",
    "    \n",
    "######  M\n",
    "    text = re.sub(r\"mightn't\", \"mightnt\", text)\n",
    "    text = re.sub(r\"mustn't\", \"mustnt\", text)\n",
    "    \n",
    "\n",
    "######  N    \n",
    "    text = re.sub(r\"needn't\", \"neednt\", text)\n",
    "    \n",
    "######  S\n",
    "    text = re.sub(r\"should't\", \"shouldnt\", text) \n",
    "    text = re.sub(r\"shouldn't\", \"shouldnt\", text)\n",
    "    text = re.sub(r\"shan't\", \"shant\", text)\n",
    "\n",
    "######  W\n",
    "    text = re.sub(r\"wouldn't\", \"wouldnt \", text)\n",
    "    text = re.sub(r\"weren't\", \"werent\", text)\n",
    "    text = re.sub(r\"won't\", \"wont\", text)\n",
    "    text = re.sub(r\"wasn't\", \"wasnt\", text)\n",
    "        \n",
    "    #text=re.sub(r\"nor\",\"not\",text)\n",
    "    \n",
    "    #text=re.sub(r\"nee\",\"not\",text)\n",
    "    #text=re.sub(r\"nie\",\"no\",text)\n",
    "    #text=re.sub(r\"na\",\"no\",text)\n",
    "    #text=re.sub(r\"ad\",\"and\",text)\n",
    "    text=re.sub(r\"com\",\" \",text)\n",
    "    text=re.sub(r\"www\",\" \",text)\n",
    "    text=re.sub(r\"http\",\" \",text)\n",
    "    text=re.sub(r\"href\",\" \",text)\n",
    "    text=re.sub(r\"br\",\" \",text)\n",
    "    ### Drop the Images\n",
    "    text = re.sub(r\"image:[a-zA-Z0-9]*\\.jpg\", \" \", text)\n",
    "    text = re.sub(r\"image:[a-zA-Z0-9]*\\.png\", \" \", text)\n",
    "    text = re.sub(r\"image:[a-zA-Z0-9]*\\.gif\", \" \", text)\n",
    "    text = re.sub(r\"image:[a-zA-Z0-9]*\\.bmp\", \" \", text)\n",
    "     # Drop css\n",
    "    text = re.sub(r\"#([A-Fa-f0-9]{6}|[A-Fa-f0-9]{3})\", \" \",text)\n",
    "    text = re.sub(r\"\\{\\|[^\\}]*\\|\\}\", \" \", text)\n",
    "    # Clean templates\n",
    "    text = re.sub(r\"\\[?\\[user:.*\\]\", \" \", text)\n",
    "    text = re.sub(r\"\\[?\\[user:.*\\|\", \" \", text)        \n",
    "    text = re.sub(r\"\\[?\\[wikipedia:.*\\]\", \" \", text)\n",
    "    text = re.sub(r\"\\[?\\[wikipedia:.*\\|\", \" \", text)\n",
    "    text = re.sub(r\"\\[?\\[special:.*\\]\", \" \", text)\n",
    "    text = re.sub(r\"\\[?\\[special:.*\\|\", \" \", text)\n",
    "    text = re.sub(r\"\\[?\\[category:.*\\]\", \" \", text)\n",
    "    text = re.sub(r\"\\[?\\[category:.*\\|\", \" \", text)\n",
    "    text = re.sub(r\"https?:\\/\\/(www\\.)?[-a-zA-Z0-9@:%._\\+~#=]{2,256}\\.[a-z]{2,6}\\b([-a-zA-Z0-9@:%_\\+.~#?&//=]*)\", \"\", text)\n",
    "    text = re.sub(r\"(25[0-5]|2[0-4][0-9]|[01]?[0-9][0-9]?)(\\.(25[0-5]|2[0-4][0-9]|[01]?[0-9][0-9]?)){3}\", \"\", text)\n",
    "    text=re.sub(r\"[^a-zA-Z0-9]+\",' ',text)\n",
    "    text = re.sub(r'[0-9]+', '', text)\n",
    "    text=re.sub(r'<[^>]+>','',text)\n",
    "    return text.lower()\n",
    "df1['Text'] = [remove_punc(df1['Text'][x]) for x in range(len(df1))]\n",
    "\n",
    "### Finding the Length of first paragraph after removing Punctuation\n",
    "print(('Finding the Length of first paragraph after removing Punctuation-->'),len(df1['Text'][0]))"
   ]
  },
  {
   "cell_type": "code",
   "execution_count": 17,
   "metadata": {},
   "outputs": [
    {
     "data": {
      "text/plain": [
       "'the mouth says how do i love thee let me count the ways if you like apple products a must have item the only draw back shipping cost these are very heavy '"
      ]
     },
     "execution_count": 17,
     "metadata": {},
     "output_type": "execute_result"
    }
   ],
   "source": [
    "df1['Text'][99]"
   ]
  },
  {
   "cell_type": "code",
   "execution_count": 18,
   "metadata": {},
   "outputs": [
    {
     "name": "stdout",
     "output_type": "stream",
     "text": [
      "Finding the Length of first paragraph after removing Emoticons--> 263\n"
     ]
    }
   ],
   "source": [
    "### Removing Emoticons\n",
    "def remove_emo(text):\n",
    "    emoji_pattern = re.compile(\"[\"\n",
    "        u\"\\U0001F600-\\U0001F64F\"  # emoticons\n",
    "        u\"\\U0001F300-\\U0001F5FF\"  # symbols & pictographs\n",
    "        u\"\\U0001F680-\\U0001F6FF\"  # transport & map symbols\n",
    "        u\"\\U0001F1E0-\\U0001F1FF\"  # flags (iOS)\n",
    "                           \"]+\", flags=re.UNICODE)\n",
    "    return emoji_pattern.sub(r'', text)\n",
    "df1['Text']  = [remove_emo(df1['Text'][x]) for x in range(len(df1))]\n",
    "\n",
    "print(('Finding the Length of first paragraph after removing Emoticons-->'),len(df['Text'][0]))"
   ]
  },
  {
   "cell_type": "markdown",
   "metadata": {},
   "source": [
    "### Stop-Words"
   ]
  },
  {
   "cell_type": "code",
   "execution_count": 19,
   "metadata": {},
   "outputs": [
    {
     "name": "stdout",
     "output_type": "stream",
     "text": [
      "143\n"
     ]
    }
   ],
   "source": [
    "stop_words=['a', 'about', 'above', 'after', 'again', 'against', 'all', 'am', 'an', 'and', 'any', 'are','as', 'at', 'be', 'because', 'been', 'before', 'being', 'below', 'between', 'both', 'but', 'by', 'can', 'd', 'did', 'do', 'does', 'doing', 'down', 'during', \n",
    "'each', 'few', 'for', 'from', 'further', 'had', 'has', 'have','having', 'he', 'her', 'here', 'hers', 'herself', 'him', 'himself', 'his', 'how', 'i', 'if', 'in', 'into', 'is', 'it', \"it's\", 'its', 'itself', 'just', 'll', 'm', 'ma', 'me','more', 'most','my', 'myself', 'now', 'o', 'of', 'off', 'on', 'once', 'only', 'or', 'other', 'our', 'ours', \n",
    " 'ourselves', 'out', 'over', 'own', 're', 's', 'same', 'shan', \"shan't\", 'she', \"she's\", 'should', \"should've\", 'so', 'some', \n",
    " 'such', 't', 'than', 'that', \"that'll\", 'the', 'their', 'theirs', 'them', 'themselves', \n",
    " 'then', 'there', 'these', 'they', 'this', 'those', 'through', 'to', 'too', 'under', 'until', 'up', 've', 'very', 'was','we', 'were','what', \n",
    " 'when', 'where', 'which', 'while', 'who', 'whom', 'why', \n",
    " 'will', 'with', 'won','y', 'you', \"you'd\", \"you'll\", \"you're\", \"you've\", 'your', 'yours', \n",
    " 'yourself', 'yourselves', 'like']\n",
    "### Removing not,no,nie\n",
    "print(len(stop_words))"
   ]
  },
  {
   "cell_type": "code",
   "execution_count": 20,
   "metadata": {},
   "outputs": [
    {
     "name": "stdout",
     "output_type": "stream",
     "text": [
      "Length of raw_docs_train Should be equal to 393933 = 393933\n"
     ]
    }
   ],
   "source": [
    "## Converting it into lists\n",
    "raw_docs_train = df1['Text'] .tolist()\n",
    "print('Length of raw_docs_train Should be equal to 393933 =',len(raw_docs_train))"
   ]
  },
  {
   "cell_type": "code",
   "execution_count": 21,
   "metadata": {},
   "outputs": [
    {
     "name": "stdout",
     "output_type": "stream",
     "text": [
      "[nltk_data] Downloading package punkt to /home/ec2-user/nltk_data...\n",
      "[nltk_data]   Package punkt is already up-to-date!\n"
     ]
    },
    {
     "data": {
      "text/plain": [
       "True"
      ]
     },
     "execution_count": 21,
     "metadata": {},
     "output_type": "execute_result"
    }
   ],
   "source": [
    "import nltk\n",
    "nltk.download('punkt')"
   ]
  },
  {
   "cell_type": "code",
   "execution_count": 22,
   "metadata": {},
   "outputs": [
    {
     "data": {
      "application/vnd.jupyter.widget-view+json": {
       "model_id": "5c10f7a191f1475c8ddcae1346ca397c",
       "version_major": 2,
       "version_minor": 0
      },
      "text/plain": [
       "HBox(children=(IntProgress(value=0, max=393933), HTML(value='')))"
      ]
     },
     "metadata": {},
     "output_type": "display_data"
    },
    {
     "name": "stdout",
     "output_type": "stream",
     "text": [
      "\n",
      "Finding the Length of first paragraph after removing Stop-Words--> 23\n",
      "Length of dataset 393933\n"
     ]
    }
   ],
   "source": [
    "## Removal of Stop Words\n",
    "processed_docs_train_SW = []\n",
    "for w in tqdm(range(len(raw_docs_train))):\n",
    "    tokenizer=nltk.word_tokenize(raw_docs_train[w])\n",
    "    filtered = [word for word in tokenizer if word not in stop_words]     \n",
    "    processed_docs_train_SW.append(filtered)\n",
    "\n",
    "print(('Finding the Length of first paragraph after removing Stop-Words-->'),(len(processed_docs_train_SW[0])))\n",
    "print('Length of dataset',len(processed_docs_train_SW))"
   ]
  },
  {
   "cell_type": "code",
   "execution_count": 23,
   "metadata": {},
   "outputs": [
    {
     "data": {
      "application/vnd.jupyter.widget-view+json": {
       "model_id": "e4ff34d012344e3cb987962893674963",
       "version_major": 2,
       "version_minor": 0
      },
      "text/plain": [
       "HBox(children=(IntProgress(value=0, max=393933), HTML(value='')))"
      ]
     },
     "metadata": {},
     "output_type": "display_data"
    },
    {
     "name": "stdout",
     "output_type": "stream",
     "text": [
      "\n"
     ]
    }
   ],
   "source": [
    "## Dictionay of unique Words\n",
    "words={}\n",
    "for wds in tqdm(range(len(processed_docs_train_SW))):\n",
    "    for w in processed_docs_train_SW[wds]:\n",
    "        if w in words:\n",
    "            words[w]=words[w]+1\n",
    "        else:\n",
    "            words[w]=1\n"
   ]
  },
  {
   "cell_type": "code",
   "execution_count": 24,
   "metadata": {},
   "outputs": [
    {
     "name": "stdout",
     "output_type": "stream",
     "text": [
      "Total Number of Words in a Dictionary after Removing Stop-Words--> 15842740\n"
     ]
    }
   ],
   "source": [
    "print('Total Number of Words in a Dictionary after Removing Stop-Words-->',sum(words.values()))"
   ]
  },
  {
   "cell_type": "code",
   "execution_count": 25,
   "metadata": {},
   "outputs": [],
   "source": [
    "#b = dict( (key, value) for (key, value) in a.items() if key == \"hello\" )\n",
    "sorted_words_dict=dict(sorted(words.items(), key=lambda kv: kv[0]))"
   ]
  },
  {
   "cell_type": "markdown",
   "metadata": {},
   "source": [
    "### lemmatization"
   ]
  },
  {
   "cell_type": "code",
   "execution_count": 26,
   "metadata": {},
   "outputs": [
    {
     "name": "stdout",
     "output_type": "stream",
     "text": [
      "[nltk_data] Downloading package wordnet to /home/ec2-user/nltk_data...\n",
      "[nltk_data]   Package wordnet is already up-to-date!\n"
     ]
    }
   ],
   "source": [
    "from nltk.stem import WordNetLemmatizer\n",
    "#import the nltk package\n",
    "import nltk\n",
    "#call the nltk downloader\n",
    "nltk.download('wordnet')\n",
    "wordnet_lemmatizer = WordNetLemmatizer()"
   ]
  },
  {
   "cell_type": "code",
   "execution_count": 27,
   "metadata": {},
   "outputs": [
    {
     "data": {
      "application/vnd.jupyter.widget-view+json": {
       "model_id": "0b31fbd66d1247b0b3165d7bfceab5e4",
       "version_major": 2,
       "version_minor": 0
      },
      "text/plain": [
       "HBox(children=(IntProgress(value=0, max=393933), HTML(value='')))"
      ]
     },
     "metadata": {},
     "output_type": "display_data"
    },
    {
     "name": "stdout",
     "output_type": "stream",
     "text": [
      "\n"
     ]
    }
   ],
   "source": [
    "processed_docs_train_Lemz=[]\n",
    "for w in tqdm(range(len(processed_docs_train_SW))):\n",
    "    lemmatization=[wordnet_lemmatizer.lemmatize(word) for word in processed_docs_train_SW[w] ]\n",
    "    #processed_docs_train_Lemz.append(\" \".join(lemmatization))\n",
    "    processed_docs_train_Lemz.append(lemmatization)\n",
    "\n",
    "#print(\"Length of Dataset after lemmatization is-->\",len(processed_docs_train_Lemz))"
   ]
  },
  {
   "cell_type": "code",
   "execution_count": 28,
   "metadata": {},
   "outputs": [
    {
     "data": {
      "application/vnd.jupyter.widget-view+json": {
       "model_id": "76853a4b512d460b82e88c103d7af9e7",
       "version_major": 2,
       "version_minor": 0
      },
      "text/plain": [
       "HBox(children=(IntProgress(value=0, max=393933), HTML(value='')))"
      ]
     },
     "metadata": {},
     "output_type": "display_data"
    },
    {
     "name": "stdout",
     "output_type": "stream",
     "text": [
      "\n"
     ]
    }
   ],
   "source": [
    "## Dictionay of unique Words\n",
    "words={}\n",
    "for wds in tqdm(range(len(processed_docs_train_Lemz))):\n",
    "    for w in processed_docs_train_Lemz[wds]:\n",
    "        if w in words:\n",
    "            words[w]=words[w]+1\n",
    "        else:\n",
    "            words[w]=1"
   ]
  },
  {
   "cell_type": "code",
   "execution_count": 29,
   "metadata": {},
   "outputs": [],
   "source": [
    "sorted_words_dict=dict(sorted(words.items(), key=lambda kv: kv[0]))"
   ]
  },
  {
   "cell_type": "code",
   "execution_count": 30,
   "metadata": {},
   "outputs": [
    {
     "name": "stdout",
     "output_type": "stream",
     "text": [
      "Length of Dump Words_1== 3969 \n",
      "Length of Dump Words_2== 7401 \n",
      "Length of Dump Words  == 11370\n"
     ]
    }
   ],
   "source": [
    "## 73311--v < 5\n",
    "## 28440--v > 5\n",
    "## 576 len(k) <3 and k!='no'\n",
    "## 4000 len(k) <4 and (k!='no' and k!='not' and k!='nor'          #######   \n",
    "dump_words_1=([k for (k,v) in sorted_words_dict.items() if len(k) <4 and (k!='no' and k!='not' and k!='nor' and k!='bad')])\n",
    "dump_words_2=([k for (k,v) in sorted_words_dict.items() if len(k) <5 and v<6])\n",
    "dump_words = sorted(dump_words_1+dump_words_2)\n",
    "print('Length of Dump Words_1==',len(dump_words_1),'\\nLength of Dump Words_2==',len(dump_words_2),'\\nLength of Dump Words  ==',len(dump_words))"
   ]
  },
  {
   "cell_type": "code",
   "execution_count": 31,
   "metadata": {},
   "outputs": [
    {
     "name": "stdout",
     "output_type": "stream",
     "text": [
      "Warning::: Dont Run this code use imported code\n"
     ]
    }
   ],
   "source": [
    "print('Warning::: Dont Run this code use imported code')\n",
    "### removing all three letter words  \n",
    "### I already saved this code in pickle so I am not going to run this code again as it takes 1.30 hrs\n",
    "#train_text=[]\n",
    "#for w in tqdm(range(len(processed_docs_train_Lemz))):\n",
    "#    filtered = [word for word in processed_docs_train_Lemz[w] if word not in dump_words] \n",
    "#    train_text.append(filtered)"
   ]
  },
  {
   "cell_type": "code",
   "execution_count": 32,
   "metadata": {},
   "outputs": [
    {
     "name": "stdout",
     "output_type": "stream",
     "text": [
      "Unloading the train_test case\n"
     ]
    }
   ],
   "source": [
    "print('Unloading the train_test case')\n",
    "import pickle\n",
    "##saving the file\n",
    "filename = 'train_text.sav'\n",
    "#pickle.dump(train_text, open(filename, 'wb'))\n",
    "# load the model from disk\n",
    "train_text = pickle.load(open(filename, 'rb'))"
   ]
  },
  {
   "cell_type": "code",
   "execution_count": 33,
   "metadata": {},
   "outputs": [],
   "source": [
    "sentence_length=[]\n",
    "for i in range(len(train_text)):\n",
    "    sentence_length.append(len(train_text[i]))"
   ]
  },
  {
   "cell_type": "code",
   "execution_count": 34,
   "metadata": {},
   "outputs": [
    {
     "name": "stderr",
     "output_type": "stream",
     "text": [
      "/home/ec2-user/anaconda3/envs/tensorflow_p36/lib/python3.6/site-packages/matplotlib/axes/_axes.py:6462: UserWarning: The 'normed' kwarg is deprecated, and has been replaced by the 'density' kwarg.\n",
      "  warnings.warn(\"The 'normed' kwarg is deprecated, and has been \"\n"
     ]
    },
    {
     "data": {
      "text/plain": [
       "[]"
      ]
     },
     "execution_count": 34,
     "metadata": {},
     "output_type": "execute_result"
    },
    {
     "data": {
      "image/png": "[encoded data removed]",
      "text/plain": [
       "<Figure size 432x288 with 1 Axes>"
      ]
     },
     "metadata": {},
     "output_type": "display_data"
    }
   ],
   "source": [
    "ax = plt.axes()\n",
    "sns.distplot(sentence_length)\n",
    "ax.set_title(\"Distribution of the review lengths\")\n",
    "plt.plot()"
   ]
  },
  {
   "cell_type": "code",
   "execution_count": 35,
   "metadata": {},
   "outputs": [
    {
     "data": {
      "application/vnd.jupyter.widget-view+json": {
       "model_id": "fa3cdde3e2204a7d83ac8060e077ba98",
       "version_major": 2,
       "version_minor": 0
      },
      "text/plain": [
       "HBox(children=(IntProgress(value=0, max=393933), HTML(value='')))"
      ]
     },
     "metadata": {},
     "output_type": "display_data"
    },
    {
     "name": "stdout",
     "output_type": "stream",
     "text": [
      "\n"
     ]
    }
   ],
   "source": [
    "words={}\n",
    "for wds in tqdm(range(len(train_text))):\n",
    "    for w in train_text[wds]:\n",
    "        if w in words:\n",
    "            words[w]=words[w]+1\n",
    "        else:\n",
    "            words[w]=1\n",
    "sorted_words_dict=dict(sorted(words.items(), key=lambda kv: kv[0]))"
   ]
  },
  {
   "cell_type": "code",
   "execution_count": 36,
   "metadata": {},
   "outputs": [
    {
     "name": "stdout",
     "output_type": "stream",
     "text": [
      "--------------------------Pre-Processening Completed-------------------------------------\n"
     ]
    }
   ],
   "source": [
    "print('--------------------------Pre-Processening Completed-------------------------------------')"
   ]
  },
  {
   "cell_type": "markdown",
   "metadata": {},
   "source": [
    "### Building own Word2VEC"
   ]
  },
  {
   "cell_type": "code",
   "execution_count": 37,
   "metadata": {
    "scrolled": false
   },
   "outputs": [],
   "source": [
    "from gensim.models import Word2Vec"
   ]
  },
  {
   "cell_type": "code",
   "execution_count": 38,
   "metadata": {},
   "outputs": [],
   "source": [
    "model = Word2Vec(train_text, size=248, window=5, min_count=5, workers=16, sg=0, negative=5)"
   ]
  },
  {
   "cell_type": "code",
   "execution_count": 39,
   "metadata": {},
   "outputs": [],
   "source": [
    "word_vectors = model.wv\n",
    "del model"
   ]
  },
  {
   "cell_type": "code",
   "execution_count": 40,
   "metadata": {},
   "outputs": [
    {
     "name": "stdout",
     "output_type": "stream",
     "text": [
      "Number of word vectors: 29160\n"
     ]
    }
   ],
   "source": [
    "print(\"Number of word vectors: {}\".format(len(word_vectors.vocab)))"
   ]
  },
  {
   "cell_type": "code",
   "execution_count": 41,
   "metadata": {},
   "outputs": [
    {
     "name": "stderr",
     "output_type": "stream",
     "text": [
      "/home/ec2-user/anaconda3/envs/tensorflow_p36/lib/python3.6/site-packages/ipykernel_launcher.py:2: DeprecationWarning: Call to deprecated `wv` (Attribute will be removed in 4.0.0, use self instead).\n",
      "  \n",
      "/home/ec2-user/anaconda3/envs/tensorflow_p36/lib/python3.6/site-packages/gensim/matutils.py:737: FutureWarning: Conversion of the second argument of issubdtype from `int` to `np.signedinteger` is deprecated. In future, it will be treated as `np.int64 == np.dtype(int).type`.\n",
      "  if np.issubdtype(vec.dtype, np.int):\n"
     ]
    },
    {
     "data": {
      "text/plain": [
       "[('chill', 0.5955677032470703),\n",
       " ('cooler', 0.5881722569465637),\n",
       " ('warm', 0.5701600313186646),\n",
       " ('warmer', 0.5271965265274048),\n",
       " ('cooled', 0.5109188556671143),\n",
       " ('chilled', 0.5080674886703491),\n",
       " ('fridge', 0.5045033693313599),\n",
       " ('cooling', 0.5030217170715332),\n",
       " ('refrigerator', 0.49794474244117737),\n",
       " ('frig', 0.48134157061576843)]"
      ]
     },
     "execution_count": 41,
     "metadata": {},
     "output_type": "execute_result"
    }
   ],
   "source": [
    "w1 = [\"cool\"]\n",
    "word_vectors.wv.most_similar (positive=w1)"
   ]
  },
  {
   "cell_type": "code",
   "execution_count": 42,
   "metadata": {},
   "outputs": [
    {
     "name": "stderr",
     "output_type": "stream",
     "text": [
      "/home/ec2-user/anaconda3/envs/tensorflow_p36/lib/python3.6/site-packages/ipykernel_launcher.py:2: DeprecationWarning: Call to deprecated `wv` (Attribute will be removed in 4.0.0, use self instead).\n",
      "  \n",
      "/home/ec2-user/anaconda3/envs/tensorflow_p36/lib/python3.6/site-packages/gensim/matutils.py:737: FutureWarning: Conversion of the second argument of issubdtype from `int` to `np.signedinteger` is deprecated. In future, it will be treated as `np.int64 == np.dtype(int).type`.\n",
      "  if np.issubdtype(vec.dtype, np.int):\n"
     ]
    },
    {
     "data": {
      "text/plain": [
       "[('enjoys', 0.7670320272445679),\n",
       " ('prefers', 0.7539985179901123),\n",
       " ('love', 0.6122958064079285),\n",
       " ('eats', 0.5677140355110168),\n",
       " ('liked', 0.5570693016052246),\n",
       " ('agrees', 0.5501819252967834),\n",
       " ('enjoy', 0.4763859808444977),\n",
       " ('dislike', 0.47622913122177124),\n",
       " ('adores', 0.4584408402442932),\n",
       " ('asks', 0.4556182622909546)]"
      ]
     },
     "execution_count": 42,
     "metadata": {},
     "output_type": "execute_result"
    }
   ],
   "source": [
    "w1 = [\"like\"]\n",
    "word_vectors.wv.most_similar (positive=w1)"
   ]
  },
  {
   "cell_type": "code",
   "execution_count": 43,
   "metadata": {},
   "outputs": [
    {
     "name": "stderr",
     "output_type": "stream",
     "text": [
      "/home/ec2-user/anaconda3/envs/tensorflow_p36/lib/python3.6/site-packages/ipykernel_launcher.py:2: DeprecationWarning: Call to deprecated `wv` (Attribute will be removed in 4.0.0, use self instead).\n",
      "  \n",
      "/home/ec2-user/anaconda3/envs/tensorflow_p36/lib/python3.6/site-packages/gensim/matutils.py:737: FutureWarning: Conversion of the second argument of issubdtype from `int` to `np.signedinteger` is deprecated. In future, it will be treated as `np.int64 == np.dtype(int).type`.\n",
      "  if np.issubdtype(vec.dtype, np.int):\n"
     ]
    },
    {
     "data": {
      "text/plain": [
       "[('isnt', 0.6981830596923828),\n",
       " ('arent', 0.6466144919395447),\n",
       " ('wasnt', 0.6377353668212891),\n",
       " ('werent', 0.5384491682052612),\n",
       " ('dont', 0.509763240814209),\n",
       " ('doesnt', 0.5070368051528931),\n",
       " ('didnt', 0.48687857389450073),\n",
       " ('neither', 0.4595584273338318),\n",
       " ('wouldnt', 0.45221439003944397),\n",
       " ('shouldnt', 0.4410492777824402)]"
      ]
     },
     "execution_count": 43,
     "metadata": {},
     "output_type": "execute_result"
    }
   ],
   "source": [
    "w1 = [\"not\"]\n",
    "word_vectors.wv.most_similar (positive=w1)"
   ]
  },
  {
   "cell_type": "markdown",
   "metadata": {},
   "source": [
    "### Word Embedding"
   ]
  },
  {
   "cell_type": "code",
   "execution_count": 44,
   "metadata": {},
   "outputs": [],
   "source": [
    "MAX_NB_WORDS = len(word_vectors.vocab)\n",
    "MAX_SEQUENCE_LENGTH = 200"
   ]
  },
  {
   "cell_type": "code",
   "execution_count": 45,
   "metadata": {},
   "outputs": [],
   "source": [
    "#word2index={MAX_NB_WORDS[i]:i for i in range(0,len(MAX_NB_WORDS))}\n",
    "#print(word_vectors.vocab)"
   ]
  },
  {
   "cell_type": "code",
   "execution_count": 46,
   "metadata": {},
   "outputs": [
    {
     "data": {
      "text/plain": [
       "True"
      ]
     },
     "execution_count": 46,
     "metadata": {},
     "output_type": "execute_result"
    }
   ],
   "source": [
    "'bought' in word_vectors.vocab.keys()"
   ]
  },
  {
   "cell_type": "code",
   "execution_count": 47,
   "metadata": {},
   "outputs": [],
   "source": [
    "merge_list=[]\n",
    "for k,v in enumerate(word_vectors.vocab):\n",
    "    merge_list.append(v)\n",
    "merge_list=sorted(merge_list)"
   ]
  },
  {
   "cell_type": "code",
   "execution_count": 48,
   "metadata": {},
   "outputs": [],
   "source": [
    "#Dictionary with Words2Indexing\n",
    "word2index={merge_list[i]:i+1 for i in range(0,len(merge_list))}\n",
    "##Index2Words\n",
    "Index2Words = dict((v,k) for k,v in word2index.items())"
   ]
  },
  {
   "cell_type": "code",
   "execution_count": 49,
   "metadata": {},
   "outputs": [
    {
     "name": "stdout",
     "output_type": "stream",
     "text": [
      "Warning:: Please dont run below query I already saved corpus through pickle\n"
     ]
    }
   ],
   "source": [
    "print('Warning:: Please dont run below query I already saved corpus through pickle')\n",
    "#corpus=[]\n",
    "#for w in tqdm(range(len(train_text))):\n",
    "#    filtered = [word for word in train_text[w] if word in merge_list] \n",
    "#    corpus.append(filtered)"
   ]
  },
  {
   "cell_type": "code",
   "execution_count": 50,
   "metadata": {},
   "outputs": [
    {
     "name": "stdout",
     "output_type": "stream",
     "text": [
      "Unpacking corpus\n"
     ]
    }
   ],
   "source": [
    "### Saving the corpus inside pickle\n",
    "print('Unpacking corpus')\n",
    "import pickle\n",
    "##saving the file\n",
    "filename = 'corpus.sav'\n",
    "#pickle.dump(corpus, open(filename, 'wb'))\n",
    "# load the model from disk\n",
    "corpus = pickle.load(open(filename, 'rb'))"
   ]
  },
  {
   "cell_type": "code",
   "execution_count": 51,
   "metadata": {},
   "outputs": [
    {
     "data": {
      "application/vnd.jupyter.widget-view+json": {
       "model_id": "f329da8d533e4d0b8a742f3598c49872",
       "version_major": 2,
       "version_minor": 0
      },
      "text/plain": [
       "HBox(children=(IntProgress(value=0, max=393933), HTML(value='')))"
      ]
     },
     "metadata": {},
     "output_type": "display_data"
    },
    {
     "name": "stdout",
     "output_type": "stream",
     "text": [
      "\n",
      "Integer Data ['28535', '11319', '25506', '17661', '9384', '19567', '25506', '8241', '15248', '9467', '28189', '21927', '2184', '15642', '18597', '10927', '19105', '16445', '2620', '14432', '9471', '18943', '17098', '18320', '9115', '12250', '14175', '28260', '28791', '15667', '25506', '6417', '26613'] \n",
      "Charater Data ['wild', 'hair', 'taffy', 'ordered', 'five', 'pound', 'taffy', 'enjoyable', 'many', 'flavor', 'watermelon', 'root', 'beer', 'melon', 'peppermint', 'grape', 'plaint', 'much', 'black', 'licorice', 'flavored', 'piece', 'not', 'particular', 'favorite', 'husband', 'lasted', 'week', 'would', 'mend', 'taffy', 'delightful', 'treat']\n"
     ]
    }
   ],
   "source": [
    "text=[]\n",
    "for i in tqdm(range(len(corpus))):\n",
    "    text.append([])\n",
    "    for xx in corpus[i]:\n",
    "        text[i].append(xx.replace(xx,str(word2index[xx])))\n",
    "        \n",
    "print('Integer Data',text[5],'\\nCharater Data',corpus[5]) "
   ]
  },
  {
   "cell_type": "code",
   "execution_count": 52,
   "metadata": {},
   "outputs": [
    {
     "name": "stdout",
     "output_type": "stream",
     "text": [
      "Integer Data ['5005', '1317', '3956', '14463', '18984', '4562', '10373', '3789', '9274', '26256', '24340', '14412', '4766', '19582', '25039', '26256', '16419', '11660', '17098', '4239', '9474', '11829', '15667', '29052', '26613', '9004', '24719', '14401', '14569', '28649', '28118', '26613', '7889', '22747', '23366', '28649'] \n",
      "Charater Data ['confection', 'around', 'century', 'light', 'pillowy', 'citrus', 'gelatin', 'case', 'filbert', 'tiny', 'square', 'liberally', 'coated', 'powdered', 'sugar', 'tiny', 'mouthful', 'heaven', 'not', 'chewy', 'flavorful', 'highly', 'mend', 'yummy', 'treat', 'familiar', 'story', 'lewis', 'lion', 'witch', 'wardrobe', 'treat', 'edmund', 'selling', 'sister', 'witch']\n"
     ]
    }
   ],
   "source": [
    "print('Integer Data',text[2],'\\nCharater Data',corpus[2]) "
   ]
  },
  {
   "cell_type": "markdown",
   "metadata": {},
   "source": [
    "### Word Embedding"
   ]
  },
  {
   "cell_type": "code",
   "execution_count": 53,
   "metadata": {},
   "outputs": [
    {
     "name": "stderr",
     "output_type": "stream",
     "text": [
      "Using TensorFlow backend.\n"
     ]
    }
   ],
   "source": [
    "from keras.preprocessing.sequence import pad_sequences"
   ]
  },
  {
   "cell_type": "code",
   "execution_count": 54,
   "metadata": {},
   "outputs": [],
   "source": [
    "MAX_SEQUENCE_LENGTH=200\n",
    "data = pad_sequences(text, maxlen=MAX_SEQUENCE_LENGTH, \n",
    "                     padding=\"pre\", truncating=\"post\")"
   ]
  },
  {
   "cell_type": "code",
   "execution_count": 55,
   "metadata": {},
   "outputs": [
    {
     "name": "stdout",
     "output_type": "stream",
     "text": [
      "Shape of the data--> (393933, 200)\n"
     ]
    }
   ],
   "source": [
    "print('Shape of the data-->',data.shape)"
   ]
  },
  {
   "cell_type": "markdown",
   "metadata": {},
   "source": [
    "### Train Test Split"
   ]
  },
  {
   "cell_type": "code",
   "execution_count": 56,
   "metadata": {},
   "outputs": [],
   "source": [
    "y=df1['Review_label']"
   ]
  },
  {
   "cell_type": "code",
   "execution_count": 57,
   "metadata": {},
   "outputs": [],
   "source": [
    "from sklearn.model_selection import train_test_split\n",
    "x_train, x_test, y_train, y_test = train_test_split(data,y, test_size=0.33, random_state=123)"
   ]
  },
  {
   "cell_type": "code",
   "execution_count": 58,
   "metadata": {},
   "outputs": [
    {
     "name": "stdout",
     "output_type": "stream",
     "text": [
      "Number transactions X_train dataset:  (263935, 200)\n",
      "Number transactions y_train dataset:  (263935,)\n",
      "Number transactions X_test dataset:  (129998, 200)\n",
      "Number transactions y_test dataset:  (129998,)\n"
     ]
    }
   ],
   "source": [
    "print(\"Number transactions X_train dataset: \", x_train.shape)\n",
    "print(\"Number transactions y_train dataset: \", y_train.shape)\n",
    "print(\"Number transactions X_test dataset: \", x_test.shape)\n",
    "print(\"Number transactions y_test dataset: \", y_test.shape)\n"
   ]
  },
  {
   "cell_type": "markdown",
   "metadata": {},
   "source": [
    "### Building LSTM without Oversampling"
   ]
  },
  {
   "cell_type": "code",
   "execution_count": 59,
   "metadata": {},
   "outputs": [],
   "source": [
    "from keras.layers import Dense, Input,CuDNNLSTM, Embedding, Dropout,SpatialDropout1D, Bidirectional\n",
    "from keras.models import Model\n",
    "from keras.optimizers import Adam\n",
    "from keras.layers.normalization import BatchNormalization\n"
   ]
  },
  {
   "cell_type": "code",
   "execution_count": 60,
   "metadata": {},
   "outputs": [
    {
     "name": "stderr",
     "output_type": "stream",
     "text": [
      "/home/ec2-user/anaconda3/envs/tensorflow_p36/lib/python3.6/site-packages/ipykernel_launcher.py:1: DeprecationWarning: Call to deprecated `wv` (Attribute will be removed in 4.0.0, use self instead).\n",
      "  \"\"\"Entry point for launching an IPython kernel.\n",
      "/home/ec2-user/anaconda3/envs/tensorflow_p36/lib/python3.6/site-packages/ipykernel_launcher.py:2: DeprecationWarning: Call to deprecated `wv` (Attribute will be removed in 4.0.0, use self instead).\n",
      "  \n",
      "/home/ec2-user/anaconda3/envs/tensorflow_p36/lib/python3.6/site-packages/ipykernel_launcher.py:3: DeprecationWarning: Call to deprecated `wv` (Attribute will be removed in 4.0.0, use self instead).\n",
      "  This is separate from the ipykernel package so we can avoid doing imports until\n"
     ]
    }
   ],
   "source": [
    "wv_matrix=word_vectors.wv.vectors\n",
    "nb_words=len(word_vectors.wv.vocab) ## Number of Unique Words present in corpus\n",
    "WV_DIM=word_vectors.wv.vector_size ## Size of a Window\n",
    "MAX_SEQUENCE_LENGTH=len(data[0])"
   ]
  },
  {
   "cell_type": "code",
   "execution_count": 61,
   "metadata": {},
   "outputs": [],
   "source": [
    "wv_layer = Embedding(nb_words,\n",
    "                     WV_DIM,\n",
    "                     mask_zero=False,\n",
    "                     weights=[wv_matrix],\n",
    "                     input_length=MAX_SEQUENCE_LENGTH,\n",
    "                     trainable=False)"
   ]
  },
  {
   "cell_type": "code",
   "execution_count": 62,
   "metadata": {},
   "outputs": [],
   "source": [
    "# Inputs\n",
    "comment_input = Input(shape=(MAX_SEQUENCE_LENGTH,), dtype='int32')\n",
    "embedded_sequences = wv_layer(comment_input)"
   ]
  },
  {
   "cell_type": "code",
   "execution_count": 63,
   "metadata": {},
   "outputs": [],
   "source": [
    "# LSTM\n",
    "embedded_sequences = SpatialDropout1D(0.2)(embedded_sequences)\n",
    "x = Bidirectional(CuDNNLSTM(64, return_sequences=False))(embedded_sequences)"
   ]
  },
  {
   "cell_type": "code",
   "execution_count": 64,
   "metadata": {},
   "outputs": [],
   "source": [
    "# Output\n",
    "x = Dropout(0.2)(x)\n",
    "x = BatchNormalization()(x)\n",
    "preds = Dense(1, activation='hard_sigmoid')(x)"
   ]
  },
  {
   "cell_type": "code",
   "execution_count": 65,
   "metadata": {},
   "outputs": [],
   "source": [
    "# build the model\n",
    "model_wos = Model(inputs=[comment_input], outputs=preds)\n",
    "model_wos.compile(loss='binary_crossentropy',\n",
    "              optimizer=Adam(lr=0.001, clipnorm=.25, beta_1=0.7, beta_2=0.99),\n",
    "             metrics=['accuracy'])"
   ]
  },
  {
   "cell_type": "code",
   "execution_count": 66,
   "metadata": {},
   "outputs": [
    {
     "name": "stdout",
     "output_type": "stream",
     "text": [
      "Train on 224344 samples, validate on 39591 samples\n",
      "Epoch 1/100\n",
      "224344/224344 [==============================] - 87s 390us/step - loss: 0.5471 - acc: 0.7736 - val_loss: 0.5749 - val_acc: 0.7903\n",
      "Epoch 2/100\n",
      "224344/224344 [==============================] - 85s 381us/step - loss: 0.4576 - acc: 0.8128 - val_loss: 0.4515 - val_acc: 0.8114\n",
      "Epoch 3/100\n",
      "224344/224344 [==============================] - 86s 382us/step - loss: 0.4406 - acc: 0.8234 - val_loss: 0.4214 - val_acc: 0.8252\n",
      "Epoch 4/100\n",
      "224344/224344 [==============================] - 86s 383us/step - loss: 0.4284 - acc: 0.8317 - val_loss: 0.4419 - val_acc: 0.8328\n",
      "Epoch 5/100\n",
      "224344/224344 [==============================] - 85s 380us/step - loss: 0.4219 - acc: 0.8365 - val_loss: 0.4295 - val_acc: 0.8446\n",
      "Epoch 6/100\n",
      "224344/224344 [==============================] - 86s 382us/step - loss: 0.4129 - acc: 0.8419 - val_loss: 0.4064 - val_acc: 0.8392\n",
      "Epoch 7/100\n",
      "224344/224344 [==============================] - 87s 386us/step - loss: 0.4031 - acc: 0.8459 - val_loss: 0.3950 - val_acc: 0.8481\n",
      "Epoch 8/100\n",
      "224344/224344 [==============================] - 86s 384us/step - loss: 0.3950 - acc: 0.8481 - val_loss: 0.4092 - val_acc: 0.8533\n",
      "Epoch 9/100\n",
      "224344/224344 [==============================] - 86s 385us/step - loss: 0.3934 - acc: 0.8520 - val_loss: 0.3841 - val_acc: 0.8531\n",
      "Epoch 10/100\n",
      "224344/224344 [==============================] - 85s 380us/step - loss: 0.3916 - acc: 0.8544 - val_loss: 0.4000 - val_acc: 0.8556\n",
      "Epoch 11/100\n",
      "224344/224344 [==============================] - 86s 383us/step - loss: 0.3928 - acc: 0.8573 - val_loss: 0.4109 - val_acc: 0.8572\n",
      "Epoch 12/100\n",
      "224344/224344 [==============================] - 85s 381us/step - loss: 0.3846 - acc: 0.8595 - val_loss: 0.4517 - val_acc: 0.8547\n",
      "Epoch 13/100\n",
      "224344/224344 [==============================] - 86s 382us/step - loss: 0.3831 - acc: 0.8618 - val_loss: 0.4313 - val_acc: 0.8558\n",
      "Epoch 14/100\n",
      "224344/224344 [==============================] - 87s 386us/step - loss: 0.3846 - acc: 0.8628 - val_loss: 0.4460 - val_acc: 0.8586\n",
      "Epoch 15/100\n",
      "224344/224344 [==============================] - 86s 385us/step - loss: 0.3797 - acc: 0.8647 - val_loss: 0.4548 - val_acc: 0.8610\n",
      "Epoch 16/100\n",
      "224344/224344 [==============================] - 86s 385us/step - loss: 0.3797 - acc: 0.8666 - val_loss: 0.4684 - val_acc: 0.8565\n",
      "Epoch 17/100\n",
      "224344/224344 [==============================] - 85s 380us/step - loss: 0.3719 - acc: 0.8677 - val_loss: 0.4587 - val_acc: 0.8545\n",
      "Epoch 18/100\n",
      "224344/224344 [==============================] - 86s 383us/step - loss: 0.3709 - acc: 0.8696 - val_loss: 0.4594 - val_acc: 0.8555\n",
      "Epoch 19/100\n",
      "224344/224344 [==============================] - 85s 380us/step - loss: 0.3708 - acc: 0.8709 - val_loss: 0.4178 - val_acc: 0.8641\n",
      "Epoch 20/100\n",
      "224344/224344 [==============================] - 86s 382us/step - loss: 0.3671 - acc: 0.8715 - val_loss: 0.4421 - val_acc: 0.8659\n",
      "Epoch 21/100\n",
      "224344/224344 [==============================] - 87s 386us/step - loss: 0.3684 - acc: 0.8728 - val_loss: 0.4655 - val_acc: 0.8634\n",
      "Epoch 22/100\n",
      "224344/224344 [==============================] - 86s 384us/step - loss: 0.3625 - acc: 0.8737 - val_loss: 0.4271 - val_acc: 0.8668\n",
      "Epoch 23/100\n",
      "224344/224344 [==============================] - 86s 385us/step - loss: 0.3639 - acc: 0.8745 - val_loss: 0.4818 - val_acc: 0.8655\n",
      "Epoch 24/100\n",
      "224344/224344 [==============================] - 85s 380us/step - loss: 0.3626 - acc: 0.8759 - val_loss: 0.4729 - val_acc: 0.8672\n",
      "Epoch 25/100\n",
      "224344/224344 [==============================] - 86s 383us/step - loss: 0.3541 - acc: 0.8772 - val_loss: 0.4939 - val_acc: 0.8655\n",
      "Epoch 26/100\n",
      "224344/224344 [==============================] - 85s 381us/step - loss: 0.3512 - acc: 0.8779 - val_loss: 0.4512 - val_acc: 0.8676\n",
      "Epoch 27/100\n",
      "224344/224344 [==============================] - 86s 382us/step - loss: 0.3590 - acc: 0.8786 - val_loss: 0.4589 - val_acc: 0.8684\n",
      "Epoch 28/100\n",
      "224344/224344 [==============================] - 87s 386us/step - loss: 0.3566 - acc: 0.8781 - val_loss: 0.4810 - val_acc: 0.8655\n",
      "Epoch 29/100\n",
      "224344/224344 [==============================] - 86s 385us/step - loss: 0.3519 - acc: 0.8804 - val_loss: 0.4684 - val_acc: 0.8686\n",
      "Epoch 30/100\n",
      "224344/224344 [==============================] - 86s 385us/step - loss: 0.3525 - acc: 0.8804 - val_loss: 0.4467 - val_acc: 0.8669\n",
      "Epoch 31/100\n",
      "224344/224344 [==============================] - 85s 380us/step - loss: 0.3545 - acc: 0.8816 - val_loss: 0.4893 - val_acc: 0.8695\n",
      "Epoch 32/100\n",
      "224344/224344 [==============================] - 86s 383us/step - loss: 0.3483 - acc: 0.8828 - val_loss: 0.4923 - val_acc: 0.8671\n",
      "Epoch 33/100\n",
      "224344/224344 [==============================] - 85s 381us/step - loss: 0.3488 - acc: 0.8828 - val_loss: 0.4950 - val_acc: 0.8709\n",
      "Epoch 34/100\n",
      "224344/224344 [==============================] - 86s 382us/step - loss: 0.3475 - acc: 0.8832 - val_loss: 0.4796 - val_acc: 0.8707\n",
      "Epoch 35/100\n",
      "224344/224344 [==============================] - 87s 386us/step - loss: 0.3478 - acc: 0.8837 - val_loss: 0.4234 - val_acc: 0.8702\n",
      "Epoch 36/100\n",
      "224344/224344 [==============================] - 86s 384us/step - loss: 0.3448 - acc: 0.8844 - val_loss: 0.5260 - val_acc: 0.8702\n",
      "Epoch 37/100\n",
      "224344/224344 [==============================] - 86s 385us/step - loss: 0.3399 - acc: 0.8854 - val_loss: 0.4856 - val_acc: 0.8695\n",
      "Epoch 38/100\n",
      "224344/224344 [==============================] - 85s 380us/step - loss: 0.3430 - acc: 0.8862 - val_loss: 0.4546 - val_acc: 0.8719\n",
      "Epoch 39/100\n",
      "224344/224344 [==============================] - 86s 383us/step - loss: 0.3425 - acc: 0.8866 - val_loss: 0.4993 - val_acc: 0.8717\n",
      "Epoch 40/100\n",
      "224344/224344 [==============================] - 85s 381us/step - loss: 0.3409 - acc: 0.8864 - val_loss: 0.5207 - val_acc: 0.8719\n",
      "Epoch 41/100\n",
      "224344/224344 [==============================] - 86s 382us/step - loss: 0.3476 - acc: 0.8878 - val_loss: 0.5466 - val_acc: 0.8704\n",
      "Epoch 42/100\n",
      "224344/224344 [==============================] - 87s 386us/step - loss: 0.3383 - acc: 0.8893 - val_loss: 0.5160 - val_acc: 0.8734\n",
      "Epoch 43/100\n",
      "224344/224344 [==============================] - 86s 385us/step - loss: 0.3389 - acc: 0.8894 - val_loss: 0.5330 - val_acc: 0.8648\n",
      "Epoch 44/100\n",
      "224344/224344 [==============================] - 86s 385us/step - loss: 0.3393 - acc: 0.8896 - val_loss: 0.4882 - val_acc: 0.8706\n",
      "Epoch 45/100\n",
      "224344/224344 [==============================] - 85s 381us/step - loss: 0.3447 - acc: 0.8904 - val_loss: 0.4928 - val_acc: 0.8709\n",
      "Epoch 46/100\n",
      "224344/224344 [==============================] - 86s 384us/step - loss: 0.3367 - acc: 0.8911 - val_loss: 0.4985 - val_acc: 0.8720\n",
      "Epoch 47/100\n",
      "224344/224344 [==============================] - 85s 380us/step - loss: 0.3333 - acc: 0.8915 - val_loss: 0.4591 - val_acc: 0.8733\n",
      "Epoch 48/100\n",
      "224344/224344 [==============================] - 86s 382us/step - loss: 0.3309 - acc: 0.8916 - val_loss: 0.4992 - val_acc: 0.8734\n",
      "Epoch 49/100\n",
      "224344/224344 [==============================] - 87s 387us/step - loss: 0.3336 - acc: 0.8920 - val_loss: 0.5074 - val_acc: 0.8727\n",
      "Epoch 50/100\n",
      "224344/224344 [==============================] - 86s 385us/step - loss: 0.3339 - acc: 0.8941 - val_loss: 0.5297 - val_acc: 0.8746\n",
      "Epoch 51/100\n",
      "224344/224344 [==============================] - 87s 386us/step - loss: 0.3291 - acc: 0.8938 - val_loss: 0.5698 - val_acc: 0.8723\n",
      "Epoch 52/100\n",
      "224344/224344 [==============================] - 85s 380us/step - loss: 0.3244 - acc: 0.8939 - val_loss: 0.5623 - val_acc: 0.8730\n",
      "Epoch 53/100\n",
      "224344/224344 [==============================] - 86s 384us/step - loss: 0.3285 - acc: 0.8952 - val_loss: 0.5300 - val_acc: 0.8730\n",
      "Epoch 54/100\n",
      "224344/224344 [==============================] - 86s 381us/step - loss: 0.3263 - acc: 0.8958 - val_loss: 0.5413 - val_acc: 0.8727\n",
      "Epoch 55/100\n",
      "224344/224344 [==============================] - 86s 383us/step - loss: 0.3229 - acc: 0.8968 - val_loss: 0.5242 - val_acc: 0.8735\n",
      "Epoch 56/100\n",
      "224344/224344 [==============================] - 87s 388us/step - loss: 0.3291 - acc: 0.8975 - val_loss: 0.5414 - val_acc: 0.8740\n",
      "Epoch 57/100\n",
      "224344/224344 [==============================] - 87s 386us/step - loss: 0.3257 - acc: 0.8970 - val_loss: 0.5832 - val_acc: 0.8719\n"
     ]
    },
    {
     "name": "stdout",
     "output_type": "stream",
     "text": [
      "Epoch 58/100\n",
      "224344/224344 [==============================] - 87s 386us/step - loss: 0.3259 - acc: 0.8972 - val_loss: 0.5404 - val_acc: 0.8733\n",
      "Epoch 59/100\n",
      "224344/224344 [==============================] - 86s 381us/step - loss: 0.3237 - acc: 0.8978 - val_loss: 0.6150 - val_acc: 0.8753\n",
      "Epoch 60/100\n",
      "224344/224344 [==============================] - 86s 384us/step - loss: 0.3198 - acc: 0.8993 - val_loss: 0.5511 - val_acc: 0.8724\n",
      "Epoch 61/100\n",
      "224344/224344 [==============================] - 86s 381us/step - loss: 0.3212 - acc: 0.8991 - val_loss: 0.6078 - val_acc: 0.8742\n",
      "Epoch 62/100\n",
      "224344/224344 [==============================] - 86s 383us/step - loss: 0.3238 - acc: 0.9000 - val_loss: 0.5920 - val_acc: 0.8743\n",
      "Epoch 63/100\n",
      "224344/224344 [==============================] - 87s 387us/step - loss: 0.3176 - acc: 0.9002 - val_loss: 0.5827 - val_acc: 0.8711\n",
      "Epoch 64/100\n",
      "224344/224344 [==============================] - 86s 385us/step - loss: 0.3194 - acc: 0.9013 - val_loss: 0.5572 - val_acc: 0.8692\n",
      "Epoch 65/100\n",
      "224344/224344 [==============================] - 87s 386us/step - loss: 0.3144 - acc: 0.9023 - val_loss: 0.5964 - val_acc: 0.8743\n",
      "Epoch 66/100\n",
      "224344/224344 [==============================] - 86s 381us/step - loss: 0.3151 - acc: 0.9025 - val_loss: 0.6161 - val_acc: 0.8675\n",
      "Epoch 67/100\n",
      "224344/224344 [==============================] - 86s 384us/step - loss: 0.3208 - acc: 0.9023 - val_loss: 0.6285 - val_acc: 0.8660\n",
      "Epoch 68/100\n",
      "224344/224344 [==============================] - 86s 381us/step - loss: 0.3150 - acc: 0.9044 - val_loss: 0.7414 - val_acc: 0.8718\n",
      "Epoch 69/100\n",
      "224344/224344 [==============================] - 86s 383us/step - loss: 0.3120 - acc: 0.9045 - val_loss: 0.5984 - val_acc: 0.8729\n",
      "Epoch 70/100\n",
      "224344/224344 [==============================] - 87s 387us/step - loss: 0.3168 - acc: 0.9047 - val_loss: 0.6164 - val_acc: 0.8699\n",
      "Epoch 71/100\n",
      "224344/224344 [==============================] - 86s 384us/step - loss: 0.3161 - acc: 0.9049 - val_loss: 0.6179 - val_acc: 0.8730\n",
      "Epoch 72/100\n",
      "224344/224344 [==============================] - 87s 386us/step - loss: 0.3141 - acc: 0.9058 - val_loss: 0.6886 - val_acc: 0.8738\n",
      "Epoch 73/100\n",
      "224344/224344 [==============================] - 85s 380us/step - loss: 0.3159 - acc: 0.9070 - val_loss: 0.6403 - val_acc: 0.8715\n",
      "Epoch 74/100\n",
      "224344/224344 [==============================] - 86s 384us/step - loss: 0.3227 - acc: 0.9068 - val_loss: 0.6838 - val_acc: 0.8742\n",
      "Epoch 75/100\n",
      "224344/224344 [==============================] - 86s 381us/step - loss: 0.3135 - acc: 0.9068 - val_loss: 0.6522 - val_acc: 0.8741\n",
      "Epoch 76/100\n",
      "224344/224344 [==============================] - 86s 382us/step - loss: 0.3059 - acc: 0.9076 - val_loss: 0.6157 - val_acc: 0.8714\n",
      "Epoch 77/100\n",
      "224344/224344 [==============================] - 87s 387us/step - loss: 0.3104 - acc: 0.9078 - val_loss: 0.6123 - val_acc: 0.8723\n",
      "Epoch 78/100\n",
      "224344/224344 [==============================] - 86s 385us/step - loss: 0.3054 - acc: 0.9091 - val_loss: 0.6706 - val_acc: 0.8733\n",
      "Epoch 79/100\n",
      "224344/224344 [==============================] - 86s 385us/step - loss: 0.3118 - acc: 0.9095 - val_loss: 0.6336 - val_acc: 0.8738\n",
      "Epoch 80/100\n",
      "224344/224344 [==============================] - 85s 381us/step - loss: 0.3064 - acc: 0.9097 - val_loss: 0.6905 - val_acc: 0.8737\n",
      "Epoch 81/100\n",
      "224344/224344 [==============================] - 86s 383us/step - loss: 0.3063 - acc: 0.9105 - val_loss: 0.6869 - val_acc: 0.8727\n",
      "Epoch 82/100\n",
      "224344/224344 [==============================] - 85s 380us/step - loss: 0.3092 - acc: 0.9098 - val_loss: 0.6788 - val_acc: 0.8747\n",
      "Epoch 83/100\n",
      "224344/224344 [==============================] - 86s 382us/step - loss: 0.3119 - acc: 0.9114 - val_loss: 0.6736 - val_acc: 0.8694\n",
      "Epoch 84/100\n",
      "224344/224344 [==============================] - 87s 386us/step - loss: 0.3053 - acc: 0.9111 - val_loss: 0.6883 - val_acc: 0.8701\n",
      "Epoch 85/100\n",
      "224344/224344 [==============================] - 86s 384us/step - loss: 0.3065 - acc: 0.9113 - val_loss: 0.7468 - val_acc: 0.8731\n",
      "Epoch 86/100\n",
      "224344/224344 [==============================] - 86s 385us/step - loss: 0.3083 - acc: 0.9115 - val_loss: 0.6832 - val_acc: 0.8713\n",
      "Epoch 87/100\n",
      "224344/224344 [==============================] - 85s 381us/step - loss: 0.3047 - acc: 0.9119 - val_loss: 0.7113 - val_acc: 0.8708\n",
      "Epoch 88/100\n",
      "224344/224344 [==============================] - 86s 383us/step - loss: 0.3062 - acc: 0.9126 - val_loss: 0.7002 - val_acc: 0.8720\n",
      "Epoch 89/100\n",
      "224344/224344 [==============================] - 85s 381us/step - loss: 0.3043 - acc: 0.9125 - val_loss: 0.6382 - val_acc: 0.8698\n",
      "Epoch 90/100\n",
      "224344/224344 [==============================] - 86s 382us/step - loss: 0.3027 - acc: 0.9140 - val_loss: 0.6456 - val_acc: 0.8633\n",
      "Epoch 91/100\n",
      "224344/224344 [==============================] - 87s 386us/step - loss: 0.3014 - acc: 0.9133 - val_loss: 0.7882 - val_acc: 0.8730\n",
      "Epoch 92/100\n",
      "224344/224344 [==============================] - 86s 384us/step - loss: 0.2972 - acc: 0.9145 - val_loss: 0.7021 - val_acc: 0.8716\n",
      "Epoch 93/100\n",
      "224344/224344 [==============================] - 86s 385us/step - loss: 0.3007 - acc: 0.9137 - val_loss: 0.7675 - val_acc: 0.8720\n",
      "Epoch 94/100\n",
      "224344/224344 [==============================] - 85s 380us/step - loss: 0.2995 - acc: 0.9146 - val_loss: 0.8230 - val_acc: 0.8727\n",
      "Epoch 95/100\n",
      "224344/224344 [==============================] - 86s 384us/step - loss: 0.3025 - acc: 0.9153 - val_loss: 0.7300 - val_acc: 0.8720\n",
      "Epoch 96/100\n",
      "224344/224344 [==============================] - 86s 381us/step - loss: 0.3040 - acc: 0.9160 - val_loss: 0.6950 - val_acc: 0.8725\n",
      "Epoch 97/100\n",
      "224344/224344 [==============================] - 86s 383us/step - loss: 0.3018 - acc: 0.9163 - val_loss: 0.7777 - val_acc: 0.8701\n",
      "Epoch 98/100\n",
      "224344/224344 [==============================] - 87s 387us/step - loss: 0.3018 - acc: 0.9155 - val_loss: 0.6954 - val_acc: 0.8690\n",
      "Epoch 99/100\n",
      "224344/224344 [==============================] - 86s 385us/step - loss: 0.2948 - acc: 0.9166 - val_loss: 0.7490 - val_acc: 0.8719\n",
      "Epoch 100/100\n",
      "224344/224344 [==============================] - 87s 386us/step - loss: 0.2975 - acc: 0.9172 - val_loss: 0.7602 - val_acc: 0.8728\n"
     ]
    }
   ],
   "source": [
    "hist_wos = model_wos.fit([x_train], y_train, validation_split=0.15,\n",
    "                 epochs=100, batch_size=256, shuffle=True)"
   ]
  },
  {
   "cell_type": "code",
   "execution_count": 67,
   "metadata": {},
   "outputs": [
    {
     "data": {
      "image/png": "[encoded data removed]",
      "text/plain": [
       "<Figure size 864x864 with 1 Axes>"
      ]
     },
     "metadata": {},
     "output_type": "display_data"
    }
   ],
   "source": [
    "history = pd.DataFrame(hist_wos.history)\n",
    "plt.figure(figsize=(12,12));\n",
    "plt.plot(history[\"loss\"]);\n",
    "plt.plot(history[\"val_loss\"]);\n",
    "plt.title(\"Loss with pretrained word vectors\");\n",
    "plt.show();"
   ]
  },
  {
   "cell_type": "code",
   "execution_count": 68,
   "metadata": {},
   "outputs": [],
   "source": [
    "y_pred=model_wos.predict(x_test)"
   ]
  },
  {
   "cell_type": "code",
   "execution_count": 73,
   "metadata": {},
   "outputs": [
    {
     "data": {
      "text/plain": [
       "array([[0.       ],\n",
       "       [1.       ],\n",
       "       [0.5034421],\n",
       "       [1.       ],\n",
       "       [0.       ],\n",
       "       [1.       ],\n",
       "       [0.9249657],\n",
       "       [0.8012835],\n",
       "       [0.       ],\n",
       "       [1.       ]], dtype=float32)"
      ]
     },
     "execution_count": 73,
     "metadata": {},
     "output_type": "execute_result"
    }
   ],
   "source": [
    "y_pred[0:10]"
   ]
  },
  {
   "cell_type": "code",
   "execution_count": 100,
   "metadata": {},
   "outputs": [],
   "source": [
    "## prediction of classes\n",
    "pred_class=[]\n",
    "for i in range(len(y_pred)):\n",
    "    if y_pred[i]>=.5:\n",
    "        pred_class.append(1)\n",
    "    else:\n",
    "        pred_class.append(0)\n",
    "        "
   ]
  },
  {
   "cell_type": "code",
   "execution_count": 101,
   "metadata": {},
   "outputs": [
    {
     "data": {
      "text/plain": [
       "[0, 1, 1, 1, 0, 1, 1, 1, 0, 1]"
      ]
     },
     "execution_count": 101,
     "metadata": {},
     "output_type": "execute_result"
    }
   ],
   "source": [
    "pred_class[0:10]"
   ]
  },
  {
   "cell_type": "code",
   "execution_count": 102,
   "metadata": {},
   "outputs": [
    {
     "name": "stdout",
     "output_type": "stream",
     "text": [
      "Accuracy on Test data-set 87.11518638748288\n"
     ]
    }
   ],
   "source": [
    "from sklearn.metrics import accuracy_score\n",
    "print('Accuracy on Test data-set',accuracy_score(y_test, pred_class)*100)"
   ]
  },
  {
   "cell_type": "code",
   "execution_count": 103,
   "metadata": {},
   "outputs": [
    {
     "name": "stdout",
     "output_type": "stream",
     "text": [
      "              precision    recall  f1-score   support\n",
      "\n",
      "           0       0.76      0.61      0.68     28828\n",
      "           1       0.90      0.95      0.92    101170\n",
      "\n",
      "   micro avg       0.87      0.87      0.87    129998\n",
      "   macro avg       0.83      0.78      0.80    129998\n",
      "weighted avg       0.87      0.87      0.87    129998\n",
      "\n"
     ]
    }
   ],
   "source": [
    "from sklearn.metrics import classification_report\n",
    "print(classification_report(y_test, pred_class))"
   ]
  },
  {
   "cell_type": "code",
   "execution_count": 104,
   "metadata": {},
   "outputs": [
    {
     "data": {
      "text/plain": [
       "array([[17631, 11197],\n",
       "       [ 5553, 95617]])"
      ]
     },
     "execution_count": 104,
     "metadata": {},
     "output_type": "execute_result"
    }
   ],
   "source": [
    "from sklearn.metrics import confusion_matrix\n",
    "cm=confusion_matrix(y_test, pred_class)\n",
    "cm"
   ]
  },
  {
   "cell_type": "code",
   "execution_count": 98,
   "metadata": {},
   "outputs": [],
   "source": [
    "from sklearn.metrics import roc_curve\n",
    "y_pred_keras = model_wos.predict(x_test).ravel()\n",
    "fpr_keras, tpr_keras, thresholds_keras = roc_curve(y_test, y_pred_keras)"
   ]
  },
  {
   "cell_type": "code",
   "execution_count": 105,
   "metadata": {},
   "outputs": [
    {
     "data": {
      "image/png": "[encoded data removed]",
      "text/plain": [
       "<Figure size 432x288 with 1 Axes>"
      ]
     },
     "metadata": {},
     "output_type": "display_data"
    }
   ],
   "source": [
    "from sklearn.metrics import auc\n",
    "auc_keras = auc(fpr_keras, tpr_keras)\n",
    "\n",
    "plt.figure(1)\n",
    "plt.plot([0, 1], [0, 1], 'k--')\n",
    "plt.plot(fpr_keras, tpr_keras, label='Keras (area = {:.3f})'.format(auc_keras))\n",
    "plt.xlabel('False positive rate')\n",
    "plt.ylabel('True positive rate')\n",
    "plt.title('ROC curve')\n",
    "plt.legend(loc='best')\n",
    "plt.show()"
   ]
  },
  {
   "cell_type": "markdown",
   "metadata": {},
   "source": [
    "### Building LSTM with Oversampling or Using SMOTE"
   ]
  },
  {
   "cell_type": "code",
   "execution_count": 106,
   "metadata": {},
   "outputs": [
    {
     "name": "stdout",
     "output_type": "stream",
     "text": [
      "Before OverSampling, counts of label '1': 205886\n",
      "Before OverSampling, counts of label '0': 58049\n"
     ]
    }
   ],
   "source": [
    "print(\"Before OverSampling, counts of label '1': {}\".format(sum(y_train==1)))\n",
    "print(\"Before OverSampling, counts of label '0': {}\".format(sum(y_train==0)))"
   ]
  },
  {
   "cell_type": "code",
   "execution_count": 107,
   "metadata": {},
   "outputs": [],
   "source": [
    "from imblearn.over_sampling import SMOTE"
   ]
  },
  {
   "cell_type": "code",
   "execution_count": null,
   "metadata": {},
   "outputs": [],
   "source": [
    "#sm = SMOTE(random_state=124)\n",
    "#x_train_res, y_train_res = sm.fit_sample(x_train, y_train.ravel())"
   ]
  },
  {
   "cell_type": "code",
   "execution_count": 119,
   "metadata": {},
   "outputs": [
    {
     "name": "stdout",
     "output_type": "stream",
     "text": [
      "Unpacking x_train_res\n"
     ]
    }
   ],
   "source": [
    "### Saving the corpus inside pickle\n",
    "print('Unpacking x_train_res')\n",
    "\n",
    "##saving the file\n",
    "filename = 'x_train_res.sav'\n",
    "#pickle.dump(x_train_res, open(filename, 'wb'))\n",
    "# load the model from disk\n",
    "x_train_res = pickle.load(open(filename, 'rb'))"
   ]
  },
  {
   "cell_type": "code",
   "execution_count": 120,
   "metadata": {},
   "outputs": [
    {
     "name": "stdout",
     "output_type": "stream",
     "text": [
      "Unpacking y_train_res\n"
     ]
    }
   ],
   "source": [
    "### Saving the corpus inside pickle\n",
    "print('Unpacking y_train_res')\n",
    "\n",
    "##saving the file\n",
    "filename = 'y_train_res.sav'\n",
    "#pickle.dump(y_train_res, open(filename, 'wb'))\n",
    "# load the model from disk\n",
    "y_train_res = pickle.load(open(filename, 'rb'))"
   ]
  },
  {
   "cell_type": "code",
   "execution_count": 121,
   "metadata": {},
   "outputs": [
    {
     "name": "stdout",
     "output_type": "stream",
     "text": [
      "After OverSampling, the shape of train_X: (411772, 200)\n",
      "After OverSampling, the shape of train_y: (411772,) \n",
      "\n",
      "After OverSampling, counts of label '1': 205886\n",
      "After OverSampling, counts of label '0': 205886\n"
     ]
    }
   ],
   "source": [
    "print('After OverSampling, the shape of train_X: {}'.format(x_train_res.shape))\n",
    "print('After OverSampling, the shape of train_y: {} \\n'.format(y_train_res.shape))\n",
    "\n",
    "print(\"After OverSampling, counts of label '1': {}\".format(sum(y_train_res==1)))\n",
    "print(\"After OverSampling, counts of label '0': {}\".format(sum(y_train_res==0)))"
   ]
  },
  {
   "cell_type": "code",
   "execution_count": 122,
   "metadata": {},
   "outputs": [
    {
     "name": "stderr",
     "output_type": "stream",
     "text": [
      "/home/ec2-user/anaconda3/envs/tensorflow_p36/lib/python3.6/site-packages/ipykernel_launcher.py:1: DeprecationWarning: Call to deprecated `wv` (Attribute will be removed in 4.0.0, use self instead).\n",
      "  \"\"\"Entry point for launching an IPython kernel.\n",
      "/home/ec2-user/anaconda3/envs/tensorflow_p36/lib/python3.6/site-packages/ipykernel_launcher.py:2: DeprecationWarning: Call to deprecated `wv` (Attribute will be removed in 4.0.0, use self instead).\n",
      "  \n",
      "/home/ec2-user/anaconda3/envs/tensorflow_p36/lib/python3.6/site-packages/ipykernel_launcher.py:3: DeprecationWarning: Call to deprecated `wv` (Attribute will be removed in 4.0.0, use self instead).\n",
      "  This is separate from the ipykernel package so we can avoid doing imports until\n"
     ]
    }
   ],
   "source": [
    "wv_matrix=word_vectors.wv.vectors\n",
    "nb_words=len(word_vectors.wv.vocab) ## Number of Unique Words present in corpus\n",
    "WV_DIM=word_vectors.wv.vector_size ## Size of a Window\n",
    "MAX_SEQUENCE_LENGTH=len(data[0])"
   ]
  },
  {
   "cell_type": "code",
   "execution_count": 123,
   "metadata": {},
   "outputs": [],
   "source": [
    "wv_layer = Embedding(nb_words,WV_DIM,mask_zero=False,weights=[wv_matrix],input_length=MAX_SEQUENCE_LENGTH,trainable=False)"
   ]
  },
  {
   "cell_type": "code",
   "execution_count": 124,
   "metadata": {},
   "outputs": [],
   "source": [
    "# Inputs\n",
    "comment_input = Input(shape=(MAX_SEQUENCE_LENGTH,), dtype='int32')\n",
    "embedded_sequences = wv_layer(comment_input)"
   ]
  },
  {
   "cell_type": "code",
   "execution_count": 125,
   "metadata": {},
   "outputs": [],
   "source": [
    "#LSTM\n",
    "embedded_sequences = SpatialDropout1D(0.2)(embedded_sequences)\n",
    "x = Bidirectional(CuDNNLSTM(128, return_sequences=False))(embedded_sequences)"
   ]
  },
  {
   "cell_type": "code",
   "execution_count": 126,
   "metadata": {},
   "outputs": [],
   "source": [
    "# Output\n",
    "x = Dropout(0.2)(x)\n",
    "x = BatchNormalization()(x)\n",
    "preds = Dense(1, activation='hard_sigmoid')(x)"
   ]
  },
  {
   "cell_type": "code",
   "execution_count": 127,
   "metadata": {},
   "outputs": [],
   "source": [
    "# build the model\n",
    "model_os = Model(inputs=[comment_input], outputs=preds)\n",
    "model_os.compile(loss='binary_crossentropy',\n",
    "              optimizer=Adam(lr=0.001, clipnorm=.25, beta_1=0.7, beta_2=0.99),\n",
    "              metrics=['accuracy'])"
   ]
  },
  {
   "cell_type": "code",
   "execution_count": 128,
   "metadata": {},
   "outputs": [
    {
     "name": "stdout",
     "output_type": "stream",
     "text": [
      "Train on 350006 samples, validate on 61766 samples\n",
      "Epoch 1/100\n",
      "350006/350006 [==============================] - 195s 558us/step - loss: 0.5378 - acc: 0.7881 - val_loss: 0.0924 - val_acc: 0.9734\n",
      "Epoch 2/100\n",
      "350006/350006 [==============================] - 194s 554us/step - loss: 0.4172 - acc: 0.8426 - val_loss: 0.0605 - val_acc: 0.9881\n",
      "Epoch 3/100\n",
      "350006/350006 [==============================] - 193s 551us/step - loss: 0.3916 - acc: 0.8571 - val_loss: 0.0326 - val_acc: 0.9904\n",
      "Epoch 4/100\n",
      "350006/350006 [==============================] - 193s 551us/step - loss: 0.3766 - acc: 0.8658 - val_loss: 0.0448 - val_acc: 0.9865\n",
      "Epoch 5/100\n",
      "350006/350006 [==============================] - 193s 553us/step - loss: 0.3644 - acc: 0.8730 - val_loss: 0.0283 - val_acc: 0.9937\n",
      "Epoch 6/100\n",
      "350006/350006 [==============================] - 193s 550us/step - loss: 0.3529 - acc: 0.8781 - val_loss: 0.0284 - val_acc: 0.9923\n",
      "Epoch 7/100\n",
      "350006/350006 [==============================] - 192s 550us/step - loss: 0.3503 - acc: 0.8815 - val_loss: 0.0216 - val_acc: 0.9933\n",
      "Epoch 8/100\n",
      "350006/350006 [==============================] - 192s 549us/step - loss: 0.3385 - acc: 0.8858 - val_loss: 0.0386 - val_acc: 0.9864\n",
      "Epoch 9/100\n",
      "350006/350006 [==============================] - 192s 550us/step - loss: 0.3303 - acc: 0.8890 - val_loss: 0.0362 - val_acc: 0.9895\n",
      "Epoch 10/100\n",
      "350006/350006 [==============================] - 193s 550us/step - loss: 0.3280 - acc: 0.8918 - val_loss: 0.0417 - val_acc: 0.9848\n",
      "Epoch 11/100\n",
      "350006/350006 [==============================] - 193s 551us/step - loss: 0.3249 - acc: 0.8937 - val_loss: 0.0265 - val_acc: 0.9930\n",
      "Epoch 12/100\n",
      "350006/350006 [==============================] - 192s 550us/step - loss: 0.3190 - acc: 0.8963 - val_loss: 0.0406 - val_acc: 0.9868\n",
      "Epoch 13/100\n",
      "350006/350006 [==============================] - 190s 542us/step - loss: 0.3129 - acc: 0.8988 - val_loss: 0.0350 - val_acc: 0.9879\n",
      "Epoch 14/100\n",
      "350006/350006 [==============================] - 193s 551us/step - loss: 0.3086 - acc: 0.9003 - val_loss: 0.0283 - val_acc: 0.9913\n",
      "Epoch 15/100\n",
      "350006/350006 [==============================] - 193s 552us/step - loss: 0.3073 - acc: 0.9027 - val_loss: 0.0165 - val_acc: 0.9961\n",
      "Epoch 16/100\n",
      "350006/350006 [==============================] - 193s 553us/step - loss: 0.3027 - acc: 0.9043 - val_loss: 0.0319 - val_acc: 0.9913\n",
      "Epoch 17/100\n",
      "350006/350006 [==============================] - 192s 549us/step - loss: 0.3006 - acc: 0.9054 - val_loss: 0.0465 - val_acc: 0.9870\n",
      "Epoch 18/100\n",
      "350006/350006 [==============================] - 189s 541us/step - loss: 0.2991 - acc: 0.9068 - val_loss: 0.0207 - val_acc: 0.9942\n",
      "Epoch 19/100\n",
      "350006/350006 [==============================] - 193s 551us/step - loss: 0.2934 - acc: 0.9086 - val_loss: 0.0565 - val_acc: 0.9853\n",
      "Epoch 20/100\n",
      "350006/350006 [==============================] - 193s 551us/step - loss: 0.2894 - acc: 0.9102 - val_loss: 0.0353 - val_acc: 0.9892\n",
      "Epoch 21/100\n",
      "350006/350006 [==============================] - 193s 553us/step - loss: 0.2890 - acc: 0.9113 - val_loss: 0.0209 - val_acc: 0.9936\n",
      "Epoch 22/100\n",
      "350006/350006 [==============================] - 192s 549us/step - loss: 0.2866 - acc: 0.9125 - val_loss: 0.0242 - val_acc: 0.9937\n",
      "Epoch 23/100\n",
      "350006/350006 [==============================] - 190s 541us/step - loss: 0.2851 - acc: 0.9137 - val_loss: 0.0293 - val_acc: 0.9930\n",
      "Epoch 24/100\n",
      "350006/350006 [==============================] - 193s 551us/step - loss: 0.2859 - acc: 0.9151 - val_loss: 0.0200 - val_acc: 0.9949\n",
      "Epoch 25/100\n",
      "350006/350006 [==============================] - 193s 551us/step - loss: 0.2818 - acc: 0.9165 - val_loss: 0.0281 - val_acc: 0.9926\n",
      "Epoch 26/100\n",
      "350006/350006 [==============================] - 193s 553us/step - loss: 0.2764 - acc: 0.9178 - val_loss: 0.0239 - val_acc: 0.9941\n",
      "Epoch 27/100\n",
      "350006/350006 [==============================] - 192s 549us/step - loss: 0.2757 - acc: 0.9187 - val_loss: 0.0208 - val_acc: 0.9947\n",
      "Epoch 28/100\n",
      "350006/350006 [==============================] - 190s 542us/step - loss: 0.2780 - acc: 0.9206 - val_loss: 0.0224 - val_acc: 0.9948\n",
      "Epoch 29/100\n",
      "350006/350006 [==============================] - 193s 551us/step - loss: 0.2712 - acc: 0.9213 - val_loss: 0.0349 - val_acc: 0.9920\n",
      "Epoch 30/100\n",
      "350006/350006 [==============================] - 193s 551us/step - loss: 0.2732 - acc: 0.9226 - val_loss: 0.0341 - val_acc: 0.9919\n",
      "Epoch 31/100\n",
      "350006/350006 [==============================] - 193s 553us/step - loss: 0.2697 - acc: 0.9248 - val_loss: 0.0335 - val_acc: 0.9915\n",
      "Epoch 32/100\n",
      "350006/350006 [==============================] - 192s 550us/step - loss: 0.2700 - acc: 0.9255 - val_loss: 0.0340 - val_acc: 0.9929\n",
      "Epoch 33/100\n",
      "350006/350006 [==============================] - 190s 542us/step - loss: 0.2656 - acc: 0.9266 - val_loss: 0.0266 - val_acc: 0.9933\n",
      "Epoch 34/100\n",
      "350006/350006 [==============================] - 193s 552us/step - loss: 0.2679 - acc: 0.9281 - val_loss: 0.0491 - val_acc: 0.9877\n",
      "Epoch 35/100\n",
      "350006/350006 [==============================] - 193s 552us/step - loss: 0.2614 - acc: 0.9292 - val_loss: 0.0258 - val_acc: 0.9947\n",
      "Epoch 36/100\n",
      "350006/350006 [==============================] - 194s 554us/step - loss: 0.2594 - acc: 0.9306 - val_loss: 0.0210 - val_acc: 0.9954\n",
      "Epoch 37/100\n",
      "350006/350006 [==============================] - 193s 551us/step - loss: 0.2539 - acc: 0.9310 - val_loss: 0.0484 - val_acc: 0.9902\n",
      "Epoch 38/100\n",
      "350006/350006 [==============================] - 192s 547us/step - loss: 0.2546 - acc: 0.9321 - val_loss: 0.0337 - val_acc: 0.9926\n",
      "Epoch 39/100\n",
      "350006/350006 [==============================] - 193s 552us/step - loss: 0.2513 - acc: 0.9332 - val_loss: 0.0660 - val_acc: 0.9877\n",
      "Epoch 40/100\n",
      "350006/350006 [==============================] - 192s 550us/step - loss: 0.2524 - acc: 0.9345 - val_loss: 0.0349 - val_acc: 0.9927\n",
      "Epoch 41/100\n",
      "350006/350006 [==============================] - 193s 553us/step - loss: 0.2471 - acc: 0.9350 - val_loss: 0.0247 - val_acc: 0.9949\n",
      "Epoch 42/100\n",
      "350006/350006 [==============================] - 191s 547us/step - loss: 0.2459 - acc: 0.9361 - val_loss: 0.0330 - val_acc: 0.9929\n",
      "Epoch 43/100\n",
      "350006/350006 [==============================] - 192s 550us/step - loss: 0.2475 - acc: 0.9368 - val_loss: 0.0207 - val_acc: 0.9955\n",
      "Epoch 44/100\n",
      "350006/350006 [==============================] - 193s 552us/step - loss: 0.2490 - acc: 0.9386 - val_loss: 0.0685 - val_acc: 0.9866\n",
      "Epoch 45/100\n",
      "350006/350006 [==============================] - 193s 550us/step - loss: 0.2473 - acc: 0.9389 - val_loss: 0.0221 - val_acc: 0.9955\n",
      "Epoch 46/100\n",
      "350006/350006 [==============================] - 194s 553us/step - loss: 0.2448 - acc: 0.9396 - val_loss: 0.0292 - val_acc: 0.9945\n",
      "Epoch 47/100\n",
      "350006/350006 [==============================] - 191s 547us/step - loss: 0.2445 - acc: 0.9406 - val_loss: 0.0430 - val_acc: 0.9909\n",
      "Epoch 48/100\n",
      "350006/350006 [==============================] - 193s 551us/step - loss: 0.2403 - acc: 0.9410 - val_loss: 0.0400 - val_acc: 0.9918\n",
      "Epoch 49/100\n",
      "350006/350006 [==============================] - 193s 551us/step - loss: 0.2422 - acc: 0.9419 - val_loss: 0.0407 - val_acc: 0.9918\n",
      "Epoch 50/100\n",
      "350006/350006 [==============================] - 192s 549us/step - loss: 0.2358 - acc: 0.9423 - val_loss: 0.0306 - val_acc: 0.9936\n",
      "Epoch 51/100\n",
      "350006/350006 [==============================] - 193s 553us/step - loss: 0.2343 - acc: 0.9430 - val_loss: 0.0302 - val_acc: 0.9930\n",
      "Epoch 52/100\n",
      "350006/350006 [==============================] - 191s 547us/step - loss: 0.2398 - acc: 0.9440 - val_loss: 0.0360 - val_acc: 0.9936\n",
      "Epoch 53/100\n",
      "350006/350006 [==============================] - 193s 550us/step - loss: 0.2352 - acc: 0.9446 - val_loss: 0.0475 - val_acc: 0.9924\n",
      "Epoch 54/100\n",
      "350006/350006 [==============================] - 193s 552us/step - loss: 0.2344 - acc: 0.9445 - val_loss: 0.0361 - val_acc: 0.9931\n",
      "Epoch 55/100\n",
      "350006/350006 [==============================] - 193s 550us/step - loss: 0.2337 - acc: 0.9453 - val_loss: 0.0617 - val_acc: 0.9886\n",
      "Epoch 56/100\n",
      "350006/350006 [==============================] - 194s 553us/step - loss: 0.2320 - acc: 0.9464 - val_loss: 0.0344 - val_acc: 0.9938\n",
      "Epoch 57/100\n"
     ]
    },
    {
     "name": "stdout",
     "output_type": "stream",
     "text": [
      "350006/350006 [==============================] - 192s 548us/step - loss: 0.2329 - acc: 0.9468 - val_loss: 0.0306 - val_acc: 0.9947\n",
      "Epoch 58/100\n",
      "350006/350006 [==============================] - 193s 553us/step - loss: 0.2291 - acc: 0.9475 - val_loss: 0.0262 - val_acc: 0.9955\n",
      "Epoch 59/100\n",
      "350006/350006 [==============================] - 195s 557us/step - loss: 0.2287 - acc: 0.9474 - val_loss: 0.0451 - val_acc: 0.9920\n",
      "Epoch 60/100\n",
      "350006/350006 [==============================] - 194s 555us/step - loss: 0.2268 - acc: 0.9480 - val_loss: 0.0303 - val_acc: 0.9947\n",
      "Epoch 61/100\n",
      "350006/350006 [==============================] - 195s 558us/step - loss: 0.2332 - acc: 0.9485 - val_loss: 0.0309 - val_acc: 0.9942\n",
      "Epoch 62/100\n",
      "350006/350006 [==============================] - 193s 551us/step - loss: 0.2301 - acc: 0.9488 - val_loss: 0.0313 - val_acc: 0.9938\n",
      "Epoch 63/100\n",
      "350006/350006 [==============================] - 194s 554us/step - loss: 0.2260 - acc: 0.9496 - val_loss: 0.0422 - val_acc: 0.9913\n",
      "Epoch 64/100\n",
      "350006/350006 [==============================] - 194s 555us/step - loss: 0.2285 - acc: 0.9501 - val_loss: 0.0561 - val_acc: 0.9898\n",
      "Epoch 65/100\n",
      "350006/350006 [==============================] - 194s 554us/step - loss: 0.2269 - acc: 0.9501 - val_loss: 0.0330 - val_acc: 0.9934\n",
      "Epoch 66/100\n",
      "350006/350006 [==============================] - 195s 557us/step - loss: 0.2284 - acc: 0.9503 - val_loss: 0.0444 - val_acc: 0.9911\n",
      "Epoch 67/100\n",
      "350006/350006 [==============================] - 193s 552us/step - loss: 0.2233 - acc: 0.9509 - val_loss: 0.0330 - val_acc: 0.9940\n",
      "Epoch 68/100\n",
      "350006/350006 [==============================] - 194s 554us/step - loss: 0.2224 - acc: 0.9513 - val_loss: 0.0260 - val_acc: 0.9954\n",
      "Epoch 69/100\n",
      "350006/350006 [==============================] - 194s 556us/step - loss: 0.2223 - acc: 0.9516 - val_loss: 0.0401 - val_acc: 0.9929\n",
      "Epoch 70/100\n",
      "350006/350006 [==============================] - 194s 553us/step - loss: 0.2177 - acc: 0.9524 - val_loss: 0.0575 - val_acc: 0.9894\n",
      "Epoch 71/100\n",
      "350006/350006 [==============================] - 195s 556us/step - loss: 0.2256 - acc: 0.9528 - val_loss: 0.0343 - val_acc: 0.9933\n",
      "Epoch 72/100\n",
      "350006/350006 [==============================] - 193s 551us/step - loss: 0.2204 - acc: 0.9526 - val_loss: 0.0232 - val_acc: 0.9967\n",
      "Epoch 73/100\n",
      "350006/350006 [==============================] - 194s 554us/step - loss: 0.2195 - acc: 0.9531 - val_loss: 0.0465 - val_acc: 0.9920\n",
      "Epoch 74/100\n",
      "350006/350006 [==============================] - 194s 555us/step - loss: 0.2149 - acc: 0.9531 - val_loss: 0.0454 - val_acc: 0.9924\n",
      "Epoch 75/100\n",
      "350006/350006 [==============================] - 194s 554us/step - loss: 0.2181 - acc: 0.9533 - val_loss: 0.0454 - val_acc: 0.9926\n",
      "Epoch 76/100\n",
      "350006/350006 [==============================] - 194s 556us/step - loss: 0.2150 - acc: 0.9538 - val_loss: 0.0500 - val_acc: 0.9917\n",
      "Epoch 77/100\n",
      "350006/350006 [==============================] - 193s 551us/step - loss: 0.2149 - acc: 0.9541 - val_loss: 0.0404 - val_acc: 0.9926\n",
      "Epoch 78/100\n",
      "350006/350006 [==============================] - 194s 554us/step - loss: 0.2141 - acc: 0.9544 - val_loss: 0.0638 - val_acc: 0.9894\n",
      "Epoch 79/100\n",
      "350006/350006 [==============================] - 194s 555us/step - loss: 0.2167 - acc: 0.9549 - val_loss: 0.0453 - val_acc: 0.9912\n",
      "Epoch 80/100\n",
      "350006/350006 [==============================] - 194s 553us/step - loss: 0.2148 - acc: 0.9555 - val_loss: 0.0518 - val_acc: 0.9911\n",
      "Epoch 81/100\n",
      "350006/350006 [==============================] - 195s 556us/step - loss: 0.2121 - acc: 0.9553 - val_loss: 0.0539 - val_acc: 0.9904\n",
      "Epoch 82/100\n",
      "350006/350006 [==============================] - 193s 551us/step - loss: 0.2155 - acc: 0.9554 - val_loss: 0.0583 - val_acc: 0.9906\n",
      "Epoch 83/100\n",
      "350006/350006 [==============================] - 194s 553us/step - loss: 0.2169 - acc: 0.9557 - val_loss: 0.0369 - val_acc: 0.9943\n",
      "Epoch 84/100\n",
      "350006/350006 [==============================] - 194s 555us/step - loss: 0.2100 - acc: 0.9559 - val_loss: 0.0658 - val_acc: 0.9900\n",
      "Epoch 85/100\n",
      "350006/350006 [==============================] - 194s 554us/step - loss: 0.2115 - acc: 0.9563 - val_loss: 0.0372 - val_acc: 0.9939\n",
      "Epoch 86/100\n",
      "350006/350006 [==============================] - 195s 557us/step - loss: 0.2106 - acc: 0.9567 - val_loss: 0.0450 - val_acc: 0.9929\n",
      "Epoch 87/100\n",
      "350006/350006 [==============================] - 193s 552us/step - loss: 0.2153 - acc: 0.9564 - val_loss: 0.0392 - val_acc: 0.9938\n",
      "Epoch 88/100\n",
      "350006/350006 [==============================] - 194s 554us/step - loss: 0.2117 - acc: 0.9571 - val_loss: 0.0383 - val_acc: 0.9936\n",
      "Epoch 89/100\n",
      "350006/350006 [==============================] - 195s 556us/step - loss: 0.2088 - acc: 0.9569 - val_loss: 0.0598 - val_acc: 0.9909\n",
      "Epoch 90/100\n",
      "350006/350006 [==============================] - 194s 554us/step - loss: 0.2126 - acc: 0.9572 - val_loss: 0.0454 - val_acc: 0.9934\n",
      "Epoch 91/100\n",
      "350006/350006 [==============================] - 195s 557us/step - loss: 0.2117 - acc: 0.9576 - val_loss: 0.0460 - val_acc: 0.9926\n",
      "Epoch 92/100\n",
      "350006/350006 [==============================] - 193s 551us/step - loss: 0.2125 - acc: 0.9578 - val_loss: 0.0429 - val_acc: 0.9931\n",
      "Epoch 93/100\n",
      "350006/350006 [==============================] - 194s 554us/step - loss: 0.2076 - acc: 0.9584 - val_loss: 0.0448 - val_acc: 0.9933\n",
      "Epoch 94/100\n",
      "350006/350006 [==============================] - 195s 556us/step - loss: 0.2149 - acc: 0.9586 - val_loss: 0.0681 - val_acc: 0.9885\n",
      "Epoch 95/100\n",
      "350006/350006 [==============================] - 194s 554us/step - loss: 0.2079 - acc: 0.9589 - val_loss: 0.0581 - val_acc: 0.9911\n",
      "Epoch 96/100\n",
      "350006/350006 [==============================] - 195s 558us/step - loss: 0.2103 - acc: 0.9587 - val_loss: 0.0321 - val_acc: 0.9950\n",
      "Epoch 97/100\n",
      "350006/350006 [==============================] - 193s 553us/step - loss: 0.2045 - acc: 0.9585 - val_loss: 0.0480 - val_acc: 0.9914\n",
      "Epoch 98/100\n",
      "350006/350006 [==============================] - 194s 555us/step - loss: 0.2044 - acc: 0.9588 - val_loss: 0.0417 - val_acc: 0.9935\n",
      "Epoch 99/100\n",
      "350006/350006 [==============================] - 195s 556us/step - loss: 0.2030 - acc: 0.9590 - val_loss: 0.0311 - val_acc: 0.9946\n",
      "Epoch 100/100\n",
      "350006/350006 [==============================] - 194s 554us/step - loss: 0.2045 - acc: 0.9595 - val_loss: 0.0708 - val_acc: 0.9895\n"
     ]
    }
   ],
   "source": [
    "hist_os = model_os.fit([x_train_res], y_train_res, validation_split=0.15,epochs=100, batch_size=256, shuffle=True)"
   ]
  },
  {
   "cell_type": "code",
   "execution_count": 129,
   "metadata": {},
   "outputs": [
    {
     "data": {
      "image/png": "[encoded data removed]",
      "text/plain": [
       "<Figure size 864x864 with 1 Axes>"
      ]
     },
     "metadata": {},
     "output_type": "display_data"
    }
   ],
   "source": [
    "history = pd.DataFrame(hist_os.history)\n",
    "plt.figure(figsize=(12,12));\n",
    "plt.plot(history[\"loss\"]);\n",
    "plt.plot(history[\"val_loss\"]);\n",
    "plt.title(\"Loss with pretrained word vectors\");\n",
    "plt.show();"
   ]
  },
  {
   "cell_type": "code",
   "execution_count": 130,
   "metadata": {},
   "outputs": [
    {
     "data": {
      "text/plain": [
       "array([1, 1, 1, ..., 0, 0, 0])"
      ]
     },
     "execution_count": 130,
     "metadata": {},
     "output_type": "execute_result"
    }
   ],
   "source": [
    "y_train_res"
   ]
  },
  {
   "cell_type": "code",
   "execution_count": 131,
   "metadata": {},
   "outputs": [],
   "source": [
    "y_pred_os=model_os.predict(x_test)"
   ]
  },
  {
   "cell_type": "code",
   "execution_count": 132,
   "metadata": {},
   "outputs": [
    {
     "data": {
      "text/plain": [
       "array([[0.       ],\n",
       "       [1.       ],\n",
       "       [0.6929768],\n",
       "       ...,\n",
       "       [1.       ],\n",
       "       [1.       ],\n",
       "       [0.       ]], dtype=float32)"
      ]
     },
     "execution_count": 132,
     "metadata": {},
     "output_type": "execute_result"
    }
   ],
   "source": [
    "y_pred_os"
   ]
  },
  {
   "cell_type": "code",
   "execution_count": 144,
   "metadata": {},
   "outputs": [
    {
     "data": {
      "text/plain": [
       "[0, 1, 1, 1, 0, 1, 1, 1, 0, 1]"
      ]
     },
     "execution_count": 144,
     "metadata": {},
     "output_type": "execute_result"
    }
   ],
   "source": [
    "## prediction of classes\n",
    "pred_class_os=[]\n",
    "for i in range(len(y_pred_os)):\n",
    "    if y_pred_os[i]>=.5:\n",
    "        pred_class_os.append(1)\n",
    "    else:\n",
    "        pred_class_os.append(0)\n",
    "\n",
    "pred_class_os[0:10]"
   ]
  },
  {
   "cell_type": "code",
   "execution_count": 145,
   "metadata": {},
   "outputs": [
    {
     "name": "stdout",
     "output_type": "stream",
     "text": [
      "Accuracy on Test data-set 86.23594209141679\n"
     ]
    }
   ],
   "source": [
    "from sklearn.metrics import accuracy_score\n",
    "print('Accuracy on Test data-set',accuracy_score(y_test, pred_class_os)*100)"
   ]
  },
  {
   "cell_type": "code",
   "execution_count": 146,
   "metadata": {},
   "outputs": [
    {
     "name": "stdout",
     "output_type": "stream",
     "text": [
      "              precision    recall  f1-score   support\n",
      "\n",
      "           0       0.72      0.62      0.67     28828\n",
      "           1       0.90      0.93      0.91    101170\n",
      "\n",
      "   micro avg       0.86      0.86      0.86    129998\n",
      "   macro avg       0.81      0.78      0.79    129998\n",
      "weighted avg       0.86      0.86      0.86    129998\n",
      "\n"
     ]
    }
   ],
   "source": [
    "from sklearn.metrics import classification_report\n",
    "print(classification_report(y_test, pred_class_os))"
   ]
  },
  {
   "cell_type": "code",
   "execution_count": 147,
   "metadata": {},
   "outputs": [
    {
     "data": {
      "text/plain": [
       "array([[17930, 10898],\n",
       "       [ 6995, 94175]])"
      ]
     },
     "execution_count": 147,
     "metadata": {},
     "output_type": "execute_result"
    }
   ],
   "source": [
    "from sklearn.metrics import confusion_matrix\n",
    "cm=confusion_matrix(y_test, pred_class_os)\n",
    "cm\n"
   ]
  },
  {
   "cell_type": "code",
   "execution_count": 148,
   "metadata": {},
   "outputs": [],
   "source": [
    "from sklearn.metrics import roc_curve\n",
    "y_pred_keras = model_os.predict(x_test).ravel()\n",
    "fpr_keras, tpr_keras, thresholds_keras = roc_curve(y_test, y_pred_keras)"
   ]
  },
  {
   "cell_type": "code",
   "execution_count": 149,
   "metadata": {},
   "outputs": [
    {
     "data": {
      "image/png": "[encoded data removed]",
      "text/plain": [
       "<Figure size 432x288 with 1 Axes>"
      ]
     },
     "metadata": {},
     "output_type": "display_data"
    }
   ],
   "source": [
    "from sklearn.metrics import auc\n",
    "auc_keras = auc(fpr_keras, tpr_keras)\n",
    "\n",
    "plt.figure(1)\n",
    "plt.plot([0, 1], [0, 1], 'k--')\n",
    "plt.plot(fpr_keras, tpr_keras, label='Keras (area = {:.3f})'.format(auc_keras))\n",
    "plt.xlabel('False positive rate')\n",
    "plt.ylabel('True positive rate')\n",
    "plt.title('ROC curve')\n",
    "plt.legend(loc='best')\n",
    "plt.show()"
   ]
  },
  {
   "cell_type": "code",
   "execution_count": null,
   "metadata": {},
   "outputs": [],
   "source": []
  }
 ],
 "metadata": {
  "kernelspec": {
   "display_name": "Python 3",
   "language": "python",
   "name": "python3"
  },
  "language_info": {
   "codemirror_mode": {
    "name": "ipython",
    "version": 3
   },
   "file_extension": ".py",
   "mimetype": "text/x-python",
   "name": "python",
   "nbconvert_exporter": "python",
   "pygments_lexer": "ipython3",
   "version": "3.6.5"
  }
 },
 "nbformat": 4,
 "nbformat_minor": 2
}
