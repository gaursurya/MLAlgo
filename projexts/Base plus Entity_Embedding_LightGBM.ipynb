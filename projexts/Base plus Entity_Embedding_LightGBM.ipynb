{
 "cells": [
  {
   "cell_type": "code",
   "execution_count": 1,
   "metadata": {},
   "outputs": [],
   "source": [
    "import gc, math, pickle, datetime, os, random\n",
    "import numpy as np \n",
    "import pandas as pd \n",
    "from sklearn.model_selection import train_test_split\n",
    "from sklearn.metrics import mean_squared_log_error\n",
    "from sklearn.metrics import mean_squared_log_error\n",
    "from sklearn.preprocessing import LabelEncoder\n",
    "import lightgbm as lgb\n",
    "import matplotlib.pyplot as plt\n",
    "import seaborn as sns\n",
    "from sklearn.preprocessing import MinMaxScaler\n",
    "from pandas.plotting import register_matplotlib_converters\n",
    "register_matplotlib_converters()\n",
    "from matplotlib import pyplot,dates\n",
    "\n",
    "import warnings\n",
    "warnings.filterwarnings('ignore')\n",
    "import gc"
   ]
  },
  {
   "cell_type": "code",
   "execution_count": 2,
   "metadata": {},
   "outputs": [],
   "source": [
    "weather_train=pd.read_csv('C:/Users/SGAUR/Desktop/Asphare/ashrae-energy-prediction/weather_train.csv')\n",
    "train=pd.read_csv('C:/Users/SGAUR/Desktop/Asphare/ashrae-energy-prediction/train.csv')\n",
    "\n",
    "building_meta = pd.read_csv('C:/Users/SGAUR/Desktop/Asphare/ashrae-energy-prediction/building_metadata.csv')\n",
    "weather_test=pd.read_csv('C:/Users/SGAUR/Desktop/Asphare/ashrae-energy-prediction/weather_test.csv')\n",
    "test=pd.read_csv('C:/Users/SGAUR/Desktop/Asphare/ashrae-energy-prediction/test.csv')"
   ]
  },
  {
   "cell_type": "code",
   "execution_count": 3,
   "metadata": {},
   "outputs": [
    {
     "name": "stdout",
     "output_type": "stream",
     "text": [
      "Shape of Weather Train (139773, 9)\n",
      "Shape of Weather Test (277243, 9)\n"
     ]
    }
   ],
   "source": [
    "print('Shape of Weather Train',weather_train.shape)\n",
    "print('Shape of Weather Test',weather_test.shape)"
   ]
  },
  {
   "cell_type": "code",
   "execution_count": 4,
   "metadata": {},
   "outputs": [
    {
     "name": "stdout",
     "output_type": "stream",
     "text": [
      "Size of train data (20216100, 4)\n",
      "Size of weather_train data (139773, 9)\n",
      "Size of building_meta data (1449, 6)\n",
      "Size of test data (41697600, 4)\n",
      "Size of weather_test data (277243, 9)\n"
     ]
    }
   ],
   "source": [
    "print('Size of train data', train.shape)\n",
    "print('Size of weather_train data', weather_train.shape)\n",
    "print('Size of building_meta data', building_meta.shape)\n",
    "print('Size of test data', test.shape)\n",
    "print('Size of weather_test data', weather_test.shape)"
   ]
  },
  {
   "cell_type": "code",
   "execution_count": 5,
   "metadata": {},
   "outputs": [
    {
     "data": {
      "text/html": [
       "<div>\n",
       "<style scoped>\n",
       "    .dataframe tbody tr th:only-of-type {\n",
       "        vertical-align: middle;\n",
       "    }\n",
       "\n",
       "    .dataframe tbody tr th {\n",
       "        vertical-align: top;\n",
       "    }\n",
       "\n",
       "    .dataframe thead th {\n",
       "        text-align: right;\n",
       "    }\n",
       "</style>\n",
       "<table border=\"1\" class=\"dataframe\">\n",
       "  <thead>\n",
       "    <tr style=\"text-align: right;\">\n",
       "      <th></th>\n",
       "      <th>site_id</th>\n",
       "      <th>timestamp</th>\n",
       "      <th>air_temperature</th>\n",
       "      <th>cloud_coverage</th>\n",
       "      <th>dew_temperature</th>\n",
       "      <th>precip_depth_1_hr</th>\n",
       "      <th>sea_level_pressure</th>\n",
       "      <th>wind_direction</th>\n",
       "      <th>wind_speed</th>\n",
       "    </tr>\n",
       "  </thead>\n",
       "  <tbody>\n",
       "    <tr>\n",
       "      <td>0</td>\n",
       "      <td>0</td>\n",
       "      <td>2017-01-01 00:00:00</td>\n",
       "      <td>17.8</td>\n",
       "      <td>4.0</td>\n",
       "      <td>11.7</td>\n",
       "      <td>NaN</td>\n",
       "      <td>1021.4</td>\n",
       "      <td>100.0</td>\n",
       "      <td>3.6</td>\n",
       "    </tr>\n",
       "    <tr>\n",
       "      <td>1</td>\n",
       "      <td>0</td>\n",
       "      <td>2017-01-01 01:00:00</td>\n",
       "      <td>17.8</td>\n",
       "      <td>2.0</td>\n",
       "      <td>12.8</td>\n",
       "      <td>0.0</td>\n",
       "      <td>1022.0</td>\n",
       "      <td>130.0</td>\n",
       "      <td>3.1</td>\n",
       "    </tr>\n",
       "    <tr>\n",
       "      <td>2</td>\n",
       "      <td>0</td>\n",
       "      <td>2017-01-01 02:00:00</td>\n",
       "      <td>16.1</td>\n",
       "      <td>0.0</td>\n",
       "      <td>12.8</td>\n",
       "      <td>0.0</td>\n",
       "      <td>1021.9</td>\n",
       "      <td>140.0</td>\n",
       "      <td>3.1</td>\n",
       "    </tr>\n",
       "    <tr>\n",
       "      <td>3</td>\n",
       "      <td>0</td>\n",
       "      <td>2017-01-01 03:00:00</td>\n",
       "      <td>17.2</td>\n",
       "      <td>0.0</td>\n",
       "      <td>13.3</td>\n",
       "      <td>0.0</td>\n",
       "      <td>1022.2</td>\n",
       "      <td>140.0</td>\n",
       "      <td>3.1</td>\n",
       "    </tr>\n",
       "    <tr>\n",
       "      <td>4</td>\n",
       "      <td>0</td>\n",
       "      <td>2017-01-01 04:00:00</td>\n",
       "      <td>16.7</td>\n",
       "      <td>2.0</td>\n",
       "      <td>13.3</td>\n",
       "      <td>0.0</td>\n",
       "      <td>1022.3</td>\n",
       "      <td>130.0</td>\n",
       "      <td>2.6</td>\n",
       "    </tr>\n",
       "  </tbody>\n",
       "</table>\n",
       "</div>"
      ],
      "text/plain": [
       "   site_id            timestamp  air_temperature  cloud_coverage  \\\n",
       "0        0  2017-01-01 00:00:00             17.8             4.0   \n",
       "1        0  2017-01-01 01:00:00             17.8             2.0   \n",
       "2        0  2017-01-01 02:00:00             16.1             0.0   \n",
       "3        0  2017-01-01 03:00:00             17.2             0.0   \n",
       "4        0  2017-01-01 04:00:00             16.7             2.0   \n",
       "\n",
       "   dew_temperature  precip_depth_1_hr  sea_level_pressure  wind_direction  \\\n",
       "0             11.7                NaN              1021.4           100.0   \n",
       "1             12.8                0.0              1022.0           130.0   \n",
       "2             12.8                0.0              1021.9           140.0   \n",
       "3             13.3                0.0              1022.2           140.0   \n",
       "4             13.3                0.0              1022.3           130.0   \n",
       "\n",
       "   wind_speed  \n",
       "0         3.6  \n",
       "1         3.1  \n",
       "2         3.1  \n",
       "3         3.1  \n",
       "4         2.6  "
      ]
     },
     "execution_count": 5,
     "metadata": {},
     "output_type": "execute_result"
    }
   ],
   "source": [
    "weather_test.head()"
   ]
  },
  {
   "cell_type": "code",
   "execution_count": 6,
   "metadata": {},
   "outputs": [
    {
     "data": {
      "text/html": [
       "<div>\n",
       "<style scoped>\n",
       "    .dataframe tbody tr th:only-of-type {\n",
       "        vertical-align: middle;\n",
       "    }\n",
       "\n",
       "    .dataframe tbody tr th {\n",
       "        vertical-align: top;\n",
       "    }\n",
       "\n",
       "    .dataframe thead th {\n",
       "        text-align: right;\n",
       "    }\n",
       "</style>\n",
       "<table border=\"1\" class=\"dataframe\">\n",
       "  <thead>\n",
       "    <tr style=\"text-align: right;\">\n",
       "      <th></th>\n",
       "      <th>building_id</th>\n",
       "      <th>meter</th>\n",
       "      <th>timestamp</th>\n",
       "      <th>meter_reading</th>\n",
       "    </tr>\n",
       "  </thead>\n",
       "  <tbody>\n",
       "    <tr>\n",
       "      <td>0</td>\n",
       "      <td>0</td>\n",
       "      <td>0</td>\n",
       "      <td>2016-01-01 00:00:00</td>\n",
       "      <td>0.0</td>\n",
       "    </tr>\n",
       "    <tr>\n",
       "      <td>1</td>\n",
       "      <td>1</td>\n",
       "      <td>0</td>\n",
       "      <td>2016-01-01 00:00:00</td>\n",
       "      <td>0.0</td>\n",
       "    </tr>\n",
       "    <tr>\n",
       "      <td>2</td>\n",
       "      <td>2</td>\n",
       "      <td>0</td>\n",
       "      <td>2016-01-01 00:00:00</td>\n",
       "      <td>0.0</td>\n",
       "    </tr>\n",
       "    <tr>\n",
       "      <td>3</td>\n",
       "      <td>3</td>\n",
       "      <td>0</td>\n",
       "      <td>2016-01-01 00:00:00</td>\n",
       "      <td>0.0</td>\n",
       "    </tr>\n",
       "    <tr>\n",
       "      <td>4</td>\n",
       "      <td>4</td>\n",
       "      <td>0</td>\n",
       "      <td>2016-01-01 00:00:00</td>\n",
       "      <td>0.0</td>\n",
       "    </tr>\n",
       "  </tbody>\n",
       "</table>\n",
       "</div>"
      ],
      "text/plain": [
       "   building_id  meter            timestamp  meter_reading\n",
       "0            0      0  2016-01-01 00:00:00            0.0\n",
       "1            1      0  2016-01-01 00:00:00            0.0\n",
       "2            2      0  2016-01-01 00:00:00            0.0\n",
       "3            3      0  2016-01-01 00:00:00            0.0\n",
       "4            4      0  2016-01-01 00:00:00            0.0"
      ]
     },
     "execution_count": 6,
     "metadata": {},
     "output_type": "execute_result"
    }
   ],
   "source": [
    "train.head()"
   ]
  },
  {
   "cell_type": "code",
   "execution_count": 7,
   "metadata": {},
   "outputs": [
    {
     "name": "stdout",
     "output_type": "stream",
     "text": [
      "Number of Unique Buildings TRAIN 1449\n",
      "Range of TimeStamp TRAIN 2016-01-01 00:00:00 - 2016-12-31 23:00:00\n",
      "Number of Unique Buildings 1449\n",
      "Range of TimeStamp 2017-01-01 00:00:00 - 2018-12-31 23:00:00\n"
     ]
    }
   ],
   "source": [
    "print('Number of Unique Buildings TRAIN',len(train.building_id.unique()))\n",
    "print('Range of TimeStamp TRAIN',np.min(train['timestamp']),'-',np.max(train['timestamp']))\n",
    "print('Number of Unique Buildings',len(test.building_id.unique()))\n",
    "print('Range of TimeStamp',np.min(test['timestamp']),'-',np.max(test['timestamp']))"
   ]
  },
  {
   "cell_type": "code",
   "execution_count": 8,
   "metadata": {},
   "outputs": [],
   "source": [
    "## Function to reduce the DF size\n",
    "def reduce_mem_usage(df, verbose=True):\n",
    "    numerics = ['int16', 'int32', 'int64', 'float16', 'float32', 'float64']\n",
    "    start_mem = df.memory_usage().sum() / 1024**2    \n",
    "    for col in df.columns:\n",
    "        col_type = df[col].dtypes\n",
    "        if col_type in numerics:\n",
    "            c_min = df[col].min()\n",
    "            c_max = df[col].max()\n",
    "            if str(col_type)[:3] == 'int':\n",
    "                if c_min > np.iinfo(np.int8).min and c_max < np.iinfo(np.int8).max:\n",
    "                    df[col] = df[col].astype(np.int8)\n",
    "                elif c_min > np.iinfo(np.int16).min and c_max < np.iinfo(np.int16).max:\n",
    "                    df[col] = df[col].astype(np.int16)\n",
    "                elif c_min > np.iinfo(np.int32).min and c_max < np.iinfo(np.int32).max:\n",
    "                    df[col] = df[col].astype(np.int32)\n",
    "                elif c_min > np.iinfo(np.int64).min and c_max < np.iinfo(np.int64).max:\n",
    "                    df[col] = df[col].astype(np.int64)  \n",
    "            else:\n",
    "                if c_min > np.finfo(np.float16).min and c_max < np.finfo(np.float16).max:\n",
    "                    df[col] = df[col].astype(np.float16)\n",
    "                elif c_min > np.finfo(np.float32).min and c_max < np.finfo(np.float32).max:\n",
    "                    df[col] = df[col].astype(np.float32)\n",
    "                else:\n",
    "                    df[col] = df[col].astype(np.float64)    \n",
    "    end_mem = df.memory_usage().sum() / 1024**2\n",
    "    if verbose: print('Mem. usage decreased to {:5.2f} Mb ({:.1f}% reduction)'.format(end_mem, 100 * (start_mem - end_mem) / start_mem))\n",
    "    return df"
   ]
  },
  {
   "cell_type": "code",
   "execution_count": 9,
   "metadata": {},
   "outputs": [
    {
     "name": "stdout",
     "output_type": "stream",
     "text": [
      "Mem. usage decreased to 289.19 Mb (53.1% reduction)\n",
      "Mem. usage decreased to  3.07 Mb (68.1% reduction)\n",
      "Mem. usage decreased to  0.03 Mb (60.3% reduction)\n",
      "Mem. usage decreased to 596.49 Mb (53.1% reduction)\n",
      "Mem. usage decreased to  6.08 Mb (68.1% reduction)\n"
     ]
    }
   ],
   "source": [
    "train=reduce_mem_usage(train, verbose=True)\n",
    "weather_train=reduce_mem_usage(weather_train, verbose=True)\n",
    "building_meta=reduce_mem_usage(building_meta, verbose=True)\n",
    "test=reduce_mem_usage(test, verbose=True)\n",
    "weather_test=reduce_mem_usage(weather_test, verbose=True)"
   ]
  },
  {
   "cell_type": "code",
   "execution_count": 10,
   "metadata": {},
   "outputs": [
    {
     "name": "stdout",
     "output_type": "stream",
     "text": [
      "*********Combining train data*********\n",
      "train shape (20216100, 16)\n",
      "*********Combining test data*********\n",
      "test shape (41697600, 16)\n",
      "Wall time: 28.7 s\n"
     ]
    }
   ],
   "source": [
    "%%time\n",
    "print('*********Combining train data*********')\n",
    "train = train.merge(building_meta, left_on = \"building_id\", right_on = \"building_id\", how = \"left\")\n",
    "train = train.merge(weather_train, left_on = [\"site_id\", \"timestamp\"], right_on = [\"site_id\", \"timestamp\"],how=\"left\")\n",
    "print('train shape',train.shape)\n",
    "del weather_train\n",
    "\n",
    "print('*********Combining test data*********')\n",
    "test = test.merge(building_meta, left_on = \"building_id\", right_on = \"building_id\", how = \"left\")\n",
    "test = test.merge(weather_test, left_on = [\"site_id\", \"timestamp\"], right_on = [\"site_id\", \"timestamp\"],how=\"left\")\n",
    "print('test shape',test.shape)\n",
    "del weather_test"
   ]
  },
  {
   "cell_type": "code",
   "execution_count": 11,
   "metadata": {},
   "outputs": [
    {
     "name": "stdout",
     "output_type": "stream",
     "text": [
      "Changing variables in Train Data..\n",
      "..Done\n",
      "Changing variables in test Data..\n",
      "..Done\n",
      "Wall time: 1min 19s\n"
     ]
    }
   ],
   "source": [
    "%%time\n",
    "print('Changing variables in Train Data..')\n",
    "train[\"timestamp\"] = pd.to_datetime(train[\"timestamp\"])\n",
    "train[\"weekday\"] = train[\"timestamp\"].dt.weekday\n",
    "train[\"hour\"] = train[\"timestamp\"].dt.hour\n",
    "train[\"weekday\"] = train['weekday'].astype(np.uint8)\n",
    "train[\"DayNumber\"]=train[\"timestamp\"].dt.day\n",
    "train[\"hour\"] = train['hour'].astype(np.uint8)\n",
    "train[\"month\"] = train['timestamp'].dt.month\n",
    "print('..Done')\n",
    "\n",
    "print('Changing variables in test Data..')\n",
    "test[\"timestamp\"] = pd.to_datetime(test[\"timestamp\"])\n",
    "test[\"weekday\"] = test[\"timestamp\"].dt.weekday\n",
    "test[\"hour\"] = test[\"timestamp\"].dt.hour\n",
    "test[\"weekday\"] = test['weekday'].astype(np.uint8)\n",
    "test[\"DayNumber\"]=test[\"timestamp\"].dt.day\n",
    "test[\"hour\"] = test['hour'].astype(np.uint8)\n",
    "test[\"month\"] = test['timestamp'].dt.month\n",
    "print('..Done')\n",
    "\n",
    "##########################################################\n",
    "## Changing train cat_vars\n",
    "train['building_id'] = 'building_id_' + train['building_id'].astype(str)\n",
    "train['month'] = train['month'].map({1: 'Jan', 2: 'Feb',3:'March',4:'April',5:'May',6:'June',7:'July',8:'Aug',9:'Sep',10:'Oct'\n",
    "                   ,11:'Nov',12:'Dec'})\n",
    "train['meter']=train['meter'].map({0: 'electricity', 1: 'chilledwater',2:'steam',3:'hotwater'})\n",
    "train['weekday']=train['weekday'].map({0: 'Monday', 1: 'Tuesday',2:'Wednesday',3:'Thursday',4:'Friday',5:'Saturday',6:'Sunday'})\n",
    "\n",
    "## Changing test cat_vars\n",
    "test['building_id'] = 'building_id_' + test['building_id'].astype(str)\n",
    "test['month'] = test['month'].map({1: 'Jan', 2: 'Feb',3:'March',4:'April',5:'May',6:'June',7:'July',8:'Aug',9:'Sep',10:'Oct'\n",
    "                   ,11:'Nov',12:'Dec'})\n",
    "test['meter']=test['meter'].map({0: 'electricity', 1: 'chilledwater',2:'steam',3:'hotwater'})\n",
    "test['weekday']=test['weekday'].map({0: 'Monday', 1: 'Tuesday',2:'Wednesday',3:'Thursday',4:'Friday',5:'Saturday',6:'Sunday'})"
   ]
  },
  {
   "cell_type": "code",
   "execution_count": 12,
   "metadata": {},
   "outputs": [
    {
     "data": {
      "text/html": [
       "<div>\n",
       "<style scoped>\n",
       "    .dataframe tbody tr th:only-of-type {\n",
       "        vertical-align: middle;\n",
       "    }\n",
       "\n",
       "    .dataframe tbody tr th {\n",
       "        vertical-align: top;\n",
       "    }\n",
       "\n",
       "    .dataframe thead th {\n",
       "        text-align: right;\n",
       "    }\n",
       "</style>\n",
       "<table border=\"1\" class=\"dataframe\">\n",
       "  <thead>\n",
       "    <tr style=\"text-align: right;\">\n",
       "      <th></th>\n",
       "      <th>building_id</th>\n",
       "      <th>meter</th>\n",
       "      <th>timestamp</th>\n",
       "      <th>meter_reading</th>\n",
       "      <th>site_id</th>\n",
       "      <th>primary_use</th>\n",
       "      <th>square_feet</th>\n",
       "      <th>year_built</th>\n",
       "      <th>floor_count</th>\n",
       "      <th>air_temperature</th>\n",
       "      <th>cloud_coverage</th>\n",
       "      <th>dew_temperature</th>\n",
       "      <th>precip_depth_1_hr</th>\n",
       "      <th>sea_level_pressure</th>\n",
       "      <th>wind_direction</th>\n",
       "      <th>wind_speed</th>\n",
       "      <th>weekday</th>\n",
       "      <th>hour</th>\n",
       "      <th>DayNumber</th>\n",
       "      <th>month</th>\n",
       "    </tr>\n",
       "  </thead>\n",
       "  <tbody>\n",
       "    <tr>\n",
       "      <td>0</td>\n",
       "      <td>building_id_0</td>\n",
       "      <td>electricity</td>\n",
       "      <td>2016-01-01</td>\n",
       "      <td>0.0</td>\n",
       "      <td>0</td>\n",
       "      <td>Education</td>\n",
       "      <td>7432</td>\n",
       "      <td>2008.0</td>\n",
       "      <td>NaN</td>\n",
       "      <td>25.0</td>\n",
       "      <td>6.0</td>\n",
       "      <td>20.0</td>\n",
       "      <td>NaN</td>\n",
       "      <td>1019.5</td>\n",
       "      <td>0.0</td>\n",
       "      <td>0.0</td>\n",
       "      <td>Friday</td>\n",
       "      <td>0</td>\n",
       "      <td>1</td>\n",
       "      <td>Jan</td>\n",
       "    </tr>\n",
       "    <tr>\n",
       "      <td>1</td>\n",
       "      <td>building_id_1</td>\n",
       "      <td>electricity</td>\n",
       "      <td>2016-01-01</td>\n",
       "      <td>0.0</td>\n",
       "      <td>0</td>\n",
       "      <td>Education</td>\n",
       "      <td>2720</td>\n",
       "      <td>2004.0</td>\n",
       "      <td>NaN</td>\n",
       "      <td>25.0</td>\n",
       "      <td>6.0</td>\n",
       "      <td>20.0</td>\n",
       "      <td>NaN</td>\n",
       "      <td>1019.5</td>\n",
       "      <td>0.0</td>\n",
       "      <td>0.0</td>\n",
       "      <td>Friday</td>\n",
       "      <td>0</td>\n",
       "      <td>1</td>\n",
       "      <td>Jan</td>\n",
       "    </tr>\n",
       "    <tr>\n",
       "      <td>2</td>\n",
       "      <td>building_id_2</td>\n",
       "      <td>electricity</td>\n",
       "      <td>2016-01-01</td>\n",
       "      <td>0.0</td>\n",
       "      <td>0</td>\n",
       "      <td>Education</td>\n",
       "      <td>5376</td>\n",
       "      <td>1991.0</td>\n",
       "      <td>NaN</td>\n",
       "      <td>25.0</td>\n",
       "      <td>6.0</td>\n",
       "      <td>20.0</td>\n",
       "      <td>NaN</td>\n",
       "      <td>1019.5</td>\n",
       "      <td>0.0</td>\n",
       "      <td>0.0</td>\n",
       "      <td>Friday</td>\n",
       "      <td>0</td>\n",
       "      <td>1</td>\n",
       "      <td>Jan</td>\n",
       "    </tr>\n",
       "    <tr>\n",
       "      <td>3</td>\n",
       "      <td>building_id_3</td>\n",
       "      <td>electricity</td>\n",
       "      <td>2016-01-01</td>\n",
       "      <td>0.0</td>\n",
       "      <td>0</td>\n",
       "      <td>Education</td>\n",
       "      <td>23685</td>\n",
       "      <td>2002.0</td>\n",
       "      <td>NaN</td>\n",
       "      <td>25.0</td>\n",
       "      <td>6.0</td>\n",
       "      <td>20.0</td>\n",
       "      <td>NaN</td>\n",
       "      <td>1019.5</td>\n",
       "      <td>0.0</td>\n",
       "      <td>0.0</td>\n",
       "      <td>Friday</td>\n",
       "      <td>0</td>\n",
       "      <td>1</td>\n",
       "      <td>Jan</td>\n",
       "    </tr>\n",
       "    <tr>\n",
       "      <td>4</td>\n",
       "      <td>building_id_4</td>\n",
       "      <td>electricity</td>\n",
       "      <td>2016-01-01</td>\n",
       "      <td>0.0</td>\n",
       "      <td>0</td>\n",
       "      <td>Education</td>\n",
       "      <td>116607</td>\n",
       "      <td>1975.0</td>\n",
       "      <td>NaN</td>\n",
       "      <td>25.0</td>\n",
       "      <td>6.0</td>\n",
       "      <td>20.0</td>\n",
       "      <td>NaN</td>\n",
       "      <td>1019.5</td>\n",
       "      <td>0.0</td>\n",
       "      <td>0.0</td>\n",
       "      <td>Friday</td>\n",
       "      <td>0</td>\n",
       "      <td>1</td>\n",
       "      <td>Jan</td>\n",
       "    </tr>\n",
       "  </tbody>\n",
       "</table>\n",
       "</div>"
      ],
      "text/plain": [
       "     building_id        meter  timestamp  meter_reading  site_id primary_use  \\\n",
       "0  building_id_0  electricity 2016-01-01            0.0        0   Education   \n",
       "1  building_id_1  electricity 2016-01-01            0.0        0   Education   \n",
       "2  building_id_2  electricity 2016-01-01            0.0        0   Education   \n",
       "3  building_id_3  electricity 2016-01-01            0.0        0   Education   \n",
       "4  building_id_4  electricity 2016-01-01            0.0        0   Education   \n",
       "\n",
       "   square_feet  year_built  floor_count  air_temperature  cloud_coverage  \\\n",
       "0         7432      2008.0          NaN             25.0             6.0   \n",
       "1         2720      2004.0          NaN             25.0             6.0   \n",
       "2         5376      1991.0          NaN             25.0             6.0   \n",
       "3        23685      2002.0          NaN             25.0             6.0   \n",
       "4       116607      1975.0          NaN             25.0             6.0   \n",
       "\n",
       "   dew_temperature  precip_depth_1_hr  sea_level_pressure  wind_direction  \\\n",
       "0             20.0                NaN              1019.5             0.0   \n",
       "1             20.0                NaN              1019.5             0.0   \n",
       "2             20.0                NaN              1019.5             0.0   \n",
       "3             20.0                NaN              1019.5             0.0   \n",
       "4             20.0                NaN              1019.5             0.0   \n",
       "\n",
       "   wind_speed weekday  hour  DayNumber month  \n",
       "0         0.0  Friday     0          1   Jan  \n",
       "1         0.0  Friday     0          1   Jan  \n",
       "2         0.0  Friday     0          1   Jan  \n",
       "3         0.0  Friday     0          1   Jan  \n",
       "4         0.0  Friday     0          1   Jan  "
      ]
     },
     "execution_count": 12,
     "metadata": {},
     "output_type": "execute_result"
    }
   ],
   "source": [
    "train.head()"
   ]
  },
  {
   "cell_type": "code",
   "execution_count": 13,
   "metadata": {},
   "outputs": [
    {
     "name": "stdout",
     "output_type": "stream",
     "text": [
      "*****Creating Extra Features for Train set**********\n",
      "Correlation between air Tempreature and dew tempreature                  air_temperature  dew_temperature\n",
      "air_temperature         1.000000         0.750636\n",
      "dew_temperature         0.750636         1.000000\n",
      "******Creating Extra Features for test set********\n",
      "Wall time: 4.77 s\n"
     ]
    }
   ],
   "source": [
    "%%time\n",
    "print('*****Creating Extra Features for Train set**********')\n",
    "\n",
    "print('Correlation between air Tempreature and dew tempreature',train[['air_temperature','dew_temperature']].corr())\n",
    "from datetime import date\n",
    "\n",
    "train['air_temperature*dew_temperature']=train['air_temperature']*train['dew_temperature']\n",
    "train['log_square_feet']=np.log(train.square_feet).astype(np.uint8)\n",
    "train['Age_of_Building']=date.today().year-train.year_built\n",
    "\n",
    "del train['year_built']\n",
    "del train['square_feet']\n",
    "print('******Creating Extra Features for test set********')\n",
    "\n",
    "\n",
    "test['air_temperature*dew_temperature']=test['air_temperature']*test['dew_temperature']\n",
    "test['log_square_feet']=np.log(test.square_feet).astype(np.uint8)\n",
    "test['Age_of_Building']=date.today().year-test.year_built\n",
    "\n",
    "del test['year_built']\n",
    "del test['square_feet']\n"
   ]
  },
  {
   "cell_type": "code",
   "execution_count": 14,
   "metadata": {},
   "outputs": [],
   "source": [
    "train=train.rename(columns={\"building_id\": \"Building_id\"})\n",
    "test=test.rename(columns={\"building_id\": \"Building_id\"})\n",
    "\n",
    "target = 'meter_reading'\n",
    "\n",
    "cont_vars = ['log_square_feet','floor_count','air_temperature','cloud_coverage','dew_temperature','precip_depth_1_hr',\n",
    "             'sea_level_pressure','wind_direction','wind_speed','hour','Age_of_Building','air_temperature*dew_temperature']\n",
    "\n",
    "cat_vars = ['Building_id','meter','primary_use' ,'month','weekday']"
   ]
  },
  {
   "cell_type": "code",
   "execution_count": 15,
   "metadata": {},
   "outputs": [
    {
     "data": {
      "text/plain": [
       "Index(['Building_id', 'meter', 'timestamp', 'meter_reading', 'site_id',\n",
       "       'primary_use', 'floor_count', 'air_temperature', 'cloud_coverage',\n",
       "       'dew_temperature', 'precip_depth_1_hr', 'sea_level_pressure',\n",
       "       'wind_direction', 'wind_speed', 'weekday', 'hour', 'DayNumber', 'month',\n",
       "       'air_temperature*dew_temperature', 'log_square_feet',\n",
       "       'Age_of_Building'],\n",
       "      dtype='object')"
      ]
     },
     "execution_count": 15,
     "metadata": {},
     "output_type": "execute_result"
    }
   ],
   "source": [
    "train.columns"
   ]
  },
  {
   "cell_type": "code",
   "execution_count": 16,
   "metadata": {},
   "outputs": [
    {
     "name": "stdout",
     "output_type": "stream",
     "text": [
      "Building_id: ['building_id_0' 'building_id_1' 'building_id_10' ... 'building_id_997'\n",
      " 'building_id_998' 'building_id_999']\n",
      "meter: ['chilledwater' 'electricity' 'hotwater' 'steam']\n",
      "primary_use: ['Education' 'Entertainment/public assembly' 'Food sales and service'\n",
      " 'Healthcare' 'Lodging/residential' 'Manufacturing/industrial' 'Office'\n",
      " 'Other' 'Parking' 'Public services' 'Religious worship' 'Retail'\n",
      " 'Services' 'Technology/science' 'Utility' 'Warehouse/storage']\n",
      "month: ['April' 'Aug' 'Dec' 'Feb' 'Jan' 'July' 'June' 'March' 'May' 'Nov' 'Oct'\n",
      " 'Sep']\n",
      "weekday: ['Friday' 'Monday' 'Saturday' 'Sunday' 'Thursday' 'Tuesday' 'Wednesday']\n"
     ]
    }
   ],
   "source": [
    "from sklearn.preprocessing import LabelEncoder\n",
    "encoders = {}\n",
    "for v in cat_vars:\n",
    "    le = LabelEncoder()\n",
    "    le.fit(train[v].values)\n",
    "    le.fit(test[v].values)\n",
    "    encoders[v] = le\n",
    "    train.loc[:, v] = le.transform(train[v].values)\n",
    "    test.loc[:, v] = le.transform(test[v].values)\n",
    "    print('{0}: {1}'.format(v, le.classes_))"
   ]
  },
  {
   "cell_type": "code",
   "execution_count": 17,
   "metadata": {},
   "outputs": [
    {
     "name": "stderr",
     "output_type": "stream",
     "text": [
      "Using TensorFlow backend.\n"
     ]
    }
   ],
   "source": [
    "from keras.models import load_model\n",
    "model = load_model('Entity_Embedding_linear_ep15.h5')"
   ]
  },
  {
   "cell_type": "code",
   "execution_count": 18,
   "metadata": {},
   "outputs": [],
   "source": [
    "from sklearn.decomposition import PCA\n",
    "\n",
    "def plot_embedding(model, encoders, category_embedding,category):\n",
    "    embedding_layer = model.get_layer(category_embedding)\n",
    "    weights = embedding_layer.get_weights()[0]\n",
    "    pca = PCA(n_components=2)\n",
    "    weights = pca.fit_transform(weights)\n",
    "    weights_t = weights.T\n",
    "    fig, ax = plt.subplots(figsize=(8, 8 * 3 / 4))\n",
    "    ax.scatter(weights_t[0], weights_t[1])\n",
    "    for i, day in enumerate(encoders[category].classes_):\n",
    "        ax.annotate(day, (weights_t[0, i], weights_t[1, i]))\n",
    "        fig.tight_layout()"
   ]
  },
  {
   "cell_type": "code",
   "execution_count": 19,
   "metadata": {},
   "outputs": [
    {
     "data": {
      "image/png": "[encoded data removed]",
      "text/plain": [
       "<Figure size 576x432 with 1 Axes>"
      ]
     },
     "metadata": {
      "needs_background": "light"
     },
     "output_type": "display_data"
    }
   ],
   "source": [
    "plot_embedding(model, encoders, 'Embedding_weekday','weekday')"
   ]
  },
  {
   "cell_type": "code",
   "execution_count": 20,
   "metadata": {},
   "outputs": [
    {
     "data": {
      "image/png": "[encoded data removed]",
      "text/plain": [
       "<Figure size 576x432 with 1 Axes>"
      ]
     },
     "metadata": {
      "needs_background": "light"
     },
     "output_type": "display_data"
    }
   ],
   "source": [
    "plot_embedding(model, encoders,'Embedding_month', 'month')"
   ]
  },
  {
   "cell_type": "code",
   "execution_count": 21,
   "metadata": {},
   "outputs": [
    {
     "data": {
      "image/png": "[encoded data removed]",
      "text/plain": [
       "<Figure size 576x432 with 1 Axes>"
      ]
     },
     "metadata": {
      "needs_background": "light"
     },
     "output_type": "display_data"
    }
   ],
   "source": [
    "plot_embedding(model, encoders,'Embedding_meter', 'meter')"
   ]
  },
  {
   "cell_type": "code",
   "execution_count": null,
   "metadata": {},
   "outputs": [],
   "source": [
    "'''\n",
    "weekday: ['Friday' 'Monday' 'Saturday' 'Sunday' 'Thursday' 'Tuesday' 'Wednesday']\n",
    "embedding_layer = model.get_layer('Embedding_month')\n",
    "weights_Embedding_month = embedding_layer.get_weights()[0]\n",
    "weights_Embedding_month\n",
    "'''\n",
    "#train1"
   ]
  },
  {
   "cell_type": "code",
   "execution_count": 22,
   "metadata": {},
   "outputs": [
    {
     "name": "stdout",
     "output_type": "stream",
     "text": [
      "Wall time: 14.3 s\n"
     ]
    }
   ],
   "source": [
    "%%time\n",
    "### For Train Data\n",
    "for col in cat_vars:\n",
    "    weight_embed = 'Embedding_' + col\n",
    "    weight_df = pd.DataFrame(model.get_layer(weight_embed).get_weights()[0]).reset_index()\n",
    "    for i in weight_df.columns:\n",
    "        if i != 'index':\n",
    "            sub_dict = dict(zip(weight_df['index'],weight_df[i]))\n",
    "            col_name_label = col\n",
    "            col_name = col + '_' + str(i)\n",
    "            train[col_name] = train[col_name_label].map(sub_dict).values"
   ]
  },
  {
   "cell_type": "code",
   "execution_count": 23,
   "metadata": {},
   "outputs": [],
   "source": [
    "%%time\n",
    "### For Test Data\n",
    "for col in cat_vars:\n",
    "    weight_embed = 'Embedding_' + col\n",
    "    weight_df = pd.DataFrame(model.get_layer(weight_embed).get_weights()[0]).reset_index()\n",
    "    for i in weight_df.columns:\n",
    "        if i != 'index':\n",
    "            sub_dict = dict(zip(weight_df['index'],weight_df[i]))\n",
    "            col_name_label = col\n",
    "            col_name = col + '_' + str(i)\n",
    "            test[col_name] = test[col_name_label].map(sub_dict).values"
   ]
  },
  {
   "cell_type": "code",
   "execution_count": 24,
   "metadata": {},
   "outputs": [
    {
     "name": "stdout",
     "output_type": "stream",
     "text": [
      "Dropping these columns ['Building_id', 'meter', 'primary_use', 'month', 'weekday']\n"
     ]
    }
   ],
   "source": [
    "print('Dropping these columns',cat_vars)\n",
    "train = train.drop(columns=cat_vars, axis=1)\n",
    "test = test.drop(columns=cat_vars, axis=1)"
   ]
  },
  {
   "cell_type": "code",
   "execution_count": null,
   "metadata": {},
   "outputs": [],
   "source": [
    "test.head()"
   ]
  },
  {
   "cell_type": "code",
   "execution_count": 29,
   "metadata": {},
   "outputs": [
    {
     "data": {
      "text/plain": [
       "Index(['timestamp', 'meter_reading', 'site_id', 'floor_count',\n",
       "       'air_temperature', 'cloud_coverage', 'dew_temperature',\n",
       "       'precip_depth_1_hr', 'sea_level_pressure', 'wind_direction',\n",
       "       'wind_speed', 'hour', 'DayNumber', 'air_temperature*dew_temperature',\n",
       "       'log_square_feet', 'Age_of_Building', 'Building_id_0', 'Building_id_1',\n",
       "       'Building_id_2', 'Building_id_3', 'Building_id_4', 'Building_id_5',\n",
       "       'Building_id_6', 'Building_id_7', 'Building_id_8', 'Building_id_9',\n",
       "       'Building_id_10', 'Building_id_11', 'Building_id_12', 'Building_id_13',\n",
       "       'Building_id_14', 'meter_0', 'meter_1', 'primary_use_0',\n",
       "       'primary_use_1', 'primary_use_2', 'primary_use_3', 'primary_use_4',\n",
       "       'primary_use_5', 'primary_use_6', 'primary_use_7', 'month_0', 'month_1',\n",
       "       'month_2', 'month_3', 'month_4', 'month_5', 'weekday_0', 'weekday_1',\n",
       "       'weekday_2', 'weekday_3'],\n",
       "      dtype='object')"
      ]
     },
     "execution_count": 29,
     "metadata": {},
     "output_type": "execute_result"
    }
   ],
   "source": [
    "(train.columns)"
   ]
  },
  {
   "cell_type": "code",
   "execution_count": 30,
   "metadata": {},
   "outputs": [
    {
     "data": {
      "text/plain": [
       "Index(['row_id', 'timestamp', 'site_id', 'floor_count', 'air_temperature',\n",
       "       'cloud_coverage', 'dew_temperature', 'precip_depth_1_hr',\n",
       "       'sea_level_pressure', 'wind_direction', 'wind_speed', 'hour',\n",
       "       'DayNumber', 'air_temperature*dew_temperature', 'log_square_feet',\n",
       "       'Age_of_Building', 'Building_id_0', 'Building_id_1', 'Building_id_2',\n",
       "       'Building_id_3', 'Building_id_4', 'Building_id_5', 'Building_id_6',\n",
       "       'Building_id_7', 'Building_id_8', 'Building_id_9', 'Building_id_10',\n",
       "       'Building_id_11', 'Building_id_12', 'Building_id_13', 'Building_id_14',\n",
       "       'meter_0', 'meter_1', 'primary_use_0', 'primary_use_1', 'primary_use_2',\n",
       "       'primary_use_3', 'primary_use_4', 'primary_use_5', 'primary_use_6',\n",
       "       'primary_use_7', 'month_0', 'month_1', 'month_2', 'month_3', 'month_4',\n",
       "       'month_5', 'weekday_0', 'weekday_1', 'weekday_2', 'weekday_3'],\n",
       "      dtype='object')"
      ]
     },
     "execution_count": 30,
     "metadata": {},
     "output_type": "execute_result"
    }
   ],
   "source": [
    "(test.columns)"
   ]
  },
  {
   "cell_type": "code",
   "execution_count": 31,
   "metadata": {},
   "outputs": [
    {
     "data": {
      "text/html": [
       "<div>\n",
       "<style scoped>\n",
       "    .dataframe tbody tr th:only-of-type {\n",
       "        vertical-align: middle;\n",
       "    }\n",
       "\n",
       "    .dataframe tbody tr th {\n",
       "        vertical-align: top;\n",
       "    }\n",
       "\n",
       "    .dataframe thead th {\n",
       "        text-align: right;\n",
       "    }\n",
       "</style>\n",
       "<table border=\"1\" class=\"dataframe\">\n",
       "  <thead>\n",
       "    <tr style=\"text-align: right;\">\n",
       "      <th></th>\n",
       "      <th>timestamp</th>\n",
       "      <th>site_id</th>\n",
       "      <th>hour</th>\n",
       "      <th>log_square_feet</th>\n",
       "    </tr>\n",
       "  </thead>\n",
       "  <tbody>\n",
       "    <tr>\n",
       "      <td>0</td>\n",
       "      <td>2016-01-01 00:00:00</td>\n",
       "      <td>0</td>\n",
       "      <td>0</td>\n",
       "      <td>8</td>\n",
       "    </tr>\n",
       "    <tr>\n",
       "      <td>1</td>\n",
       "      <td>2016-01-01 00:00:00</td>\n",
       "      <td>0</td>\n",
       "      <td>0</td>\n",
       "      <td>7</td>\n",
       "    </tr>\n",
       "    <tr>\n",
       "      <td>2</td>\n",
       "      <td>2016-01-01 00:00:00</td>\n",
       "      <td>0</td>\n",
       "      <td>0</td>\n",
       "      <td>8</td>\n",
       "    </tr>\n",
       "    <tr>\n",
       "      <td>3</td>\n",
       "      <td>2016-01-01 00:00:00</td>\n",
       "      <td>0</td>\n",
       "      <td>0</td>\n",
       "      <td>10</td>\n",
       "    </tr>\n",
       "    <tr>\n",
       "      <td>4</td>\n",
       "      <td>2016-01-01 00:00:00</td>\n",
       "      <td>0</td>\n",
       "      <td>0</td>\n",
       "      <td>11</td>\n",
       "    </tr>\n",
       "    <tr>\n",
       "      <td>...</td>\n",
       "      <td>...</td>\n",
       "      <td>...</td>\n",
       "      <td>...</td>\n",
       "      <td>...</td>\n",
       "    </tr>\n",
       "    <tr>\n",
       "      <td>20216095</td>\n",
       "      <td>2016-12-31 23:00:00</td>\n",
       "      <td>15</td>\n",
       "      <td>23</td>\n",
       "      <td>9</td>\n",
       "    </tr>\n",
       "    <tr>\n",
       "      <td>20216096</td>\n",
       "      <td>2016-12-31 23:00:00</td>\n",
       "      <td>15</td>\n",
       "      <td>23</td>\n",
       "      <td>8</td>\n",
       "    </tr>\n",
       "    <tr>\n",
       "      <td>20216097</td>\n",
       "      <td>2016-12-31 23:00:00</td>\n",
       "      <td>15</td>\n",
       "      <td>23</td>\n",
       "      <td>9</td>\n",
       "    </tr>\n",
       "    <tr>\n",
       "      <td>20216098</td>\n",
       "      <td>2016-12-31 23:00:00</td>\n",
       "      <td>15</td>\n",
       "      <td>23</td>\n",
       "      <td>10</td>\n",
       "    </tr>\n",
       "    <tr>\n",
       "      <td>20216099</td>\n",
       "      <td>2016-12-31 23:00:00</td>\n",
       "      <td>15</td>\n",
       "      <td>23</td>\n",
       "      <td>11</td>\n",
       "    </tr>\n",
       "  </tbody>\n",
       "</table>\n",
       "<p>20216100 rows × 4 columns</p>\n",
       "</div>"
      ],
      "text/plain": [
       "                   timestamp  site_id  hour  log_square_feet\n",
       "0        2016-01-01 00:00:00        0     0                8\n",
       "1        2016-01-01 00:00:00        0     0                7\n",
       "2        2016-01-01 00:00:00        0     0                8\n",
       "3        2016-01-01 00:00:00        0     0               10\n",
       "4        2016-01-01 00:00:00        0     0               11\n",
       "...                      ...      ...   ...              ...\n",
       "20216095 2016-12-31 23:00:00       15    23                9\n",
       "20216096 2016-12-31 23:00:00       15    23                8\n",
       "20216097 2016-12-31 23:00:00       15    23                9\n",
       "20216098 2016-12-31 23:00:00       15    23               10\n",
       "20216099 2016-12-31 23:00:00       15    23               11\n",
       "\n",
       "[20216100 rows x 4 columns]"
      ]
     },
     "execution_count": 31,
     "metadata": {},
     "output_type": "execute_result"
    }
   ],
   "source": [
    "numerics = ['int16', 'int32', 'int64', 'float16', 'float32', 'float64']\n",
    "\n",
    "train.select_dtypes(exclude=numerics)"
   ]
  },
  {
   "cell_type": "markdown",
   "metadata": {},
   "source": [
    "#### Baseline Model Kfold Cross Validation"
   ]
  },
  {
   "cell_type": "code",
   "execution_count": 32,
   "metadata": {},
   "outputs": [],
   "source": [
    "from sklearn.metrics import mean_squared_error\n",
    "import lightgbm as lgb\n",
    "from sklearn.model_selection import KFold, StratifiedKFold\n",
    "from tqdm import tqdm"
   ]
  },
  {
   "cell_type": "code",
   "execution_count": null,
   "metadata": {},
   "outputs": [],
   "source": [
    "#from sklearn.preprocessing import LabelEncoder\n",
    "#le = LabelEncoder()\n",
    "#train[\"primary_use\"] = le.fit_transform(train[\"primary_use\"])"
   ]
  },
  {
   "cell_type": "code",
   "execution_count": 33,
   "metadata": {},
   "outputs": [
    {
     "data": {
      "text/plain": [
       "<matplotlib.axes._subplots.AxesSubplot at 0x1e115a38ac8>"
      ]
     },
     "execution_count": 33,
     "metadata": {},
     "output_type": "execute_result"
    },
    {
     "data": {
      "image/png": "[encoded data removed]",
      "text/plain": [
       "<Figure size 432x288 with 1 Axes>"
      ]
     },
     "metadata": {
      "needs_background": "light"
     },
     "output_type": "display_data"
    }
   ],
   "source": [
    "sns.distplot(train['meter_reading'])"
   ]
  },
  {
   "cell_type": "code",
   "execution_count": 34,
   "metadata": {},
   "outputs": [
    {
     "name": "stdout",
     "output_type": "stream",
     "text": [
      "Converting into log\n"
     ]
    }
   ],
   "source": [
    "print('Converting into log')\n",
    "train[\"meter_reading\"] = np.log1p(train[\"meter_reading\"])"
   ]
  },
  {
   "cell_type": "code",
   "execution_count": 35,
   "metadata": {},
   "outputs": [
    {
     "data": {
      "text/plain": [
       "<matplotlib.axes._subplots.AxesSubplot at 0x1e115b55108>"
      ]
     },
     "execution_count": 35,
     "metadata": {},
     "output_type": "execute_result"
    },
    {
     "data": {
      "image/png": "[encoded data removed]",
      "text/plain": [
       "<Figure size 432x288 with 1 Axes>"
      ]
     },
     "metadata": {
      "needs_background": "light"
     },
     "output_type": "display_data"
    }
   ],
   "source": [
    "sns.distplot(train['meter_reading'])"
   ]
  },
  {
   "cell_type": "code",
   "execution_count": 36,
   "metadata": {},
   "outputs": [
    {
     "data": {
      "text/plain": [
       "7703"
      ]
     },
     "execution_count": 36,
     "metadata": {},
     "output_type": "execute_result"
    }
   ],
   "source": [
    "y = train['meter_reading']\n",
    "X = train.drop(['meter_reading', 'site_id','timestamp'], axis=1)\n",
    "del train\n",
    "gc.collect()"
   ]
  },
  {
   "cell_type": "code",
   "execution_count": 37,
   "metadata": {},
   "outputs": [
    {
     "name": "stdout",
     "output_type": "stream",
     "text": [
      "Columns Name of Train\n"
     ]
    },
    {
     "data": {
      "text/plain": [
       "Index(['floor_count', 'air_temperature', 'cloud_coverage', 'dew_temperature',\n",
       "       'precip_depth_1_hr', 'sea_level_pressure', 'wind_direction',\n",
       "       'wind_speed', 'hour', 'DayNumber', 'air_temperature*dew_temperature',\n",
       "       'log_square_feet', 'Age_of_Building', 'Building_id_0', 'Building_id_1',\n",
       "       'Building_id_2', 'Building_id_3', 'Building_id_4', 'Building_id_5',\n",
       "       'Building_id_6', 'Building_id_7', 'Building_id_8', 'Building_id_9',\n",
       "       'Building_id_10', 'Building_id_11', 'Building_id_12', 'Building_id_13',\n",
       "       'Building_id_14', 'meter_0', 'meter_1', 'primary_use_0',\n",
       "       'primary_use_1', 'primary_use_2', 'primary_use_3', 'primary_use_4',\n",
       "       'primary_use_5', 'primary_use_6', 'primary_use_7', 'month_0', 'month_1',\n",
       "       'month_2', 'month_3', 'month_4', 'month_5', 'weekday_0', 'weekday_1',\n",
       "       'weekday_2', 'weekday_3'],\n",
       "      dtype='object')"
      ]
     },
     "execution_count": 37,
     "metadata": {},
     "output_type": "execute_result"
    }
   ],
   "source": [
    "print('Columns Name of Train')\n",
    "columns = X.columns\n",
    "columns"
   ]
  },
  {
   "cell_type": "code",
   "execution_count": 38,
   "metadata": {},
   "outputs": [],
   "source": [
    "params = {  'boosting_type': 'gbdt',\n",
    "            'objective': 'regression',\n",
    "            'metric': {'rmse'},\n",
    "            'subsample_freq': 1,\n",
    "            'learning_rate': 0.3,\n",
    "            'bagging_freq': 5,\n",
    "            'num_leaves': 330,\n",
    "            'feature_fraction': 0.9,\n",
    "            'lambda_l1': 1,  \n",
    "            'lambda_l2': 1\n",
    "            }"
   ]
  },
  {
   "cell_type": "code",
   "execution_count": 39,
   "metadata": {},
   "outputs": [
    {
     "name": "stdout",
     "output_type": "stream",
     "text": [
      "********* 1 *********\n",
      "Training until validation scores don't improve for 100 rounds\n",
      "[200]\ttraining's rmse: 0.560133\tvalid_1's rmse: 1.31836\n",
      "Early stopping, best iteration is:\n",
      "[190]\ttraining's rmse: 0.564499\tvalid_1's rmse: 1.31762\n",
      "Fold 1 | rmse: 1.317616024637855\n",
      "********* 2 *********\n",
      "Training until validation scores don't improve for 100 rounds\n",
      "[200]\ttraining's rmse: 0.543872\tvalid_1's rmse: 1.10116\n",
      "Early stopping, best iteration is:\n",
      "[146]\ttraining's rmse: 0.571891\tvalid_1's rmse: 1.09705\n",
      "Fold 2 | rmse: 1.0970523016913396\n",
      "********* 3 *********\n",
      "Training until validation scores don't improve for 100 rounds\n",
      "[200]\ttraining's rmse: 0.548947\tvalid_1's rmse: 1.08549\n",
      "Early stopping, best iteration is:\n",
      "[112]\ttraining's rmse: 0.604518\tvalid_1's rmse: 1.08185\n",
      "Fold 3 | rmse: 1.0818462686751957\n",
      "********* 4 *********\n",
      "Training until validation scores don't improve for 100 rounds\n",
      "Early stopping, best iteration is:\n",
      "[36]\ttraining's rmse: 0.703548\tvalid_1's rmse: 1.17077\n",
      "Fold 4 | rmse: 1.1707700101617804\n",
      "********* 5 *********\n",
      "Training until validation scores don't improve for 100 rounds\n",
      "Early stopping, best iteration is:\n",
      "[12]\ttraining's rmse: 0.882168\tvalid_1's rmse: 1.40137\n",
      "Fold 5 | rmse: 1.4013735550779318\n",
      "\n",
      "Mean rmse = 1.2137316320488205\n",
      "Out of folds rmse = 1.2202112397155798\n",
      "Wall time: 22min 33s\n"
     ]
    }
   ],
   "source": [
    "%%time\n",
    "\n",
    "NFOLDS = 5\n",
    "folds = KFold(n_splits=NFOLDS)\n",
    "columns = X.columns\n",
    "splits = folds.split(X, y)\n",
    "#y_preds = np.zeros(X_test.shape[0])\n",
    "\n",
    "feature_importances = pd.DataFrame()\n",
    "feature_importances['feature'] = columns\n",
    "\n",
    "y_oof = np.zeros(X.shape[0])\n",
    "score = 0\n",
    "model_all =list()\n",
    "for fold_n, (train_index, valid_index) in enumerate(splits):\n",
    "    print('*********',fold_n+1,'*********')\n",
    "    X_train, X_valid = X[columns].iloc[train_index], X[columns].iloc[valid_index]\n",
    "    y_train, y_valid = y.iloc[train_index], y.iloc[valid_index]\n",
    "    \n",
    "    dtrain = lgb.Dataset(X_train, label=y_train)\n",
    "    dvalid = lgb.Dataset(X_valid, label=y_valid)\n",
    "    \n",
    "    clf = lgb.train(params, dtrain, 500, valid_sets = [dtrain, dvalid], verbose_eval=200, early_stopping_rounds=100)\n",
    "    \n",
    "    model_all.append(clf)\n",
    "    \n",
    "    ## Geting Important Features\n",
    "    feature_importances[f'fold_{fold_n + 1}'] = clf.feature_importance()\n",
    "    \n",
    "    y_pred_valid = clf.predict(X_valid)\n",
    "    y_oof[valid_index] = y_pred_valid\n",
    "    print(f\"Fold {fold_n + 1} | rmse: {np.sqrt(mean_squared_error(y_valid, y_pred_valid))}\")\n",
    "    \n",
    "    score += np.sqrt(mean_squared_error(y_valid, y_pred_valid)) / NFOLDS\n",
    "        \n",
    "    del X_train, X_valid, y_train, y_valid\n",
    "    gc.collect()\n",
    "    \n",
    "print(f\"\\nMean rmse = {score}\")\n",
    "print(f\"Out of folds rmse = {np.sqrt(mean_squared_error(y, y_oof))}\")"
   ]
  },
  {
   "cell_type": "code",
   "execution_count": 40,
   "metadata": {},
   "outputs": [
    {
     "data": {
      "image/png": "[encoded data removed]",
      "text/plain": [
       "<Figure size 1152x1152 with 1 Axes>"
      ]
     },
     "metadata": {
      "needs_background": "light"
     },
     "output_type": "display_data"
    }
   ],
   "source": [
    "feature_importances['average'] = feature_importances[[f'fold_{fold_n + 1}' for fold_n in range(folds.n_splits)]].mean(axis=1)\n",
    "#feature_importances.to_csv('feature_importances.csv')\n",
    "\n",
    "plt.figure(figsize=(16, 16))\n",
    "sns.barplot(data=feature_importances.sort_values(by='average', ascending=False), x='average', y='feature');\n",
    "plt.title('TOP feature importance over {} folds average'.format(folds.n_splits));"
   ]
  },
  {
   "cell_type": "markdown",
   "metadata": {},
   "source": [
    "#### Submission"
   ]
  },
  {
   "cell_type": "code",
   "execution_count": null,
   "metadata": {},
   "outputs": [],
   "source": [
    "#test[\"primary_use\"] = le.fit_transform(test[\"primary_use\"])"
   ]
  },
  {
   "cell_type": "code",
   "execution_count": null,
   "metadata": {},
   "outputs": [],
   "source": [
    "#%%time\n",
    "#test[\"primary_use\"] = le.fit_transform(test[\"primary_use\"])\n",
    "#test=test[columns]\n",
    "#test.head()"
   ]
  },
  {
   "cell_type": "code",
   "execution_count": 43,
   "metadata": {},
   "outputs": [
    {
     "data": {
      "text/plain": [
       "Index(['floor_count', 'air_temperature', 'cloud_coverage', 'dew_temperature',\n",
       "       'precip_depth_1_hr', 'sea_level_pressure', 'wind_direction',\n",
       "       'wind_speed', 'hour', 'DayNumber', 'air_temperature*dew_temperature',\n",
       "       'log_square_feet', 'Age_of_Building', 'Building_id_0', 'Building_id_1',\n",
       "       'Building_id_2', 'Building_id_3', 'Building_id_4', 'Building_id_5',\n",
       "       'Building_id_6', 'Building_id_7', 'Building_id_8', 'Building_id_9',\n",
       "       'Building_id_10', 'Building_id_11', 'Building_id_12', 'Building_id_13',\n",
       "       'Building_id_14', 'meter_0', 'meter_1', 'primary_use_0',\n",
       "       'primary_use_1', 'primary_use_2', 'primary_use_3', 'primary_use_4',\n",
       "       'primary_use_5', 'primary_use_6', 'primary_use_7', 'month_0', 'month_1',\n",
       "       'month_2', 'month_3', 'month_4', 'month_5', 'weekday_0', 'weekday_1',\n",
       "       'weekday_2', 'weekday_3'],\n",
       "      dtype='object')"
      ]
     },
     "execution_count": 43,
     "metadata": {},
     "output_type": "execute_result"
    }
   ],
   "source": [
    "columns"
   ]
  },
  {
   "cell_type": "code",
   "execution_count": 44,
   "metadata": {},
   "outputs": [
    {
     "data": {
      "text/html": [
       "<div>\n",
       "<style scoped>\n",
       "    .dataframe tbody tr th:only-of-type {\n",
       "        vertical-align: middle;\n",
       "    }\n",
       "\n",
       "    .dataframe tbody tr th {\n",
       "        vertical-align: top;\n",
       "    }\n",
       "\n",
       "    .dataframe thead th {\n",
       "        text-align: right;\n",
       "    }\n",
       "</style>\n",
       "<table border=\"1\" class=\"dataframe\">\n",
       "  <thead>\n",
       "    <tr style=\"text-align: right;\">\n",
       "      <th></th>\n",
       "      <th>floor_count</th>\n",
       "      <th>air_temperature</th>\n",
       "      <th>cloud_coverage</th>\n",
       "      <th>dew_temperature</th>\n",
       "      <th>precip_depth_1_hr</th>\n",
       "      <th>sea_level_pressure</th>\n",
       "      <th>wind_direction</th>\n",
       "      <th>wind_speed</th>\n",
       "      <th>hour</th>\n",
       "      <th>DayNumber</th>\n",
       "      <th>...</th>\n",
       "      <th>month_0</th>\n",
       "      <th>month_1</th>\n",
       "      <th>month_2</th>\n",
       "      <th>month_3</th>\n",
       "      <th>month_4</th>\n",
       "      <th>month_5</th>\n",
       "      <th>weekday_0</th>\n",
       "      <th>weekday_1</th>\n",
       "      <th>weekday_2</th>\n",
       "      <th>weekday_3</th>\n",
       "    </tr>\n",
       "  </thead>\n",
       "  <tbody>\n",
       "    <tr>\n",
       "      <td>0</td>\n",
       "      <td>NaN</td>\n",
       "      <td>17.796875</td>\n",
       "      <td>4.0</td>\n",
       "      <td>11.703125</td>\n",
       "      <td>NaN</td>\n",
       "      <td>1021.5</td>\n",
       "      <td>100.0</td>\n",
       "      <td>3.599609</td>\n",
       "      <td>0</td>\n",
       "      <td>1</td>\n",
       "      <td>...</td>\n",
       "      <td>-0.557739</td>\n",
       "      <td>0.211797</td>\n",
       "      <td>0.987777</td>\n",
       "      <td>-0.028873</td>\n",
       "      <td>0.574186</td>\n",
       "      <td>0.059994</td>\n",
       "      <td>-0.072055</td>\n",
       "      <td>-0.107563</td>\n",
       "      <td>0.564499</td>\n",
       "      <td>-0.033751</td>\n",
       "    </tr>\n",
       "    <tr>\n",
       "      <td>1</td>\n",
       "      <td>NaN</td>\n",
       "      <td>17.796875</td>\n",
       "      <td>4.0</td>\n",
       "      <td>11.703125</td>\n",
       "      <td>NaN</td>\n",
       "      <td>1021.5</td>\n",
       "      <td>100.0</td>\n",
       "      <td>3.599609</td>\n",
       "      <td>0</td>\n",
       "      <td>1</td>\n",
       "      <td>...</td>\n",
       "      <td>-0.557739</td>\n",
       "      <td>0.211797</td>\n",
       "      <td>0.987777</td>\n",
       "      <td>-0.028873</td>\n",
       "      <td>0.574186</td>\n",
       "      <td>0.059994</td>\n",
       "      <td>-0.072055</td>\n",
       "      <td>-0.107563</td>\n",
       "      <td>0.564499</td>\n",
       "      <td>-0.033751</td>\n",
       "    </tr>\n",
       "    <tr>\n",
       "      <td>2</td>\n",
       "      <td>NaN</td>\n",
       "      <td>17.796875</td>\n",
       "      <td>4.0</td>\n",
       "      <td>11.703125</td>\n",
       "      <td>NaN</td>\n",
       "      <td>1021.5</td>\n",
       "      <td>100.0</td>\n",
       "      <td>3.599609</td>\n",
       "      <td>0</td>\n",
       "      <td>1</td>\n",
       "      <td>...</td>\n",
       "      <td>-0.557739</td>\n",
       "      <td>0.211797</td>\n",
       "      <td>0.987777</td>\n",
       "      <td>-0.028873</td>\n",
       "      <td>0.574186</td>\n",
       "      <td>0.059994</td>\n",
       "      <td>-0.072055</td>\n",
       "      <td>-0.107563</td>\n",
       "      <td>0.564499</td>\n",
       "      <td>-0.033751</td>\n",
       "    </tr>\n",
       "    <tr>\n",
       "      <td>3</td>\n",
       "      <td>NaN</td>\n",
       "      <td>17.796875</td>\n",
       "      <td>4.0</td>\n",
       "      <td>11.703125</td>\n",
       "      <td>NaN</td>\n",
       "      <td>1021.5</td>\n",
       "      <td>100.0</td>\n",
       "      <td>3.599609</td>\n",
       "      <td>0</td>\n",
       "      <td>1</td>\n",
       "      <td>...</td>\n",
       "      <td>-0.557739</td>\n",
       "      <td>0.211797</td>\n",
       "      <td>0.987777</td>\n",
       "      <td>-0.028873</td>\n",
       "      <td>0.574186</td>\n",
       "      <td>0.059994</td>\n",
       "      <td>-0.072055</td>\n",
       "      <td>-0.107563</td>\n",
       "      <td>0.564499</td>\n",
       "      <td>-0.033751</td>\n",
       "    </tr>\n",
       "    <tr>\n",
       "      <td>4</td>\n",
       "      <td>NaN</td>\n",
       "      <td>17.796875</td>\n",
       "      <td>4.0</td>\n",
       "      <td>11.703125</td>\n",
       "      <td>NaN</td>\n",
       "      <td>1021.5</td>\n",
       "      <td>100.0</td>\n",
       "      <td>3.599609</td>\n",
       "      <td>0</td>\n",
       "      <td>1</td>\n",
       "      <td>...</td>\n",
       "      <td>-0.557739</td>\n",
       "      <td>0.211797</td>\n",
       "      <td>0.987777</td>\n",
       "      <td>-0.028873</td>\n",
       "      <td>0.574186</td>\n",
       "      <td>0.059994</td>\n",
       "      <td>-0.072055</td>\n",
       "      <td>-0.107563</td>\n",
       "      <td>0.564499</td>\n",
       "      <td>-0.033751</td>\n",
       "    </tr>\n",
       "  </tbody>\n",
       "</table>\n",
       "<p>5 rows × 48 columns</p>\n",
       "</div>"
      ],
      "text/plain": [
       "   floor_count  air_temperature  cloud_coverage  dew_temperature  \\\n",
       "0          NaN        17.796875             4.0        11.703125   \n",
       "1          NaN        17.796875             4.0        11.703125   \n",
       "2          NaN        17.796875             4.0        11.703125   \n",
       "3          NaN        17.796875             4.0        11.703125   \n",
       "4          NaN        17.796875             4.0        11.703125   \n",
       "\n",
       "   precip_depth_1_hr  sea_level_pressure  wind_direction  wind_speed  hour  \\\n",
       "0                NaN              1021.5           100.0    3.599609     0   \n",
       "1                NaN              1021.5           100.0    3.599609     0   \n",
       "2                NaN              1021.5           100.0    3.599609     0   \n",
       "3                NaN              1021.5           100.0    3.599609     0   \n",
       "4                NaN              1021.5           100.0    3.599609     0   \n",
       "\n",
       "   DayNumber  ...   month_0   month_1   month_2   month_3   month_4   month_5  \\\n",
       "0          1  ... -0.557739  0.211797  0.987777 -0.028873  0.574186  0.059994   \n",
       "1          1  ... -0.557739  0.211797  0.987777 -0.028873  0.574186  0.059994   \n",
       "2          1  ... -0.557739  0.211797  0.987777 -0.028873  0.574186  0.059994   \n",
       "3          1  ... -0.557739  0.211797  0.987777 -0.028873  0.574186  0.059994   \n",
       "4          1  ... -0.557739  0.211797  0.987777 -0.028873  0.574186  0.059994   \n",
       "\n",
       "   weekday_0  weekday_1  weekday_2  weekday_3  \n",
       "0  -0.072055  -0.107563   0.564499  -0.033751  \n",
       "1  -0.072055  -0.107563   0.564499  -0.033751  \n",
       "2  -0.072055  -0.107563   0.564499  -0.033751  \n",
       "3  -0.072055  -0.107563   0.564499  -0.033751  \n",
       "4  -0.072055  -0.107563   0.564499  -0.033751  \n",
       "\n",
       "[5 rows x 48 columns]"
      ]
     },
     "execution_count": 44,
     "metadata": {},
     "output_type": "execute_result"
    }
   ],
   "source": [
    "test=test[columns]\n",
    "test.head()"
   ]
  },
  {
   "cell_type": "code",
   "execution_count": 45,
   "metadata": {},
   "outputs": [
    {
     "name": "stderr",
     "output_type": "stream",
     "text": [
      "100%|████████████████████████████████████████████████████████████████████████████████| 834/834 [13:19<00:00,  1.04it/s]\n"
     ]
    }
   ],
   "source": [
    "from tqdm import tqdm\n",
    "i=0\n",
    "res=[]\n",
    "step_size = 50000\n",
    "for j in tqdm(range(int(np.ceil(test.shape[0]/50000)))):\n",
    "    res.append(np.expm1(sum([model.predict(test.iloc[i:i+step_size]) for model in model_all])/NFOLDS))\n",
    "    i+=step_size"
   ]
  },
  {
   "cell_type": "code",
   "execution_count": 46,
   "metadata": {},
   "outputs": [],
   "source": [
    "res = np.concatenate(res)"
   ]
  },
  {
   "cell_type": "code",
   "execution_count": 47,
   "metadata": {},
   "outputs": [
    {
     "data": {
      "text/plain": [
       "(41697600,)"
      ]
     },
     "execution_count": 47,
     "metadata": {},
     "output_type": "execute_result"
    }
   ],
   "source": [
    "res.shape"
   ]
  },
  {
   "cell_type": "code",
   "execution_count": 48,
   "metadata": {},
   "outputs": [
    {
     "data": {
      "text/plain": [
       "<matplotlib.axes._subplots.AxesSubplot at 0x1e1162fc8c8>"
      ]
     },
     "execution_count": 48,
     "metadata": {},
     "output_type": "execute_result"
    },
    {
     "data": {
      "image/png": "[encoded data removed]",
      "text/plain": [
       "<Figure size 432x288 with 1 Axes>"
      ]
     },
     "metadata": {
      "needs_background": "light"
     },
     "output_type": "display_data"
    }
   ],
   "source": [
    "sns.distplot(res)"
   ]
  },
  {
   "cell_type": "code",
   "execution_count": 49,
   "metadata": {},
   "outputs": [
    {
     "data": {
      "text/html": [
       "<div>\n",
       "<style scoped>\n",
       "    .dataframe tbody tr th:only-of-type {\n",
       "        vertical-align: middle;\n",
       "    }\n",
       "\n",
       "    .dataframe tbody tr th {\n",
       "        vertical-align: top;\n",
       "    }\n",
       "\n",
       "    .dataframe thead th {\n",
       "        text-align: right;\n",
       "    }\n",
       "</style>\n",
       "<table border=\"1\" class=\"dataframe\">\n",
       "  <thead>\n",
       "    <tr style=\"text-align: right;\">\n",
       "      <th></th>\n",
       "      <th>row_id</th>\n",
       "      <th>meter_reading</th>\n",
       "    </tr>\n",
       "  </thead>\n",
       "  <tbody>\n",
       "    <tr>\n",
       "      <td>0</td>\n",
       "      <td>0</td>\n",
       "      <td>0</td>\n",
       "    </tr>\n",
       "    <tr>\n",
       "      <td>1</td>\n",
       "      <td>1</td>\n",
       "      <td>0</td>\n",
       "    </tr>\n",
       "    <tr>\n",
       "      <td>2</td>\n",
       "      <td>2</td>\n",
       "      <td>0</td>\n",
       "    </tr>\n",
       "    <tr>\n",
       "      <td>3</td>\n",
       "      <td>3</td>\n",
       "      <td>0</td>\n",
       "    </tr>\n",
       "    <tr>\n",
       "      <td>4</td>\n",
       "      <td>4</td>\n",
       "      <td>0</td>\n",
       "    </tr>\n",
       "  </tbody>\n",
       "</table>\n",
       "</div>"
      ],
      "text/plain": [
       "   row_id  meter_reading\n",
       "0       0              0\n",
       "1       1              0\n",
       "2       2              0\n",
       "3       3              0\n",
       "4       4              0"
      ]
     },
     "execution_count": 49,
     "metadata": {},
     "output_type": "execute_result"
    }
   ],
   "source": [
    "sub = pd.read_csv(\"C:/Users/SGAUR/Desktop/Asphare/ashrae-energy-prediction/sample_submission.csv\")\n",
    "sub.head()"
   ]
  },
  {
   "cell_type": "code",
   "execution_count": 52,
   "metadata": {},
   "outputs": [
    {
     "name": "stdout",
     "output_type": "stream",
     "text": [
      "Wall time: 2min 26s\n"
     ]
    },
    {
     "data": {
      "text/html": [
       "<div>\n",
       "<style scoped>\n",
       "    .dataframe tbody tr th:only-of-type {\n",
       "        vertical-align: middle;\n",
       "    }\n",
       "\n",
       "    .dataframe tbody tr th {\n",
       "        vertical-align: top;\n",
       "    }\n",
       "\n",
       "    .dataframe thead th {\n",
       "        text-align: right;\n",
       "    }\n",
       "</style>\n",
       "<table border=\"1\" class=\"dataframe\">\n",
       "  <thead>\n",
       "    <tr style=\"text-align: right;\">\n",
       "      <th></th>\n",
       "      <th>row_id</th>\n",
       "      <th>meter_reading</th>\n",
       "    </tr>\n",
       "  </thead>\n",
       "  <tbody>\n",
       "    <tr>\n",
       "      <td>0</td>\n",
       "      <td>0</td>\n",
       "      <td>1.122790</td>\n",
       "    </tr>\n",
       "    <tr>\n",
       "      <td>1</td>\n",
       "      <td>1</td>\n",
       "      <td>0.949914</td>\n",
       "    </tr>\n",
       "    <tr>\n",
       "      <td>2</td>\n",
       "      <td>2</td>\n",
       "      <td>0.672264</td>\n",
       "    </tr>\n",
       "    <tr>\n",
       "      <td>3</td>\n",
       "      <td>3</td>\n",
       "      <td>1.259190</td>\n",
       "    </tr>\n",
       "    <tr>\n",
       "      <td>4</td>\n",
       "      <td>4</td>\n",
       "      <td>1.534207</td>\n",
       "    </tr>\n",
       "    <tr>\n",
       "      <td>...</td>\n",
       "      <td>...</td>\n",
       "      <td>...</td>\n",
       "    </tr>\n",
       "    <tr>\n",
       "      <td>41697595</td>\n",
       "      <td>41697595</td>\n",
       "      <td>6.342535</td>\n",
       "    </tr>\n",
       "    <tr>\n",
       "      <td>41697596</td>\n",
       "      <td>41697596</td>\n",
       "      <td>4.586544</td>\n",
       "    </tr>\n",
       "    <tr>\n",
       "      <td>41697597</td>\n",
       "      <td>41697597</td>\n",
       "      <td>3.367343</td>\n",
       "    </tr>\n",
       "    <tr>\n",
       "      <td>41697598</td>\n",
       "      <td>41697598</td>\n",
       "      <td>180.496752</td>\n",
       "    </tr>\n",
       "    <tr>\n",
       "      <td>41697599</td>\n",
       "      <td>41697599</td>\n",
       "      <td>2.962893</td>\n",
       "    </tr>\n",
       "  </tbody>\n",
       "</table>\n",
       "<p>41697600 rows × 2 columns</p>\n",
       "</div>"
      ],
      "text/plain": [
       "            row_id  meter_reading\n",
       "0                0       1.122790\n",
       "1                1       0.949914\n",
       "2                2       0.672264\n",
       "3                3       1.259190\n",
       "4                4       1.534207\n",
       "...            ...            ...\n",
       "41697595  41697595       6.342535\n",
       "41697596  41697596       4.586544\n",
       "41697597  41697597       3.367343\n",
       "41697598  41697598     180.496752\n",
       "41697599  41697599       2.962893\n",
       "\n",
       "[41697600 rows x 2 columns]"
      ]
     },
     "execution_count": 52,
     "metadata": {},
     "output_type": "execute_result"
    }
   ],
   "source": [
    "%%time\n",
    "sub['meter_reading'] = res\n",
    "sub.loc[sub['meter_reading']<0, 'meter_reading'] = 0\n",
    "sub.to_csv('submission.csv', index=False)\n",
    "sub"
   ]
  },
  {
   "cell_type": "code",
   "execution_count": null,
   "metadata": {},
   "outputs": [],
   "source": [
    "test.head()"
   ]
  },
  {
   "cell_type": "code",
   "execution_count": null,
   "metadata": {},
   "outputs": [],
   "source": []
  }
 ],
 "metadata": {
  "kernelspec": {
   "display_name": "Python 3",
   "language": "python",
   "name": "python3"
  },
  "language_info": {
   "codemirror_mode": {
    "name": "ipython",
    "version": 3
   },
   "file_extension": ".py",
   "mimetype": "text/x-python",
   "name": "python",
   "nbconvert_exporter": "python",
   "pygments_lexer": "ipython3",
   "version": "3.7.4"
  }
 },
 "nbformat": 4,
 "nbformat_minor": 2
}
