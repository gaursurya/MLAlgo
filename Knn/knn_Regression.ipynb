{
 "cells": [
  {
   "cell_type": "markdown",
   "metadata": {},
   "source": [
    "# K-Nearest Neighbor for Regression"
   ]
  },
  {
   "cell_type": "code",
   "execution_count": 1,
   "metadata": {},
   "outputs": [],
   "source": [
    "## Importing Library\n",
    "import pandas as pd\n",
    "import numpy as np\n",
    "import matplotlib.pyplot as plt\n",
    "import seaborn as sns\n",
    "from numpy.linalg import inv\n",
    "from math import sqrt\n",
    "from sklearn import preprocessing"
   ]
  },
  {
   "cell_type": "code",
   "execution_count": 2,
   "metadata": {},
   "outputs": [
    {
     "name": "stdout",
     "output_type": "stream",
     "text": [
      "<class 'pandas.core.frame.DataFrame'>\n",
      "RangeIndex: 398 entries, 0 to 397\n",
      "Data columns (total 4 columns):\n",
      "mpg             398 non-null float64\n",
      "weight          398 non-null int64\n",
      "acceleration    398 non-null float64\n",
      "displacement    398 non-null float64\n",
      "dtypes: float64(3), int64(1)\n",
      "memory usage: 12.5 KB\n"
     ]
    }
   ],
   "source": [
    "df=pd.read_csv(\"auto-mpg.csv\",low_memory=False)\n",
    "df=df[['mpg','weight','acceleration','displacement']]\n",
    "df.info()"
   ]
  },
  {
   "cell_type": "code",
   "execution_count": 3,
   "metadata": {},
   "outputs": [
    {
     "data": {
      "text/html": [
       "<div>\n",
       "<style scoped>\n",
       "    .dataframe tbody tr th:only-of-type {\n",
       "        vertical-align: middle;\n",
       "    }\n",
       "\n",
       "    .dataframe tbody tr th {\n",
       "        vertical-align: top;\n",
       "    }\n",
       "\n",
       "    .dataframe thead th {\n",
       "        text-align: right;\n",
       "    }\n",
       "</style>\n",
       "<table border=\"1\" class=\"dataframe\">\n",
       "  <thead>\n",
       "    <tr style=\"text-align: right;\">\n",
       "      <th></th>\n",
       "      <th>mpg</th>\n",
       "      <th>weight</th>\n",
       "      <th>acceleration</th>\n",
       "      <th>displacement</th>\n",
       "    </tr>\n",
       "  </thead>\n",
       "  <tbody>\n",
       "    <tr>\n",
       "      <th>0</th>\n",
       "      <td>0.239362</td>\n",
       "      <td>0.536150</td>\n",
       "      <td>0.238095</td>\n",
       "      <td>0.617571</td>\n",
       "    </tr>\n",
       "    <tr>\n",
       "      <th>1</th>\n",
       "      <td>0.159574</td>\n",
       "      <td>0.589736</td>\n",
       "      <td>0.208333</td>\n",
       "      <td>0.728682</td>\n",
       "    </tr>\n",
       "    <tr>\n",
       "      <th>2</th>\n",
       "      <td>0.239362</td>\n",
       "      <td>0.516870</td>\n",
       "      <td>0.178571</td>\n",
       "      <td>0.645995</td>\n",
       "    </tr>\n",
       "    <tr>\n",
       "      <th>3</th>\n",
       "      <td>0.186170</td>\n",
       "      <td>0.516019</td>\n",
       "      <td>0.238095</td>\n",
       "      <td>0.609819</td>\n",
       "    </tr>\n",
       "    <tr>\n",
       "      <th>4</th>\n",
       "      <td>0.212766</td>\n",
       "      <td>0.520556</td>\n",
       "      <td>0.148810</td>\n",
       "      <td>0.604651</td>\n",
       "    </tr>\n",
       "  </tbody>\n",
       "</table>\n",
       "</div>"
      ],
      "text/plain": [
       "        mpg    weight  acceleration  displacement\n",
       "0  0.239362  0.536150      0.238095      0.617571\n",
       "1  0.159574  0.589736      0.208333      0.728682\n",
       "2  0.239362  0.516870      0.178571      0.645995\n",
       "3  0.186170  0.516019      0.238095      0.609819\n",
       "4  0.212766  0.520556      0.148810      0.604651"
      ]
     },
     "execution_count": 3,
     "metadata": {},
     "output_type": "execute_result"
    }
   ],
   "source": [
    "from sklearn import preprocessing\n",
    "\n",
    "x = df.values #returns a numpy array\n",
    "min_max_scaler = preprocessing.MinMaxScaler()\n",
    "x_scaled = min_max_scaler.fit_transform(x)\n",
    "df = pd.DataFrame(x_scaled)\n",
    "df.columns = ['mpg', 'weight','acceleration','displacement']\n",
    "df.head()"
   ]
  },
  {
   "cell_type": "code",
   "execution_count": 4,
   "metadata": {},
   "outputs": [],
   "source": [
    "## Target Variable\n",
    "df_y=df['mpg']\n",
    "#df_y.head()"
   ]
  },
  {
   "cell_type": "code",
   "execution_count": 5,
   "metadata": {},
   "outputs": [],
   "source": [
    "## Independent Variables\n",
    "df_x=df.drop('mpg', axis=1)\n",
    "#df_x.head()"
   ]
  },
  {
   "cell_type": "markdown",
   "metadata": {},
   "source": [
    "# Train-Test Split"
   ]
  },
  {
   "cell_type": "code",
   "execution_count": 6,
   "metadata": {},
   "outputs": [],
   "source": [
    "from sklearn.model_selection import train_test_split\n",
    "x_train, x_test, y_train, y_test = train_test_split(df_x,df_y, test_size=0.20, random_state=123)"
   ]
  },
  {
   "cell_type": "code",
   "execution_count": 8,
   "metadata": {},
   "outputs": [],
   "source": [
    "distance=[]\n",
    "def eucledianDistance(x_test,x_train):\n",
    "    for i in range(len(x_test)):\n",
    "        for j in range(len(x_train)):\n",
    "            square_root=np.sum((x_train.iloc[j]-x_test.iloc[i])**2)\n",
    "            distance.append(square_root)\n",
    "eucledianDistance(x_test,x_train)"
   ]
  },
  {
   "cell_type": "code",
   "execution_count": 9,
   "metadata": {},
   "outputs": [
    {
     "data": {
      "text/plain": [
       "25440"
      ]
     },
     "execution_count": 9,
     "metadata": {},
     "output_type": "execute_result"
    }
   ],
   "source": [
    "len(distance)"
   ]
  },
  {
   "cell_type": "code",
   "execution_count": 10,
   "metadata": {},
   "outputs": [],
   "source": [
    "def df_to_mat(distance):\n",
    "    distance_matrix=np.asarray(distance).reshape((len(x_test), len(x_train)))\n",
    "    return distance_matrix\n",
    "distance_matrix=df_to_mat(distance)"
   ]
  },
  {
   "cell_type": "code",
   "execution_count": 12,
   "metadata": {},
   "outputs": [],
   "source": [
    "Z_sort=[]\n",
    "def sort():\n",
    "    for i in range(len(distance_matrix)):\n",
    "        Z_sort.append([x for _,x in sorted(zip(distance_matrix[i],y_train))])\n",
    "sort()"
   ]
  },
  {
   "cell_type": "code",
   "execution_count": 14,
   "metadata": {},
   "outputs": [
    {
     "data": {
      "text/plain": [
       "array([[0.50531915, 0.39893617, 0.67819149, ..., 0.13297872, 0.07978723,\n",
       "        0.07978723],\n",
       "       [0.10638298, 0.07978723, 0.10638298, ..., 0.53191489, 0.61170213,\n",
       "        0.93085106],\n",
       "       [0.30053191, 0.55319149, 0.43882979, ..., 0.13297872, 0.13297872,\n",
       "        0.07978723],\n",
       "       ...,\n",
       "       [0.30585106, 0.30851064, 0.30585106, ..., 0.13297872, 0.13297872,\n",
       "        0.07978723],\n",
       "       [0.15957447, 0.25265957, 0.18617021, ..., 0.07978723, 0.13297872,\n",
       "        0.13297872],\n",
       "       [0.29787234, 0.18617021, 0.26861702, ..., 0.13297872, 0.13297872,\n",
       "        0.07978723]])"
      ]
     },
     "execution_count": 14,
     "metadata": {},
     "output_type": "execute_result"
    }
   ],
   "source": [
    "## Changing list to array\n",
    "Z_sort=np.asarray(Z_sort)\n",
    "Z_sort"
   ]
  },
  {
   "cell_type": "code",
   "execution_count": 15,
   "metadata": {},
   "outputs": [],
   "source": [
    "## 7-Nearest Neighbour\n",
    "regression_table=[]\n",
    "def knnReg(k,Z_sort):\n",
    "    for xx in range(len(Z_sort)):\n",
    "        regression_table.append(np.mean(Z_sort[:,0:k][xx]))\n",
    "knnReg(7,Z_sort)"
   ]
  },
  {
   "cell_type": "code",
   "execution_count": 25,
   "metadata": {},
   "outputs": [
    {
     "data": {
      "text/plain": [
       "array([0.54027356, 0.11398176, 0.38639818, 0.63601824, 0.62348024,\n",
       "       0.1899696 , 0.65349544, 0.54635258, 0.58320669, 0.12727964,\n",
       "       0.50341945, 0.59992401, 0.25227964, 0.32028875, 0.25683891,\n",
       "       0.2781155 , 0.15577508, 0.3662614 , 0.16907295, 0.13677812,\n",
       "       0.64399696, 0.13487842, 0.693769  , 0.63639818, 0.28191489,\n",
       "       0.27165653, 0.15577508, 0.48594225, 0.62348024, 0.46542553,\n",
       "       0.43541033, 0.28951368, 0.42325228, 0.12537994, 0.4612462 ,\n",
       "       0.67895137, 0.30547112, 0.62955927, 0.15957447, 0.68085106,\n",
       "       0.1899696 , 0.72074468, 0.52773556, 0.55927052, 0.58092705,\n",
       "       0.26025836, 0.0949848 , 0.43275076, 0.45136778, 0.64475684,\n",
       "       0.13677812, 0.59612462, 0.58776596, 0.43541033, 0.50303951,\n",
       "       0.30395137, 0.13297872, 0.48024316, 0.15387538, 0.45554711,\n",
       "       0.59878419, 0.50113982, 0.74734043, 0.67211246, 0.4612462 ,\n",
       "       0.47720365, 0.24848024, 0.65729483, 0.26785714, 0.59878419,\n",
       "       0.1918693 , 0.27203647, 0.57028875, 0.5881459 , 0.26671733,\n",
       "       0.64893617, 0.2606383 , 0.28723404, 0.2131459 , 0.25      ])"
      ]
     },
     "execution_count": 25,
     "metadata": {},
     "output_type": "execute_result"
    }
   ],
   "source": [
    "## Changing List into Matrix\n",
    "np.asarray(regression_table)"
   ]
  },
  {
   "cell_type": "markdown",
   "metadata": {},
   "source": [
    "# Using Sklearn"
   ]
  },
  {
   "cell_type": "code",
   "execution_count": 19,
   "metadata": {},
   "outputs": [
    {
     "data": {
      "text/plain": [
       "KNeighborsRegressor(algorithm='auto', leaf_size=30, metric='minkowski',\n",
       "          metric_params=None, n_jobs=1, n_neighbors=7, p=2,\n",
       "          weights='uniform')"
      ]
     },
     "execution_count": 19,
     "metadata": {},
     "output_type": "execute_result"
    }
   ],
   "source": [
    "from sklearn.neighbors import KNeighborsRegressor\n",
    "neigh = KNeighborsRegressor(n_neighbors=7)\n",
    "neigh.fit(x_train, y_train) \n"
   ]
  },
  {
   "cell_type": "code",
   "execution_count": 20,
   "metadata": {},
   "outputs": [
    {
     "data": {
      "text/plain": [
       "array([0.54027356, 0.11398176, 0.38639818, 0.63601824, 0.62348024,\n",
       "       0.1899696 , 0.65349544, 0.54635258, 0.58320669, 0.12727964,\n",
       "       0.50341945, 0.59992401, 0.25227964, 0.32028875, 0.25683891,\n",
       "       0.2781155 , 0.15577508, 0.3662614 , 0.16907295, 0.13677812,\n",
       "       0.64399696, 0.13487842, 0.693769  , 0.63639818, 0.28191489,\n",
       "       0.27165653, 0.15577508, 0.48594225, 0.62348024, 0.46542553,\n",
       "       0.43541033, 0.28951368, 0.42325228, 0.12537994, 0.4612462 ,\n",
       "       0.67895137, 0.30547112, 0.62955927, 0.15957447, 0.68085106,\n",
       "       0.1899696 , 0.72074468, 0.52773556, 0.55927052, 0.58092705,\n",
       "       0.26025836, 0.0949848 , 0.43275076, 0.45136778, 0.64475684,\n",
       "       0.13677812, 0.59612462, 0.58776596, 0.43541033, 0.50303951,\n",
       "       0.30395137, 0.13297872, 0.48024316, 0.15387538, 0.45554711,\n",
       "       0.59878419, 0.50113982, 0.74734043, 0.67211246, 0.4612462 ,\n",
       "       0.47720365, 0.24848024, 0.65729483, 0.26785714, 0.59878419,\n",
       "       0.1918693 , 0.27203647, 0.57028875, 0.5881459 , 0.26671733,\n",
       "       0.64893617, 0.2606383 , 0.28723404, 0.2131459 , 0.25      ])"
      ]
     },
     "execution_count": 20,
     "metadata": {},
     "output_type": "execute_result"
    }
   ],
   "source": [
    "y_expect=y_test\n",
    "y_pred=neigh.predict(x_test)\n",
    "y_pred"
   ]
  },
  {
   "cell_type": "code",
   "execution_count": 21,
   "metadata": {},
   "outputs": [
    {
     "data": {
      "text/plain": [
       "(80,)"
      ]
     },
     "execution_count": 21,
     "metadata": {},
     "output_type": "execute_result"
    }
   ],
   "source": [
    "y_pred.shape"
   ]
  },
  {
   "cell_type": "code",
   "execution_count": null,
   "metadata": {},
   "outputs": [],
   "source": []
  }
 ],
 "metadata": {
  "kernelspec": {
   "display_name": "Python 3",
   "language": "python",
   "name": "python3"
  },
  "language_info": {
   "codemirror_mode": {
    "name": "ipython",
    "version": 3
   },
   "file_extension": ".py",
   "mimetype": "text/x-python",
   "name": "python",
   "nbconvert_exporter": "python",
   "pygments_lexer": "ipython3",
   "version": "3.6.5"
  }
 },
 "nbformat": 4,
 "nbformat_minor": 2
}
