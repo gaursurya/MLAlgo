{
 "cells": [
  {
   "cell_type": "markdown",
   "metadata": {},
   "source": [
    "#### Vanilla RNN\n",
    "#### With 1-Hidden unit,Input unit and output unit"
   ]
  },
  {
   "cell_type": "code",
   "execution_count": 1,
   "metadata": {},
   "outputs": [],
   "source": [
    "# Package imports\n",
    "import matplotlib.pyplot as plt\n",
    "import numpy as np\n",
    "import sklearn\n",
    "import sklearn.datasets\n",
    "import sklearn.linear_model\n",
    "import matplotlib\n",
    "import pandas as pd\n",
    "import random\n",
    "# Display plots inline and change default figure size\n",
    "%matplotlib inline\n",
    "matplotlib.rcParams['figure.figsize'] = (10.0, 8.0)"
   ]
  },
  {
   "cell_type": "code",
   "execution_count": 2,
   "metadata": {},
   "outputs": [],
   "source": [
    "def sigmoid(x):\n",
    "    output = 1/(1+np.exp(-x))\n",
    "    return output"
   ]
  },
  {
   "cell_type": "code",
   "execution_count": 3,
   "metadata": {},
   "outputs": [],
   "source": [
    "def sigmoidPrime(output):\n",
    "    return output*(1-output)"
   ]
  },
  {
   "cell_type": "code",
   "execution_count": 4,
   "metadata": {},
   "outputs": [
    {
     "name": "stdout",
     "output_type": "stream",
     "text": [
      "shape of X --> (1, 1) \n",
      "Shape of Y--> (1, 1)\n"
     ]
    }
   ],
   "source": [
    "X=np.array([[1]])\n",
    "Y=np.array([[2]])\n",
    "print('shape of X -->',X.shape,'\\nShape of Y-->',Y.shape)"
   ]
  },
  {
   "cell_type": "code",
   "execution_count": 5,
   "metadata": {},
   "outputs": [],
   "source": [
    "## Derivative of why\n",
    "#(Y_pred-Y)*sigmoidPrime(a2)*z1\n",
    "\n",
    "## Derivative of whh\n",
    "# (Y_pred-Y)*sigmoidPrime(a2)*why*sigmoidPrime(z1)*h0\n",
    "\n",
    "## Derivative of whx\n",
    "# (Y_pred-Y)*sigmoidPrime(a2)*why*sigmoidPrime(z1)*X"
   ]
  },
  {
   "cell_type": "code",
   "execution_count": 6,
   "metadata": {},
   "outputs": [],
   "source": [
    "\"\"\"\n",
    "It is very simple RNN\n",
    "Consists 1=hidden layer,1=output layer and 1 Input\n",
    "putting hidden dimension more than 1 will give dimension reduction problem\n",
    "\n",
    "Will make more RNN with multiple input values\n",
    "\"\"\"\n",
    "def Vanilla_RNN(lr,epoch):\n",
    "            hidden_dim=1\n",
    "            input_dim = 1\n",
    "            output_dim = 1\n",
    "    ## initializing previous state\n",
    "            h0=np.zeros(hidden_dim)\n",
    "    \n",
    "    ### Randomizing the weight matrix\n",
    "            random.seed(123)\n",
    "            wxh = 2*np.random.random((input_dim,hidden_dim)) - 1\n",
    "            why = 2*np.random.random((hidden_dim,output_dim)) - 1\n",
    "            whh = 2*np.random.random((hidden_dim,hidden_dim)) - 1\n",
    "            \n",
    "            for i in range(0,epoch):\n",
    "                a1=np.dot(X,wxh) + np.dot(h0,whh)\n",
    "\n",
    "                z1=sigmoid(a1)\n",
    "                a2=np.dot(z1,why)\n",
    "                z2=sigmoid(a2)\n",
    "                ### y prediction is actually z2 or sigmoid of a2.\n",
    "                Y_pred=z2\n",
    "\n",
    "                cost=(Y_pred-Y)**2\n",
    "            ## Derivative of why\n",
    "                djdwhy=(((Y_pred-Y)*sigmoidPrime(a2)*z1).T)\n",
    "\n",
    "            ## Derivative of whh\n",
    "                djdwhh= djdwhh= (Y_pred-Y)*sigmoidPrime(a2)*why*sigmoidPrime(a1)*h0\n",
    "\n",
    "            ## Derivative of whx\n",
    "                djdwxh=(Y_pred-Y)*sigmoidPrime(a2)*why*sigmoidPrime(a1)*X\n",
    "\n",
    "            ## Applying SGD\n",
    "\n",
    "                why=why-lr*djdwhy\n",
    "                whh=whh-lr*djdwhh\n",
    "                wxh=wxh-lr*djdwxh\n",
    "\n",
    "\n",
    "            # Assign new parameters to the model\n",
    "                model={}\n",
    "\n",
    "                model = {'RMSE Loss':cost,'why': why,'whh': whh,'whx':wxh}\n",
    "\n",
    "                if i%20 ==0:\n",
    "                    print('RMSE Loss',cost,'\\n','why',why,'\\n','whh','\\n',whh,'\\n','wxh','\\n',wxh)\n",
    "                    print('----------------------------------------------------------------')\n",
    "\n",
    "\n",
    "\n",
    "            return model"
   ]
  },
  {
   "cell_type": "code",
   "execution_count": 7,
   "metadata": {},
   "outputs": [
    {
     "name": "stdout",
     "output_type": "stream",
     "text": [
      "RMSE Loss [[1.96836415]] \n",
      " why [[0.66147448]] \n",
      " whh \n",
      " [[-0.38462294]] \n",
      " wxh \n",
      " [[0.38214199]]\n",
      "----------------------------------------------------------------\n",
      "RMSE Loss [[1.96665314]] \n",
      " why [[0.66545789]] \n",
      " whh \n",
      " [[-0.38462294]] \n",
      " wxh \n",
      " [[0.38319197]]\n",
      "----------------------------------------------------------------\n",
      "RMSE Loss [[1.96493784]] \n",
      " why [[0.66945012]] \n",
      " whh \n",
      " [[-0.38462294]] \n",
      " wxh \n",
      " [[0.38425124]]\n",
      "----------------------------------------------------------------\n"
     ]
    },
    {
     "data": {
      "text/plain": [
       "{'RMSE Loss': array([[1.96416457]]),\n",
       " 'why': array([[0.67124945]]),\n",
       " 'whh': array([[-0.38462294]]),\n",
       " 'whx': array([[0.38473095]])}"
      ]
     },
     "execution_count": 7,
     "metadata": {},
     "output_type": "execute_result"
    }
   ],
   "source": [
    "Vanilla_RNN(lr=.001,epoch=50)"
   ]
  },
  {
   "cell_type": "code",
   "execution_count": null,
   "metadata": {},
   "outputs": [],
   "source": []
  }
 ],
 "metadata": {
  "kernelspec": {
   "display_name": "Python 3",
   "language": "python",
   "name": "python3"
  },
  "language_info": {
   "codemirror_mode": {
    "name": "ipython",
    "version": 3
   },
   "file_extension": ".py",
   "mimetype": "text/x-python",
   "name": "python",
   "nbconvert_exporter": "python",
   "pygments_lexer": "ipython3",
   "version": "3.6.5"
  }
 },
 "nbformat": 4,
 "nbformat_minor": 2
}
