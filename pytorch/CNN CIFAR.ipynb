{
  "nbformat": 4,
  "nbformat_minor": 0,
  "metadata": {
    "colab": {
      "name": "CNN CIFAR.ipynb",
      "provenance": []
    },
    "kernelspec": {
      "name": "python3",
      "display_name": "Python 3"
    }
  },
  "cells": [
    {
      "cell_type": "code",
      "metadata": {
        "id": "LqgU6ejgcStG",
        "colab_type": "code",
        "colab": {}
      },
      "source": [
        "### https://www.stefanfiott.com/machine-learning/cifar-10-classifier-using-cnn-in-pytorch/\n",
        "### https://github.com/pytorch/tutorials/blob/master/beginner_source/blitz/cifar10_tutorial.py\n",
        "import torch\n",
        "import torch.nn as nn\n",
        "import torch.nn.functional as F\n",
        "import torchvision\n",
        "import torchvision.transforms as transforms\n",
        "import matplotlib.pyplot as plt\n",
        "import numpy as np"
      ],
      "execution_count": 0,
      "outputs": []
    },
    {
      "cell_type": "code",
      "metadata": {
        "id": "v9q2BDGxpErp",
        "colab_type": "code",
        "colab": {}
      },
      "source": [
        "# Device configuration\n",
        "device = torch.device('cuda' if torch.cuda.is_available() else 'cpu')"
      ],
      "execution_count": 0,
      "outputs": []
    },
    {
      "cell_type": "code",
      "metadata": {
        "id": "XcUGwuNfn4Vg",
        "colab_type": "code",
        "outputId": "0376868a-dd8a-4972-90eb-f7911b7c235d",
        "colab": {
          "base_uri": "https://localhost:8080/",
          "height": 87
        }
      },
      "source": [
        "%%time\n",
        "\n",
        "# This is the two-step process used to prepare the\n",
        "# data for use with the convolutional neural network.\n",
        "\n",
        "# First step is to convert Python Image Library (PIL) format\n",
        "# to PyTorch tensors.\n",
        "\n",
        "# Second step is used to normalize the data by specifying a \n",
        "# mean and standard deviation for each of the three channels.\n",
        "# This will convert the data from [0,1] to [-1,1]\n",
        "\n",
        "# Normalization of data should help speed up conversion and\n",
        "# reduce the chance of vanishing gradients with certain \n",
        "# activation functions.\n",
        "batch_size = 256\n",
        "T=transform = transforms.Compose(\n",
        "    [transforms.ToTensor(),\n",
        "     transforms.Normalize((0.5, 0.5, 0.5), (0.5, 0.5, 0.5))])\n",
        "## Downloading Train dataset\n",
        "train = torchvision.datasets.CIFAR10('/file/',train=True,download =True,transform = T)\n",
        "train = torch.utils.data.DataLoader(train,batch_size = batch_size,shuffle=True)\n",
        "\n",
        "\n",
        "## Downloading Test dataset\n",
        "test = torchvision.datasets.CIFAR10('/file/',train=False,download =True,transform = T)\n",
        "test = torch.utils.data.DataLoader(test,batch_size = batch_size ,shuffle=True)\n",
        "\n",
        "classes = ('plane', 'car', 'bird', 'cat', 'deer', \n",
        "           'dog', 'frog', 'horse', 'ship', 'truck')"
      ],
      "execution_count": 3,
      "outputs": [
        {
          "output_type": "stream",
          "text": [
            "Files already downloaded and verified\n",
            "Files already downloaded and verified\n",
            "CPU times: user 1.58 s, sys: 437 ms, total: 2.01 s\n",
            "Wall time: 2.02 s\n"
          ],
          "name": "stdout"
        }
      ]
    },
    {
      "cell_type": "code",
      "metadata": {
        "id": "u4_HqGTe-yMY",
        "colab_type": "code",
        "outputId": "63f11c9a-d6e5-476b-af63-f149c10429c3",
        "colab": {
          "base_uri": "https://localhost:8080/",
          "height": 35
        }
      },
      "source": [
        "for index,(images,labels) in enumerate(train):\n",
        "  print(index,images.size(),len(labels))\n",
        "  break ## for single example"
      ],
      "execution_count": 4,
      "outputs": [
        {
          "output_type": "stream",
          "text": [
            "0 torch.Size([256, 3, 32, 32]) 256\n"
          ],
          "name": "stdout"
        }
      ]
    },
    {
      "cell_type": "code",
      "metadata": {
        "id": "JbW4VrPRYlrb",
        "colab_type": "code",
        "colab": {
          "base_uri": "https://localhost:8080/",
          "height": 53
        },
        "outputId": "38bec05d-e7e3-4a54-be1a-3059d483dcc2"
      },
      "source": [
        "import matplotlib.pyplot as plt\n",
        "import numpy as np\n",
        "\n",
        "def convert_to_imshow_format(image):\n",
        "    # first convert back to [0,1] range from [-1,1] range\n",
        "    image = image / 2 + 0.5\n",
        "    image = image.numpy()\n",
        "    # convert from CHW to HWC\n",
        "    # from 3x32x32 to 32x32x3\n",
        "    return image.transpose(1,2,0)\n",
        "\n",
        "dataiter = iter(train)\n",
        "images, labels = dataiter.next()\n",
        "\n",
        "fig, axes = plt.subplots(1, len(images), figsize=(12,12))\n",
        "for idx, image in enumerate(images):\n",
        "    axes[idx].imshow(convert_to_imshow_format(image))\n",
        "    axes[idx].set_title(classes[labels[idx]])\n",
        "    axes[idx].set_xticks([])\n",
        "    axes[idx].set_yticks([])"
      ],
      "execution_count": 5,
      "outputs": [
        {
          "output_type": "display_data",
          "data": {
            "image/png": "[encoded data removed]",
            "text/plain": [
              "<Figure size 864x864 with 256 Axes>"
            ]
          },
          "metadata": {
            "tags": []
          }
        }
      ]
    },
    {
      "cell_type": "code",
      "metadata": {
        "id": "5K5SY-k-J5aw",
        "colab_type": "code",
        "colab": {}
      },
      "source": [
        "## For finding the transformation bw last conv layer and 1st fc.\n",
        "'''\n",
        "conv1 = nn.Conv2d(in_channels = 3,out_channels = 12 ,kernel_size = 5,stride=1)\n",
        "pool1 =nn.MaxPool2d(2,2)\n",
        "conv2 = nn.Conv2d(in_channels = 12,out_channels =6,kernel_size = 3)\n",
        "x = conv1(images)\n",
        "x = pool1(x)\n",
        "x = conv2(x)\n",
        "x.shape\n",
        "''"
      ],
      "execution_count": 0,
      "outputs": []
    },
    {
      "cell_type": "code",
      "metadata": {
        "id": "bV6_gRDdpdMU",
        "colab_type": "code",
        "colab": {}
      },
      "source": [
        "class ConvNet(nn.Module):\n",
        "  def __init__(self):\n",
        "    super(ConvNet, self).__init__()\n",
        "    '''\n",
        "    http://cs231n.github.io/convolutional-networks/\n",
        "  \n",
        "    '''\n",
        "    self.conv1 = nn.Conv2d(in_channels = 3,out_channels = 12 ,kernel_size = 5,stride=1)\n",
        "    self.pool1 =nn.MaxPool2d(2,2)\n",
        "    self.conv2 = nn.Conv2d(in_channels = 12,out_channels =6,kernel_size = 3) ## conv1 output = conv2 input\n",
        "    self.fc1 = nn.Linear(6*12*12,32)\n",
        "    self.fc2 = nn.Linear(32,10) ## 10 is number of class\n",
        "  \n",
        "  def forward(self,x):\n",
        "    x = torch.relu(self.conv1(x))\n",
        "    x = self.pool1(x)\n",
        "    x = torch.relu(self.conv2(x))\n",
        "    x = x.view(-1,6*12*12) ## Flattening of Image\n",
        "    x = self.fc1(x)\n",
        "    out = self.fc2(x)\n",
        "    \n",
        "    return out\n"
      ],
      "execution_count": 0,
      "outputs": []
    },
    {
      "cell_type": "code",
      "metadata": {
        "id": "rUezBO_3_Aje",
        "colab_type": "code",
        "colab": {
          "base_uri": "https://localhost:8080/",
          "height": 139
        },
        "outputId": "4663de44-c105-4042-f906-89ddc7bfca56"
      },
      "source": [
        "model = ConvNet().to(device)\n",
        "print('Archeitiecture of Model',model)"
      ],
      "execution_count": 7,
      "outputs": [
        {
          "output_type": "stream",
          "text": [
            "Archeitiecture of Model ConvNet(\n",
            "  (conv1): Conv2d(3, 12, kernel_size=(5, 5), stride=(1, 1))\n",
            "  (pool1): MaxPool2d(kernel_size=2, stride=2, padding=0, dilation=1, ceil_mode=False)\n",
            "  (conv2): Conv2d(12, 6, kernel_size=(3, 3), stride=(1, 1))\n",
            "  (fc1): Linear(in_features=864, out_features=32, bias=True)\n",
            "  (fc2): Linear(in_features=32, out_features=10, bias=True)\n",
            ")\n"
          ],
          "name": "stdout"
        }
      ]
    },
    {
      "cell_type": "code",
      "metadata": {
        "id": "cUyVPCUwpzRI",
        "colab_type": "code",
        "colab": {
          "base_uri": "https://localhost:8080/",
          "height": 156
        },
        "outputId": "1dea0419-e5e0-4e75-a5d9-bc94dcc023a2"
      },
      "source": [
        "%%time\n",
        "from torch.autograd import Variable\n",
        "\n",
        "criteria = nn.CrossEntropyLoss()\n",
        "optimizer = torch.optim.Adam(params = model.parameters() , lr = .001)\n",
        "n_total_steps = len(train)\n",
        "num_epochs = 15\n",
        "lossess = list()\n",
        "for epoch in range(num_epochs):\n",
        "  for index, (images, labels) in enumerate(train):\n",
        "    images = Variable(images.to(device))\n",
        "    labels = Variable(labels.to(device))\n",
        "    output = model(images)\n",
        "\n",
        "    loss = criteria(output,labels)\n",
        "    optimizer.zero_grad()\n",
        "    loss.backward()\n",
        "    optimizer.step()\n",
        "\n",
        "  if epoch % 3 == 0:\n",
        "    lossess.append(loss.item())\n",
        "    print('Epoch: {} - Loss: {:.6f}'.format(epoch + 1, loss.item()))\n",
        "\n",
        "print('Finished Training')"
      ],
      "execution_count": 8,
      "outputs": [
        {
          "output_type": "stream",
          "text": [
            "Epoch: 1 - Loss: 1.467806\n",
            "Epoch: 4 - Loss: 1.217249\n",
            "Epoch: 7 - Loss: 1.371839\n",
            "Epoch: 10 - Loss: 1.057194\n",
            "Epoch: 13 - Loss: 1.381242\n",
            "Finished Training\n",
            "CPU times: user 6min 3s, sys: 7.32 s, total: 6min 10s\n",
            "Wall time: 6min 11s\n"
          ],
          "name": "stdout"
        }
      ]
    },
    {
      "cell_type": "code",
      "metadata": {
        "id": "gjYVVphn8yrO",
        "colab_type": "code",
        "colab": {}
      },
      "source": [
        "dataiter = iter(test)\n",
        "images, labels = dataiter.next()"
      ],
      "execution_count": 0,
      "outputs": []
    },
    {
      "cell_type": "code",
      "metadata": {
        "id": "wWa6kbU6W43w",
        "colab_type": "code",
        "colab": {
          "base_uri": "https://localhost:8080/",
          "height": 35
        },
        "outputId": "dd80fbe2-5b00-4bbf-ae33-113cc778a6f0"
      },
      "source": [
        "images.size()"
      ],
      "execution_count": 10,
      "outputs": [
        {
          "output_type": "execute_result",
          "data": {
            "text/plain": [
              "torch.Size([256, 3, 32, 32])"
            ]
          },
          "metadata": {
            "tags": []
          },
          "execution_count": 10
        }
      ]
    },
    {
      "cell_type": "code",
      "metadata": {
        "id": "EQorZ1uzcbBx",
        "colab_type": "code",
        "colab": {
          "base_uri": "https://localhost:8080/",
          "height": 35
        },
        "outputId": "c69cdf08-c4ed-40cc-d19e-eb6e944a191c"
      },
      "source": [
        "## test contains 39 smaple each have 256 batches so total number of images are 39*256\n",
        "output = model(images)\n",
        "print(output.size())\n",
        "### 256 are number of batch and 10 is class"
      ],
      "execution_count": 11,
      "outputs": [
        {
          "output_type": "stream",
          "text": [
            "torch.Size([256, 10])\n"
          ],
          "name": "stdout"
        }
      ]
    },
    {
      "cell_type": "code",
      "metadata": {
        "id": "RmKHZcr9cmIa",
        "colab_type": "code",
        "colab": {
          "base_uri": "https://localhost:8080/",
          "height": 1000
        },
        "outputId": "b0b4ace1-7e4e-404b-ddc9-48666413fc44"
      },
      "source": [
        "sm = nn.Softmax(dim=1)\n",
        "sm_outputs = sm(output)\n",
        "probs, index = torch.max(sm_outputs, dim=1)\n",
        "\n",
        "for p, i in zip(probs, index):\n",
        "    print('{0} - {1:.4f}'.format(classes[i], p))"
      ],
      "execution_count": 12,
      "outputs": [
        {
          "output_type": "stream",
          "text": [
            "truck - 0.8137\n",
            "bird - 0.8313\n",
            "dog - 0.4230\n",
            "dog - 0.6013\n",
            "car - 0.6060\n",
            "dog - 0.5952\n",
            "frog - 0.6104\n",
            "car - 0.9228\n",
            "horse - 0.9203\n",
            "ship - 0.9281\n",
            "cat - 0.3155\n",
            "ship - 0.3519\n",
            "frog - 0.5544\n",
            "bird - 0.4469\n",
            "cat - 0.4347\n",
            "frog - 0.9994\n",
            "plane - 0.7887\n",
            "dog - 0.6373\n",
            "car - 0.9843\n",
            "deer - 0.2899\n",
            "plane - 0.4135\n",
            "plane - 0.3833\n",
            "bird - 0.4470\n",
            "plane - 0.5690\n",
            "ship - 0.4904\n",
            "plane - 0.5298\n",
            "bird - 0.4068\n",
            "plane - 0.6869\n",
            "ship - 0.7816\n",
            "dog - 0.5933\n",
            "cat - 0.4224\n",
            "deer - 0.2447\n",
            "car - 0.3459\n",
            "dog - 0.3288\n",
            "deer - 0.6062\n",
            "horse - 0.2334\n",
            "ship - 0.7587\n",
            "truck - 0.9815\n",
            "horse - 0.4728\n",
            "plane - 0.2172\n",
            "ship - 0.7195\n",
            "plane - 0.2435\n",
            "cat - 0.4430\n",
            "cat - 0.2519\n",
            "bird - 0.3079\n",
            "horse - 0.8491\n",
            "ship - 0.9301\n",
            "plane - 0.4100\n",
            "plane - 0.6774\n",
            "car - 0.8471\n",
            "car - 0.5964\n",
            "frog - 0.4723\n",
            "car - 0.8792\n",
            "deer - 0.6648\n",
            "horse - 0.4453\n",
            "plane - 0.7208\n",
            "dog - 0.2595\n",
            "truck - 0.4324\n",
            "car - 0.3388\n",
            "bird - 0.3321\n",
            "ship - 0.3986\n",
            "plane - 0.7450\n",
            "plane - 0.5248\n",
            "plane - 0.5760\n",
            "horse - 0.5405\n",
            "dog - 0.8689\n",
            "cat - 0.3455\n",
            "car - 0.7484\n",
            "truck - 0.7934\n",
            "frog - 0.7356\n",
            "car - 0.9036\n",
            "horse - 0.5606\n",
            "frog - 0.5858\n",
            "cat - 0.4288\n",
            "cat - 0.5856\n",
            "horse - 0.4109\n",
            "bird - 0.3388\n",
            "ship - 0.3291\n",
            "dog - 0.4890\n",
            "car - 0.3269\n",
            "truck - 0.8193\n",
            "ship - 0.7538\n",
            "deer - 0.3110\n",
            "dog - 0.5602\n",
            "bird - 0.8553\n",
            "dog - 0.6457\n",
            "car - 0.5243\n",
            "ship - 0.4463\n",
            "horse - 0.6648\n",
            "car - 0.7962\n",
            "plane - 0.4284\n",
            "horse - 0.3093\n",
            "truck - 0.8775\n",
            "frog - 0.4696\n",
            "frog - 0.7247\n",
            "frog - 0.8071\n",
            "ship - 0.8765\n",
            "dog - 0.5021\n",
            "deer - 0.2150\n",
            "cat - 0.4721\n",
            "truck - 0.8021\n",
            "plane - 0.7865\n",
            "cat - 0.2861\n",
            "horse - 0.9772\n",
            "bird - 0.4849\n",
            "car - 0.9744\n",
            "deer - 0.2568\n",
            "cat - 0.5757\n",
            "horse - 0.3238\n",
            "bird - 0.2967\n",
            "horse - 0.6982\n",
            "ship - 0.8771\n",
            "ship - 0.8980\n",
            "deer - 0.7351\n",
            "bird - 0.2540\n",
            "cat - 0.5235\n",
            "dog - 0.3974\n",
            "cat - 0.4348\n",
            "truck - 0.4160\n",
            "car - 0.9043\n",
            "cat - 0.3151\n",
            "cat - 0.2740\n",
            "truck - 0.7301\n",
            "cat - 0.4747\n",
            "truck - 0.8139\n",
            "horse - 0.2989\n",
            "car - 0.7771\n",
            "car - 0.4417\n",
            "frog - 0.7882\n",
            "car - 0.8619\n",
            "truck - 0.6260\n",
            "truck - 0.4742\n",
            "dog - 0.4750\n",
            "truck - 0.2487\n",
            "bird - 0.5364\n",
            "ship - 0.7285\n",
            "horse - 0.7971\n",
            "plane - 0.9592\n",
            "car - 0.6740\n",
            "horse - 0.4941\n",
            "dog - 0.5468\n",
            "frog - 0.2173\n",
            "truck - 0.4810\n",
            "dog - 0.7168\n",
            "car - 0.6699\n",
            "bird - 0.4366\n",
            "car - 0.3066\n",
            "car - 0.6912\n",
            "plane - 0.6607\n",
            "cat - 0.7381\n",
            "frog - 0.7983\n",
            "deer - 0.2891\n",
            "dog - 0.4491\n",
            "cat - 0.3147\n",
            "ship - 0.7715\n",
            "ship - 0.7861\n",
            "cat - 0.4755\n",
            "truck - 0.9039\n",
            "bird - 0.1943\n",
            "deer - 0.5206\n",
            "horse - 0.6267\n",
            "ship - 0.7384\n",
            "deer - 0.6040\n",
            "horse - 0.6170\n",
            "horse - 0.6597\n",
            "cat - 0.3552\n",
            "dog - 0.7762\n",
            "truck - 0.7951\n",
            "dog - 0.8228\n",
            "horse - 0.7591\n",
            "dog - 0.7066\n",
            "ship - 0.8653\n",
            "car - 0.3305\n",
            "cat - 0.2680\n",
            "ship - 0.9060\n",
            "cat - 0.3584\n",
            "frog - 0.3654\n",
            "horse - 0.8938\n",
            "car - 0.9018\n",
            "cat - 0.4366\n",
            "truck - 0.9836\n",
            "plane - 0.2656\n",
            "cat - 0.5783\n",
            "horse - 0.4204\n",
            "dog - 0.7537\n",
            "ship - 0.4540\n",
            "truck - 0.5512\n",
            "frog - 0.3471\n",
            "ship - 0.7767\n",
            "cat - 0.4551\n",
            "horse - 0.4341\n",
            "cat - 0.3488\n",
            "horse - 0.3411\n",
            "plane - 0.3734\n",
            "horse - 0.5554\n",
            "plane - 0.9585\n",
            "truck - 0.9861\n",
            "car - 0.9277\n",
            "ship - 0.8344\n",
            "car - 0.6823\n",
            "horse - 0.7375\n",
            "cat - 0.2837\n",
            "frog - 0.6722\n",
            "car - 0.7733\n",
            "truck - 0.7332\n",
            "deer - 0.2004\n",
            "frog - 0.6722\n",
            "car - 0.9284\n",
            "dog - 0.3952\n",
            "truck - 0.6509\n",
            "ship - 0.4198\n",
            "truck - 0.4239\n",
            "truck - 0.8040\n",
            "frog - 0.5063\n",
            "ship - 0.3717\n",
            "bird - 0.4373\n",
            "bird - 0.3356\n",
            "dog - 0.4273\n",
            "dog - 0.7727\n",
            "frog - 0.8670\n",
            "horse - 0.5003\n",
            "ship - 0.6545\n",
            "plane - 0.7477\n",
            "frog - 0.8387\n",
            "car - 0.4319\n",
            "cat - 0.4372\n",
            "frog - 0.6551\n",
            "horse - 0.5528\n",
            "car - 0.8502\n",
            "truck - 0.9494\n",
            "car - 0.5368\n",
            "ship - 0.4878\n",
            "car - 0.4709\n",
            "car - 0.3528\n",
            "frog - 0.7232\n",
            "dog - 0.7716\n",
            "bird - 0.2519\n",
            "horse - 0.6052\n",
            "horse - 0.3089\n",
            "truck - 0.5638\n",
            "frog - 0.9059\n",
            "dog - 0.4783\n",
            "horse - 0.4625\n",
            "dog - 0.5717\n",
            "horse - 0.2383\n",
            "frog - 0.3988\n",
            "deer - 0.8080\n",
            "frog - 0.9311\n",
            "horse - 0.3490\n",
            "dog - 0.4892\n",
            "ship - 0.3015\n",
            "truck - 0.7244\n",
            "plane - 0.3897\n",
            "bird - 0.7819\n",
            "car - 0.6371\n",
            "frog - 0.2637\n"
          ],
          "name": "stdout"
        }
      ]
    },
    {
      "cell_type": "code",
      "metadata": {
        "id": "OdITMHDdeAL3",
        "colab_type": "code",
        "colab": {
          "base_uri": "https://localhost:8080/",
          "height": 35
        },
        "outputId": "e951918e-47dc-40f1-988e-ca24fc517fe8"
      },
      "source": [
        "labels.size(0)"
      ],
      "execution_count": 13,
      "outputs": [
        {
          "output_type": "execute_result",
          "data": {
            "text/plain": [
              "256"
            ]
          },
          "metadata": {
            "tags": []
          },
          "execution_count": 13
        }
      ]
    },
    {
      "cell_type": "code",
      "metadata": {
        "id": "ou6Y9EmLdCRA",
        "colab_type": "code",
        "colab": {
          "base_uri": "https://localhost:8080/",
          "height": 35
        },
        "outputId": "39a9d2c3-6657-4fdd-8c05-6ae364b28ba9"
      },
      "source": [
        "total_correct = 0\n",
        "total_images = 0\n",
        "confusion_matrix = np.zeros([10,10], int)\n",
        "with torch.no_grad():\n",
        "    for data in test:\n",
        "        images, labels = data\n",
        "        outputs = model(images)\n",
        "        _, predicted = torch.max(outputs.data, 1)\n",
        "        total_images += labels.size(0)\n",
        "        total_correct += (predicted == labels).sum().item()\n",
        "        for i, l in enumerate(labels):\n",
        "            confusion_matrix[l.item(), predicted[i].item()] += 1 \n",
        "\n",
        "model_accuracy = total_correct / total_images * 100\n",
        "print('Model accuracy on {0} test images: {1:.2f}%'.format(total_images, model_accuracy))"
      ],
      "execution_count": 14,
      "outputs": [
        {
          "output_type": "stream",
          "text": [
            "Model accuracy on 10000 test images: 58.37%\n"
          ],
          "name": "stdout"
        }
      ]
    },
    {
      "cell_type": "code",
      "metadata": {
        "id": "OWbnPNpQeJUg",
        "colab_type": "code",
        "colab": {
          "base_uri": "https://localhost:8080/",
          "height": 208
        },
        "outputId": "61672517-cfd2-4aa5-a250-a4189d2d8760"
      },
      "source": [
        "print('{0:10s} - {1}'.format('Category','Accuracy'))\n",
        "for i, r in enumerate(confusion_matrix):\n",
        "    print('{0:10s} - {1:.1f}'.format(classes[i], r[i]/np.sum(r)*100))"
      ],
      "execution_count": 15,
      "outputs": [
        {
          "output_type": "stream",
          "text": [
            "Category   - Accuracy\n",
            "plane      - 54.4\n",
            "car        - 69.5\n",
            "bird       - 40.6\n",
            "cat        - 35.4\n",
            "deer       - 52.3\n",
            "dog        - 51.6\n",
            "frog       - 71.2\n",
            "horse      - 71.3\n",
            "ship       - 71.8\n",
            "truck      - 65.6\n"
          ],
          "name": "stdout"
        }
      ]
    },
    {
      "cell_type": "code",
      "metadata": {
        "id": "QiFGBo6ZeNfb",
        "colab_type": "code",
        "colab": {
          "base_uri": "https://localhost:8080/",
          "height": 388
        },
        "outputId": "a99d6393-3eac-4e07-8af6-d08775d27eaf"
      },
      "source": [
        "fig, ax = plt.subplots(1,1,figsize=(8,6))\n",
        "ax.matshow(confusion_matrix, aspect='auto', vmin=0, vmax=1000, cmap=plt.get_cmap('Blues'))\n",
        "plt.ylabel('Actual Category')\n",
        "plt.yticks(range(10), classes)\n",
        "plt.xlabel('Predicted Category')\n",
        "plt.xticks(range(10), classes)\n",
        "plt.show()\n"
      ],
      "execution_count": 16,
      "outputs": [
        {
          "output_type": "display_data",
          "data": {
            "image/png": "[encoded data removed]",
            "text/plain": [
              "<Figure size 576x432 with 1 Axes>"
            ]
          },
          "metadata": {
            "tags": []
          }
        }
      ]
    },
    {
      "cell_type": "code",
      "metadata": {
        "id": "9m_BQofgeRMr",
        "colab_type": "code",
        "colab": {}
      },
      "source": [
        ""
      ],
      "execution_count": 0,
      "outputs": []
    }
  ]
}