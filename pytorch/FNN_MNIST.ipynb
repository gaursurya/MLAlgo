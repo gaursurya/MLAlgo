{
  "nbformat": 4,
  "nbformat_minor": 0,
  "metadata": {
    "colab": {
      "name": "FNN MNIST.ipynb",
      "provenance": []
    },
    "kernelspec": {
      "name": "python3",
      "display_name": "Python 3"
    }
  },
  "cells": [
    {
      "cell_type": "code",
      "metadata": {
        "id": "fd6n7FGSj8TW",
        "colab_type": "code",
        "colab": {}
      },
      "source": [
        "! pip install visdom"
      ],
      "execution_count": 0,
      "outputs": []
    },
    {
      "cell_type": "code",
      "metadata": {
        "id": "RwzZBRxbnMdf",
        "colab_type": "code",
        "colab": {}
      },
      "source": [
        "import torch\n",
        "import torch.nn as nn\n",
        "import torchvision.datasets as dsets\n",
        "import torchvision.transforms as transforms\n",
        "from torch.autograd import Variable\n",
        "import torch.nn.functional as F\n",
        "import numpy as np\n",
        "import math\n",
        "from torch.utils.data import Dataset, DataLoader\n",
        "import torchvision\n",
        "from torch.autograd import Variable"
      ],
      "execution_count": 0,
      "outputs": []
    },
    {
      "cell_type": "code",
      "metadata": {
        "id": "DE-u9oi-4mHe",
        "colab_type": "code",
        "outputId": "c4e01c9b-aee9-4e3f-a48d-bf6c0303154e",
        "colab": {
          "base_uri": "https://localhost:8080/",
          "height": 69
        }
      },
      "source": [
        "%%time\n",
        "batch_size = 256\n",
        "T=torchvision.transforms.Compose([torchvision.transforms.ToTensor()])\n",
        "## Downloading Train dataset\n",
        "train = torchvision.datasets.MNIST('/file/',train=True,download =True,transform = T)\n",
        "train = torch.utils.data.DataLoader(train,batch_size = batch_size,shuffle=True)\n",
        "\n",
        "\n",
        "## Downloading Test dataset\n",
        "test = torchvision.datasets.MNIST('/file/',train=False,download =True,transform = T)\n",
        "test = torch.utils.data.DataLoader(test,batch_size = batch_size ,shuffle=True)\n",
        "\n",
        "print()"
      ],
      "execution_count": 2,
      "outputs": [
        {
          "output_type": "stream",
          "text": [
            "\n",
            "CPU times: user 2.98 ms, sys: 36.8 ms, total: 39.7 ms\n",
            "Wall time: 40.1 ms\n"
          ],
          "name": "stdout"
        }
      ]
    },
    {
      "cell_type": "code",
      "metadata": {
        "id": "zTuiILoibBUG",
        "colab_type": "code",
        "outputId": "1708abd3-de30-4022-abc8-66b658eadc33",
        "colab": {
          "base_uri": "https://localhost:8080/",
          "height": 35
        }
      },
      "source": [
        "# 0 is a index\n",
        "# 256 is our batch size\n",
        "#  1*28*28 is a single image\n",
        "\n",
        "for index,(images,labels) in enumerate(train):\n",
        "  print(index,images.size(),len(labels))\n",
        "  break ## for single example"
      ],
      "execution_count": 3,
      "outputs": [
        {
          "output_type": "stream",
          "text": [
            "0 torch.Size([256, 1, 28, 28]) 256\n"
          ],
          "name": "stdout"
        }
      ]
    },
    {
      "cell_type": "code",
      "metadata": {
        "id": "-DRcqvTJbOlN",
        "colab_type": "code",
        "outputId": "2833a00c-3592-46f7-cdd4-40051b96d127",
        "colab": {
          "base_uri": "https://localhost:8080/",
          "height": 247
        }
      },
      "source": [
        "import matplotlib.pyplot as plt\n",
        "fig = plt.figure()\n",
        "\n",
        "for i in range(10):\n",
        "  plt.subplot(5,5,i+1)\n",
        "  plt.tight_layout()\n",
        "  plt.imshow(images[i][0],cmap = 'gray',interpolation = 'none')\n",
        "  plt.title('labels:{}'.format(labels[i]))\n",
        "  plt.xticks([])\n",
        "  plt.yticks([])\n",
        "fig"
      ],
      "execution_count": 4,
      "outputs": [
        {
          "output_type": "execute_result",
          "data": {
            "image/png": "[encoded data removed]",
            "text/plain": [
              "<Figure size 432x288 with 10 Axes>"
            ]
          },
          "metadata": {
            "tags": []
          },
          "execution_count": 4
        },
        {
          "output_type": "display_data",
          "data": {
            "image/png": "[encoded data removed]",
            "text/plain": [
              "<Figure size 432x288 with 10 Axes>"
            ]
          },
          "metadata": {
            "tags": []
          }
        }
      ]
    },
    {
      "cell_type": "code",
      "metadata": {
        "id": "nbCfsZ23kSZE",
        "colab_type": "code",
        "outputId": "3cd1cf2f-5485-4c1a-df22-9ce7e8573e78",
        "colab": {
          "base_uri": "https://localhost:8080/",
          "height": 35
        }
      },
      "source": [
        "### Flattening of images\n",
        "images.view(-1,28*28).size()"
      ],
      "execution_count": 5,
      "outputs": [
        {
          "output_type": "execute_result",
          "data": {
            "text/plain": [
              "torch.Size([256, 784])"
            ]
          },
          "metadata": {
            "tags": []
          },
          "execution_count": 5
        }
      ]
    },
    {
      "cell_type": "code",
      "metadata": {
        "id": "zqX65NHZkRZU",
        "colab_type": "code",
        "colab": {}
      },
      "source": [
        "## Feed Forward Neural Network on MNIST dataset\n",
        "\n",
        "class Mnet_FNN(nn.Module):\n",
        "  def __init__(self,inputsize,hiddensize1,hiddensize2,output):\n",
        "    super(Mnet_FNN,self).__init__()\n",
        "    self.fc1 = nn.Linear(inputsize,hiddensize1)\n",
        "    self.fc2 = nn.Linear(hiddensize1,hiddensize2)\n",
        "    self.fc3= nn.Linear(hiddensize2,output)\n",
        "\n",
        "  def forward(self,x):\n",
        "    '''\n",
        "     Currently size of image is 256, 1, 28, 28 with view we will flatten it out and change it to batch_size and 28*28\n",
        "     -1 give is the batch size that we put.\n",
        "    '''\n",
        "    ## Flattening\n",
        "    x = images.view(-1,28*28)\n",
        "    ## 1st pass\n",
        "    x = self.fc1(x)\n",
        "    x = torch.relu(x)\n",
        "\n",
        "    ## 2nd pass\n",
        "    x = self.fc2(x)\n",
        "    x = torch.relu(x)\n",
        "\n",
        "    ## Final pass\n",
        "    out = self.fc3(x)\n",
        "    \n",
        "\n",
        "    return out"
      ],
      "execution_count": 0,
      "outputs": []
    },
    {
      "cell_type": "code",
      "metadata": {
        "id": "nlyh5wVnAdmx",
        "colab_type": "code",
        "outputId": "f8919ba7-448f-40f0-e656-974c65d10d3f",
        "colab": {
          "base_uri": "https://localhost:8080/",
          "height": 121
        }
      },
      "source": [
        "model_FNN=Mnet_FNN(28*28,100,50,10)\n",
        "print('Archeitecture of Model\\n',model_FNN)"
      ],
      "execution_count": 7,
      "outputs": [
        {
          "output_type": "stream",
          "text": [
            "Archeitecture of Model\n",
            " Mnet_FNN(\n",
            "  (fc1): Linear(in_features=784, out_features=100, bias=True)\n",
            "  (fc2): Linear(in_features=100, out_features=50, bias=True)\n",
            "  (fc3): Linear(in_features=50, out_features=10, bias=True)\n",
            ")\n"
          ],
          "name": "stdout"
        }
      ]
    },
    {
      "cell_type": "code",
      "metadata": {
        "id": "TFMz4TbXmHwb",
        "colab_type": "code",
        "colab": {
          "base_uri": "https://localhost:8080/",
          "height": 225
        },
        "outputId": "884c4a93-6190-4277-a18d-207151990c70"
      },
      "source": [
        "%%time\n",
        "loss_ = nn.CrossEntropyLoss()\n",
        "optimizer = torch.optim.Adam(params = model_FNN.parameters() , lr = .001)\n",
        "\n",
        "n_epochs = 50\n",
        "steps = 0\n",
        "print_every = 50\n",
        "\n",
        "lossess = list()\n",
        "for epoch in range(n_epochs):\n",
        "  for index,(images,labels) in enumerate(train):\n",
        "    images = Variable(images)\n",
        "    labels = Variable(labels)\n",
        "    output = model_FNN(images)\n",
        "\n",
        "    model_FNN.zero_grad()\n",
        "    loss = loss_(output,labels)\n",
        "    loss.backward()\n",
        "\n",
        "    optimizer.step()\n",
        "\n",
        "  if epoch % 5 == 0:\n",
        "    lossess.append( loss.item())\n",
        "\n",
        "    print('Epoch: {} - Loss: {:.6f}'.format(epoch + 1, loss.item()))"
      ],
      "execution_count": 8,
      "outputs": [
        {
          "output_type": "stream",
          "text": [
            "Epoch: 1 - Loss: 0.308166\n",
            "Epoch: 6 - Loss: 0.133034\n",
            "Epoch: 11 - Loss: 0.015221\n",
            "Epoch: 16 - Loss: 0.008804\n",
            "Epoch: 21 - Loss: 0.018363\n",
            "Epoch: 26 - Loss: 0.005111\n",
            "Epoch: 31 - Loss: 0.001389\n",
            "Epoch: 36 - Loss: 0.001702\n",
            "Epoch: 41 - Loss: 0.000505\n",
            "Epoch: 46 - Loss: 0.000380\n",
            "CPU times: user 4min 40s, sys: 1.14 s, total: 4min 41s\n",
            "Wall time: 4min 42s\n"
          ],
          "name": "stdout"
        }
      ]
    },
    {
      "cell_type": "code",
      "metadata": {
        "id": "oIpJ0yw8q0FV",
        "colab_type": "code",
        "outputId": "47df391b-ab5b-4df7-c4db-0558c97a4afa",
        "colab": {
          "base_uri": "https://localhost:8080/",
          "height": 279
        }
      },
      "source": [
        "#visualization\n",
        "plt.plot(lossess)\n",
        "plt.xlabel(\"Number of iteration\")\n",
        "plt.ylabel(\"Loss\")\n",
        "plt.show()"
      ],
      "execution_count": 9,
      "outputs": [
        {
          "output_type": "display_data",
          "data": {
            "image/png": "[encoded data removed]",
            "text/plain": [
              "<Figure size 432x288 with 1 Axes>"
            ]
          },
          "metadata": {
            "tags": []
          }
        }
      ]
    },
    {
      "cell_type": "code",
      "metadata": {
        "id": "5k62fBO_vsjI",
        "colab_type": "code",
        "colab": {}
      },
      "source": [
        ""
      ],
      "execution_count": 0,
      "outputs": []
    }
  ]
}