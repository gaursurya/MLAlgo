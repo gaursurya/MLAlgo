{
  "nbformat": 4,
  "nbformat_minor": 0,
  "metadata": {
    "colab": {
      "name": "pytorch.ipynb",
      "provenance": []
    },
    "kernelspec": {
      "name": "python3",
      "display_name": "Python 3"
    }
  },
  "cells": [
    {
      "cell_type": "code",
      "metadata": {
        "id": "GgjegTDHMH1c",
        "colab_type": "code",
        "colab": {}
      },
      "source": [
        "#!pip3 install http://download.pytorch.org/whl/cu80/torch-0.3.0.post4-cp36-cp36m-linux_x86_64.whl"
      ],
      "execution_count": 0,
      "outputs": []
    },
    {
      "cell_type": "code",
      "metadata": {
        "id": "CztRtlIQOVU0",
        "colab_type": "code",
        "colab": {}
      },
      "source": [
        "#!pip3 install torchvision"
      ],
      "execution_count": 0,
      "outputs": []
    },
    {
      "cell_type": "markdown",
      "metadata": {
        "id": "ojT36AAwO7kz",
        "colab_type": "text"
      },
      "source": [
        ""
      ]
    },
    {
      "cell_type": "code",
      "metadata": {
        "id": "stMJQApiOsQT",
        "colab_type": "code",
        "colab": {}
      },
      "source": [
        "import torch\n",
        "import torch.nn as nn\n",
        "import torchvision.datasets as dsets\n",
        "import torchvision.transforms as transforms\n",
        "from torch.autograd import Variable"
      ],
      "execution_count": 0,
      "outputs": []
    },
    {
      "cell_type": "code",
      "metadata": {
        "id": "9NBrQenvPWGe",
        "colab_type": "code",
        "colab": {
          "base_uri": "https://localhost:8080/",
          "height": 35
        },
        "outputId": "26e1ab6d-d67a-4df1-e2dd-af23b299f451"
      },
      "source": [
        "print(torch.cuda.is_available())"
      ],
      "execution_count": 4,
      "outputs": [
        {
          "output_type": "stream",
          "text": [
            "False\n"
          ],
          "name": "stdout"
        }
      ]
    },
    {
      "cell_type": "code",
      "metadata": {
        "id": "9OI_-GhdciwH",
        "colab_type": "code",
        "colab": {
          "base_uri": "https://localhost:8080/",
          "height": 208
        },
        "outputId": "4a6d55e5-ad1f-491b-8a18-70c9588a8dce"
      },
      "source": [
        "print('Linear Regression...')\n",
        "X = torch.tensor([[1], [2], [3], [4]], dtype=torch.float32)\n",
        "Y = torch.tensor([[2], [4], [6], [8]], dtype=torch.float32)\n",
        "\n",
        "model = torch.nn.Linear(in_features= 1,out_features=1)\n",
        "loss_torch = torch.nn.MSELoss()\n",
        "optimizer = torch.optim.SGD(model.parameters(),lr = .001) ## This one is correct too\n",
        "\n",
        "#optimizer = torch.optim.SGD([X,Y],lr = .001)\n",
        "\n",
        "n_iter = 10\n",
        "\n",
        "for i_x in range(n_iter):\n",
        "  y_pred = model(X)\n",
        "  \n",
        "  loss = loss_torch(y_pred , Y)\n",
        "  \n",
        "  loss.backward() ## back props\n",
        "  optimizer.step() ## update the paramaters\n",
        "  optimizer.zero_grad()\n",
        "  print('i_x {},loss {}'.format(i_x,loss.data))\n"
      ],
      "execution_count": 5,
      "outputs": [
        {
          "output_type": "stream",
          "text": [
            "Linear Regression...\n",
            "i_x 0,loss 11.029918670654297\n",
            "i_x 1,loss 10.670483589172363\n",
            "i_x 2,loss 10.322949409484863\n",
            "i_x 3,loss 9.986923217773438\n",
            "i_x 4,loss 9.662023544311523\n",
            "i_x 5,loss 9.347879409790039\n",
            "i_x 6,loss 9.044137954711914\n",
            "i_x 7,loss 8.750454902648926\n",
            "i_x 8,loss 8.466495513916016\n",
            "i_x 9,loss 8.191937446594238\n"
          ],
          "name": "stdout"
        }
      ]
    },
    {
      "cell_type": "code",
      "metadata": {
        "id": "m1qX2fLikpZK",
        "colab_type": "code",
        "colab": {
          "base_uri": "https://localhost:8080/",
          "height": 35
        },
        "outputId": "8a6ad84f-f934-4c95-ac15-b3d51b237e0a"
      },
      "source": [
        "print(model.state_dict())"
      ],
      "execution_count": 6,
      "outputs": [
        {
          "output_type": "stream",
          "text": [
            "OrderedDict([('weight', tensor([[0.7347]])), ('bias', tensor([0.7290]))])\n"
          ],
          "name": "stdout"
        }
      ]
    },
    {
      "cell_type": "code",
      "metadata": {
        "id": "dbXtqUND2doh",
        "colab_type": "code",
        "colab": {
          "base_uri": "https://localhost:8080/",
          "height": 35
        },
        "outputId": "b125e520-a5a6-4328-894b-8eec9de2c18e"
      },
      "source": [
        "print('Linear Regression...')\n",
        "X = torch.tensor([[1], [2], [3], [4]], dtype=torch.float32)\n",
        "Y = torch.tensor([[2], [4], [6], [8]], dtype=torch.float32)"
      ],
      "execution_count": 7,
      "outputs": [
        {
          "output_type": "stream",
          "text": [
            "Linear Regression...\n"
          ],
          "name": "stdout"
        }
      ]
    },
    {
      "cell_type": "code",
      "metadata": {
        "id": "CrXEYRZ6pnKm",
        "colab_type": "code",
        "colab": {
          "base_uri": "https://localhost:8080/",
          "height": 35
        },
        "outputId": "d29004e9-0a66-43b5-ab85-1a93f01514de"
      },
      "source": [
        "print('Linear Regression Using Class')\n",
        "# \n",
        "class LinearModel(torch.nn.Module):\n",
        "  def __init__(self,i_size,o_size):\n",
        "    super(LinearModel,self).__init__()\n",
        "    self.linear = torch.nn.Linear(i_size,o_size)\n",
        "\n",
        "  def forward(self,x):\n",
        "    y_pred =self.linear(x)\n",
        "\n",
        "    return y_pred"
      ],
      "execution_count": 8,
      "outputs": [
        {
          "output_type": "stream",
          "text": [
            "Linear Regression Using Class\n"
          ],
          "name": "stdout"
        }
      ]
    },
    {
      "cell_type": "code",
      "metadata": {
        "id": "eOLH9K5n1yV8",
        "colab_type": "code",
        "colab": {
          "base_uri": "https://localhost:8080/",
          "height": 191
        },
        "outputId": "8ff29b73-7d99-462a-a72c-cfe4df6d6917"
      },
      "source": [
        "model = LinearModel(1,1) ## Creating object\n",
        "loss_torch = torch.nn.MSELoss()\n",
        "optimizer = torch.optim.SGD(model.parameters(),lr = .001)\n",
        "n_iter = 10\n",
        "\n",
        "for i_x in range(n_iter):\n",
        "  y_pred = model(X)\n",
        "  \n",
        "\n",
        "  loss = loss_torch(y_pred,Y)\n",
        "  optimizer.zero_grad()\n",
        "  loss.backward()\n",
        "  optimizer.step()\n",
        "  print('i_x {},loss {}'.format(i_x+1,loss.data))\n"
      ],
      "execution_count": 9,
      "outputs": [
        {
          "output_type": "stream",
          "text": [
            "i_x 1,loss 22.01715087890625\n",
            "i_x 2,loss 21.292152404785156\n",
            "i_x 3,loss 20.59116554260254\n",
            "i_x 4,loss 19.913393020629883\n",
            "i_x 5,loss 19.258068084716797\n",
            "i_x 6,loss 18.62444496154785\n",
            "i_x 7,loss 18.01180648803711\n",
            "i_x 8,loss 17.41946029663086\n",
            "i_x 9,loss 16.84672737121582\n",
            "i_x 10,loss 16.29296875\n"
          ],
          "name": "stdout"
        }
      ]
    },
    {
      "cell_type": "code",
      "metadata": {
        "id": "7i6b_PQi6IcB",
        "colab_type": "code",
        "colab": {
          "base_uri": "https://localhost:8080/",
          "height": 35
        },
        "outputId": "9ecaefea-ef51-42e7-b25a-58e2fd9c7bb1"
      },
      "source": [
        "import torch.nn.functional as F\n",
        "print('Logistic Regression')\n",
        "\n",
        "X_logistic = torch.tensor([[1], [2], [3], [4]], dtype=torch.float32)\n",
        "Y_logistic = torch.tensor([[1.], [0.], [1.], [0.]], dtype=torch.float32)\n",
        "\n",
        "class logisticModel(torch.nn.Module):\n",
        "  def __init__(self):\n",
        "    super(logisticModel,self).__init__()\n",
        "    self.linear  = torch.nn.Linear(1,1)\n",
        "\n",
        "  def forward(self,x):\n",
        "    y_pred =torch.sigmoid(self.linear(x))\n",
        "    return y_pred\n"
      ],
      "execution_count": 10,
      "outputs": [
        {
          "output_type": "stream",
          "text": [
            "Logistic Regression\n"
          ],
          "name": "stdout"
        }
      ]
    },
    {
      "cell_type": "code",
      "metadata": {
        "id": "zdmWzoP__syJ",
        "colab_type": "code",
        "colab": {
          "base_uri": "https://localhost:8080/",
          "height": 191
        },
        "outputId": "016d1e67-db88-4131-efe3-753c08eb2408"
      },
      "source": [
        "model = logisticModel() ## Creating object\n",
        "#loss_torch = torch.nn.CrossEntropyLoss()\n",
        "loss_torch = nn.BCELoss(reduction='mean') ## Use Binary cross Entropyn loss\n",
        "optimizer = torch.optim.SGD(model.parameters(),lr = .001)\n",
        "n_iter = 10\n",
        "\n",
        "for i_x in range(n_iter):\n",
        "  y_pred = model(X_logistic) \n",
        "\n",
        "  loss = loss_torch(y_pred,Y_logistic)\n",
        "  optimizer.zero_grad()\n",
        "  loss.backward()\n",
        "  optimizer.step()\n",
        "  print('i_x {},loss {}'.format(i_x+1,loss.data))"
      ],
      "execution_count": 11,
      "outputs": [
        {
          "output_type": "stream",
          "text": [
            "i_x 1,loss 1.2910550832748413\n",
            "i_x 2,loss 1.2893716096878052\n",
            "i_x 3,loss 1.2876900434494019\n",
            "i_x 4,loss 1.2860113382339478\n",
            "i_x 5,loss 1.2843343019485474\n",
            "i_x 6,loss 1.2826595306396484\n",
            "i_x 7,loss 1.280987024307251\n",
            "i_x 8,loss 1.2793169021606445\n",
            "i_x 9,loss 1.277648687362671\n",
            "i_x 10,loss 1.2759830951690674\n"
          ],
          "name": "stdout"
        }
      ]
    },
    {
      "cell_type": "code",
      "metadata": {
        "id": "EjQdNVCpAF5C",
        "colab_type": "code",
        "colab": {
          "base_uri": "https://localhost:8080/",
          "height": 35
        },
        "outputId": "8eae26a6-a884-43bf-a7c0-ad80361cd4da"
      },
      "source": [
        "hour_var = model(torch.tensor([[1.0]]))\n",
        "print(f'Prediction after 1 hour of training: {hour_var.item():.4f} | Above 50%: {hour_var.item() > 0.5}')"
      ],
      "execution_count": 12,
      "outputs": [
        {
          "output_type": "stream",
          "text": [
            "Prediction after 1 hour of training: 0.7663 | Above 50%: True\n"
          ],
          "name": "stdout"
        }
      ]
    },
    {
      "cell_type": "code",
      "metadata": {
        "id": "wAj3m2vKPsZK",
        "colab_type": "code",
        "colab": {}
      },
      "source": [
        ""
      ],
      "execution_count": 0,
      "outputs": []
    }
  ]
}