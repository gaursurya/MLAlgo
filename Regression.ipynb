{
 "cells": [
  {
   "cell_type": "markdown",
   "metadata": {},
   "source": [
    "# Regression from scratch"
   ]
  },
  {
   "cell_type": "markdown",
   "metadata": {},
   "source": [
    "# Linear Regression"
   ]
  },
  {
   "cell_type": "code",
   "execution_count": 1,
   "metadata": {},
   "outputs": [],
   "source": [
    "import numpy as np\n",
    "from numpy.linalg import inv\n",
    "import matplotlib.pyplot as plt\n",
    "%matplotlib inline\n",
    "from sklearn import linear_model"
   ]
  },
  {
   "cell_type": "code",
   "execution_count": 2,
   "metadata": {},
   "outputs": [],
   "source": [
    "#Generating Random numbers\n",
    "B1 = np.arange(0,10)\n",
    "B0=np.ones((10,1))"
   ]
  },
  {
   "cell_type": "code",
   "execution_count": 3,
   "metadata": {},
   "outputs": [],
   "source": [
    "## Stacking the B0 and B1 together in X variable\n",
    "X=np.column_stack((B0,B1))\n",
    "## Generating Target variable Matrix\n",
    "y = B1+2*np.random.random((10)) - 1"
   ]
  },
  {
   "cell_type": "code",
   "execution_count": 4,
   "metadata": {},
   "outputs": [
    {
     "data": {
      "text/plain": [
       "Text(0,0.5,'dependent Variable')"
      ]
     },
     "execution_count": 4,
     "metadata": {},
     "output_type": "execute_result"
    },
    {
     "data": {
      "image/png": "[encoded data removed]",
      "text/plain": [
       "<Figure size 432x288 with 1 Axes>"
      ]
     },
     "metadata": {},
     "output_type": "display_data"
    }
   ],
   "source": [
    "# Ploting Line\n",
    "plt.scatter(B1, y, c='#ef5423', label='Scatter Plot')\n",
    "plt.xlabel(\"Independent Variable\")\n",
    "plt.ylabel(\"dependent Variable\")"
   ]
  },
  {
   "cell_type": "code",
   "execution_count": 5,
   "metadata": {},
   "outputs": [
    {
     "name": "stdout",
     "output_type": "stream",
     "text": [
      "Estimation of Coffecients [-0.325082    1.07937789]\n"
     ]
    }
   ],
   "source": [
    "xx=inv(np.matmul(np.transpose(X),X))\n",
    "xy=np.matmul(np.transpose(X),y)\n",
    "B=np.matmul(xx,xy)\n",
    "print('Estimation of Coffecients',B)"
   ]
  },
  {
   "cell_type": "code",
   "execution_count": 6,
   "metadata": {},
   "outputs": [],
   "source": [
    "#xx=inv(np.matmul(np.transpose(X),X))\n",
    "#xy=np.matmul(np.transpose(X),y)\n",
    "##B=np.matmul(xx,xy)\n",
    "#print(B)"
   ]
  },
  {
   "cell_type": "markdown",
   "metadata": {},
   "source": [
    "# Root Mean Square error and R-square"
   ]
  },
  {
   "cell_type": "code",
   "execution_count": 7,
   "metadata": {
    "scrolled": false
   },
   "outputs": [
    {
     "name": "stdout",
     "output_type": "stream",
     "text": [
      "Root mean Square [4.38802266]\n"
     ]
    }
   ],
   "source": [
    "#rmse\n",
    "rmse = 0\n",
    "b0=B[0]\n",
    "b1=B[1]\n",
    "for i in range(len(B1)):\n",
    "    observed=b0+b1*X[:,1:][i]\n",
    "    #print(observed)\n",
    "    rmse += (y[i] - observed) ** 2\n",
    "    #rmse = np.sqrt(rmse)\n",
    "print('Root mean Square',rmse)"
   ]
  },
  {
   "cell_type": "markdown",
   "metadata": {},
   "source": [
    "# Total Sum of Square"
   ]
  },
  {
   "cell_type": "code",
   "execution_count": 8,
   "metadata": {},
   "outputs": [
    {
     "name": "stdout",
     "output_type": "stream",
     "text": [
      "Mean Square Error 1.4280556663702177\n"
     ]
    }
   ],
   "source": [
    "##Total variation in y,also represent as (Actual value of y minus Average value of y)\n",
    "msa = 0\n",
    "for i in range(len(B1)):\n",
    "    msa += (y[i] - np.mean(y)) ** 2\n",
    "    msa = msa/len(y)\n",
    "print('Mean Square Error',msa)     "
   ]
  },
  {
   "cell_type": "markdown",
   "metadata": {},
   "source": [
    "# R-Square"
   ]
  },
  {
   "cell_type": "code",
   "execution_count": 9,
   "metadata": {},
   "outputs": [
    {
     "name": "stdout",
     "output_type": "stream",
     "text": [
      "R-Square [0.95634034]\n"
     ]
    }
   ],
   "source": [
    "# R-square value\n",
    "#R-square means that the variation of y described by the x variables\n",
    "rsquare=0\n",
    "ssr=0\n",
    "tss=0\n",
    "observed=0\n",
    "for i in range(len(B1)):\n",
    "    observed=b0+b1*X[:,1:][i]\n",
    "    ssr +=(y[i] - observed) ** 2\n",
    "    tss += (y[i] - np.mean(y)) ** 2\n",
    "rsquare=1-(ssr/tss)\n",
    "print('R-Square',rsquare)"
   ]
  },
  {
   "cell_type": "code",
   "execution_count": 10,
   "metadata": {},
   "outputs": [
    {
     "data": {
      "text/plain": [
       "Text(0.5,1,'Regression Line plot')"
      ]
     },
     "execution_count": 10,
     "metadata": {},
     "output_type": "execute_result"
    },
    {
     "data": {
      "image/png": "[encoded data removed]",
      "text/plain": [
       "<Figure size 432x288 with 1 Axes>"
      ]
     },
     "metadata": {},
     "output_type": "display_data"
    }
   ],
   "source": [
    "# Ploting Scatter Points\n",
    "reg_line=[b1*X[:,1:][i]+b0 for i in range(len(B1))]\n",
    "plt.plot(B1,reg_line)\n",
    "plt.scatter(B1, y, c='#ef5423', label='Scatter Plot')\n",
    "plt.xlabel(\"Independent Variable\")\n",
    "plt.ylabel(\"dependent Variable\")\n",
    "plt.title(\"Regression Line plot\")"
   ]
  },
  {
   "cell_type": "markdown",
   "metadata": {},
   "source": [
    "# Using Sklearn Library"
   ]
  },
  {
   "cell_type": "code",
   "execution_count": 11,
   "metadata": {},
   "outputs": [
    {
     "name": "stdout",
     "output_type": "stream",
     "text": [
      "Coffecient of Linear regression model [0.         1.07937789] \n",
      "Intercept of Linear regression model  -0.3250820008719195\n"
     ]
    }
   ],
   "source": [
    "## Using Sklearn Library\n",
    "from sklearn.metrics import mean_squared_error\n",
    "reg = linear_model.LinearRegression()\n",
    "reg.fit(X,y)\n",
    "print('Coffecient of Linear regression model',reg.coef_,\n",
    "      '\\nIntercept of Linear regression model ',reg.intercept_)"
   ]
  },
  {
   "cell_type": "code",
   "execution_count": 12,
   "metadata": {},
   "outputs": [
    {
     "name": "stdout",
     "output_type": "stream",
     "text": [
      "0.9563403393551354\n"
     ]
    }
   ],
   "source": [
    "# Y Prediction\n",
    "Y_pred = reg.predict(X)\n",
    "# R2 Score\n",
    "r2_score = reg.score(X, y)\n",
    "print(r2_score)"
   ]
  },
  {
   "cell_type": "markdown",
   "metadata": {},
   "source": [
    "# Multiple Regression using Matrixs"
   ]
  },
  {
   "cell_type": "code",
   "execution_count": 13,
   "metadata": {},
   "outputs": [],
   "source": [
    "ran = np.random.RandomState(123)\n",
    "B0=np.ones((10,1))\n",
    "B1=50*ran.rand(10,5)"
   ]
  },
  {
   "cell_type": "code",
   "execution_count": 14,
   "metadata": {},
   "outputs": [],
   "source": [
    "## Stacking the B0 and B1 together in X variable\n",
    "X=np.column_stack((B0,B1))\n",
    "## Generating Target variable Matrix\n",
    "y=np.random.rand(10,1)"
   ]
  },
  {
   "cell_type": "code",
   "execution_count": 15,
   "metadata": {},
   "outputs": [
    {
     "name": "stdout",
     "output_type": "stream",
     "text": [
      "[[ 1.11666681e+00]\n",
      " [-1.05295330e-03]\n",
      " [-2.60268345e-03]\n",
      " [-8.70839224e-03]\n",
      " [ 1.18963300e-02]\n",
      " [-1.47614344e-02]]\n"
     ]
    }
   ],
   "source": [
    "## Getting the Red color part from above Image\n",
    "xx=inv(np.matmul(np.transpose(X),X))\n",
    "xy=np.matmul(np.transpose(X),y)\n",
    "B=np.matmul(xx,xy)\n",
    "print(B)"
   ]
  },
  {
   "cell_type": "code",
   "execution_count": 16,
   "metadata": {},
   "outputs": [
    {
     "name": "stdout",
     "output_type": "stream",
     "text": [
      "Coffecient of Linear regression model [[ 0.         -0.00105295 -0.00260268 -0.00870839  0.01189633 -0.01476143]] \n",
      "Intercept of Linear regression model  [1.11666681]\n"
     ]
    }
   ],
   "source": [
    "## Using Sklearn Library\n",
    "reg = linear_model.LinearRegression()\n",
    "reg.fit(X,y)\n",
    "print('Coffecient of Linear regression model',reg.coef_,\n",
    "      '\\nIntercept of Linear regression model ',reg.intercept_)"
   ]
  },
  {
   "cell_type": "markdown",
   "metadata": {},
   "source": [
    "# Multiple Regression on data-set"
   ]
  },
  {
   "cell_type": "code",
   "execution_count": 17,
   "metadata": {},
   "outputs": [],
   "source": [
    "import pandas as pd\n",
    "df=pd.read_csv(\"mlr05.csv\")"
   ]
  },
  {
   "cell_type": "code",
   "execution_count": 18,
   "metadata": {},
   "outputs": [],
   "source": [
    "# Dividing data-set into Target and Independent variable\n",
    "y=df['Y'].values\n",
    "a=df.drop('Y',axis=1).values"
   ]
  },
  {
   "cell_type": "markdown",
   "metadata": {},
   "source": [
    "The only thing I need to generate is sequence of 1 and then stack it with Independent variiables "
   ]
  },
  {
   "cell_type": "code",
   "execution_count": 19,
   "metadata": {},
   "outputs": [],
   "source": [
    "X=np.column_stack((np.ones(shape=y.shape),a))"
   ]
  },
  {
   "cell_type": "code",
   "execution_count": 20,
   "metadata": {},
   "outputs": [
    {
     "name": "stdout",
     "output_type": "stream",
     "text": [
      "[10.51046037 -0.05948369  0.80587881  0.01605365  0.17191025  0.4109845 ]\n"
     ]
    }
   ],
   "source": [
    "xx=inv(np.matmul(np.transpose(X),X))\n",
    "xy=np.matmul(np.transpose(X),y)\n",
    "B=np.matmul(xx,xy)\n",
    "print(B)"
   ]
  },
  {
   "cell_type": "code",
   "execution_count": 21,
   "metadata": {},
   "outputs": [
    {
     "name": "stdout",
     "output_type": "stream",
     "text": [
      "Coffecient of Linear regression model [ 0.         -0.05948369  0.80587881  0.01605365  0.17191025  0.4109845 ] \n",
      "Intercept of Linear regression model  10.510460373089467\n"
     ]
    }
   ],
   "source": [
    "##Using Library of Sklearn\n",
    "mod = linear_model.LinearRegression()\n",
    "mod.fit(X,y)\n",
    "print('Coffecient of Linear regression model',mod.coef_,\n",
    "      '\\nIntercept of Linear regression model ',mod.intercept_)"
   ]
  }
 ],
 "metadata": {
  "kernelspec": {
   "display_name": "Python 3",
   "language": "python",
   "name": "python3"
  },
  "language_info": {
   "codemirror_mode": {
    "name": "ipython",
    "version": 3
   },
   "file_extension": ".py",
   "mimetype": "text/x-python",
   "name": "python",
   "nbconvert_exporter": "python",
   "pygments_lexer": "ipython3",
   "version": "3.6.5"
  }
 },
 "nbformat": 4,
 "nbformat_minor": 2
}
