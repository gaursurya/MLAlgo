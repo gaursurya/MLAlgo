{
 "cells": [
  {
   "cell_type": "markdown",
   "metadata": {},
   "source": [
    "# Logistic Regression With Gradient Descent"
   ]
  },
  {
   "cell_type": "code",
   "execution_count": 1,
   "metadata": {},
   "outputs": [],
   "source": [
    "import numpy as np\n",
    "import pandas as pd\n",
    "import matplotlib.pyplot as plt\n",
    "%matplotlib inline \n",
    "from math import log\n",
    "from random import *"
   ]
  },
  {
   "cell_type": "code",
   "execution_count": 2,
   "metadata": {},
   "outputs": [],
   "source": [
    "## Creating a Random Data Set For Logistic Regression\n",
    "from sklearn.datasets.samples_generator import make_blobs\n",
    "x, y = make_blobs(n_samples=100,n_features=2,centers=2,cluster_std=1.05,random_state=20)\n",
    "X=np.column_stack((np.ones(shape=y.shape),x))\n"
   ]
  },
  {
   "cell_type": "code",
   "execution_count": 3,
   "metadata": {},
   "outputs": [
    {
     "data": {
      "text/plain": [
       "<matplotlib.collections.PathCollection at 0x15cad6e43c8>"
      ]
     },
     "execution_count": 3,
     "metadata": {},
     "output_type": "execute_result"
    },
    {
     "data": {
      "image/png": "[encoded data removed]",
      "text/plain": [
       "<Figure size 432x288 with 1 Axes>"
      ]
     },
     "metadata": {},
     "output_type": "display_data"
    }
   ],
   "source": [
    "## Ploting of Independent Variable\n",
    "plt.scatter(X[:,1],X[:,2],marker='o',c=y)\n"
   ]
  },
  {
   "cell_type": "code",
   "execution_count": 4,
   "metadata": {},
   "outputs": [
    {
     "data": {
      "text/plain": [
       "array([0.95244716, 0.47172251, 0.62523092])"
      ]
     },
     "execution_count": 4,
     "metadata": {},
     "output_type": "execute_result"
    }
   ],
   "source": [
    "## Theta is a Initialization of theta0,theta1 and theta2 we can Also proceed with 0.\n",
    "theta=np.random.uniform(size=X.shape[1])\n",
    "theta\n"
   ]
  },
  {
   "cell_type": "code",
   "execution_count": 5,
   "metadata": {},
   "outputs": [],
   "source": [
    "## Creating Sigmoid Function\n",
    "def sigmoid(z):\n",
    "    return (1 / (1 + np.exp(-z)))"
   ]
  },
  {
   "cell_type": "code",
   "execution_count": 6,
   "metadata": {},
   "outputs": [],
   "source": [
    "#sigmoid(z=5.159315207350552)"
   ]
  },
  {
   "cell_type": "code",
   "execution_count": 7,
   "metadata": {},
   "outputs": [],
   "source": [
    "def predict(X,theta):\n",
    "    y_pred=[]\n",
    "    for row in X:\n",
    "        z=row.dot(theta)\n",
    "        np.array(y_pred.append(sigmoid(z)))\n",
    "    return(y_pred)\n"
   ]
  },
  {
   "cell_type": "code",
   "execution_count": 8,
   "metadata": {},
   "outputs": [],
   "source": [
    "#predict(X,theta)\n",
    "#len(predict(X,theta))"
   ]
  },
  {
   "cell_type": "code",
   "execution_count": 9,
   "metadata": {},
   "outputs": [],
   "source": [
    "#X\n",
    "#0.69987503-0.46096155*0.32380861 +6.67002823*0.69095712"
   ]
  },
  {
   "cell_type": "markdown",
   "metadata": {},
   "source": [
    "# Cost Function"
   ]
  },
  {
   "cell_type": "code",
   "execution_count": 10,
   "metadata": {},
   "outputs": [],
   "source": [
    "def cost_function(X,y,theta):\n",
    "    m=len(y)\n",
    "    predictions=predict(X,theta)\n",
    "    J=sum((-y*np.log((np.array(predictions)))) - ((1-y)*np.log(1-(np.array(predictions)))))\n",
    "    J=J/m\n",
    "    return J    "
   ]
  },
  {
   "cell_type": "code",
   "execution_count": 11,
   "metadata": {},
   "outputs": [
    {
     "data": {
      "text/plain": [
       "3.344767058228914"
      ]
     },
     "execution_count": 11,
     "metadata": {},
     "output_type": "execute_result"
    }
   ],
   "source": [
    "cost_function(X,y,theta)"
   ]
  },
  {
   "cell_type": "markdown",
   "metadata": {},
   "source": [
    "# Gradient Descent"
   ]
  },
  {
   "cell_type": "code",
   "execution_count": 12,
   "metadata": {},
   "outputs": [],
   "source": [
    "def Gradient(y,X,theta):\n",
    "    m=len(y)\n",
    "    lr=.001\n",
    "    y_pred=predict(X,theta)\n",
    "    gradient=(1/m)*(np.dot(X.T,y_pred-y))\n",
    "    theta=theta-(lr*gradient)\n",
    "    return theta"
   ]
  },
  {
   "cell_type": "code",
   "execution_count": 13,
   "metadata": {},
   "outputs": [
    {
     "data": {
      "text/plain": [
       "array([0.9519483 , 0.47086966, 0.6212974 ])"
      ]
     },
     "execution_count": 13,
     "metadata": {},
     "output_type": "execute_result"
    }
   ],
   "source": [
    "Gradient(y,X,theta)\n"
   ]
  },
  {
   "cell_type": "code",
   "execution_count": 14,
   "metadata": {},
   "outputs": [],
   "source": [
    "### This is also one of the method to try Gradient Descent\n",
    "#def Gradient(y,X,theta):\n",
    "#    m=len(y)\n",
    "#    lr=.001\n",
    "#    y_pred=predict(X,theta)\n",
    "#    gradient=np.dot(X.T,y_pred-y)\n",
    "#    gradient /= m\n",
    "#    gradient *= lr\n",
    "#    theta -= gradient\n",
    "    \n",
    " #   return theta"
   ]
  },
  {
   "cell_type": "code",
   "execution_count": 15,
   "metadata": {},
   "outputs": [],
   "source": [
    "## Creating cost_history Variable Globally\n",
    "cost_history=[]"
   ]
  },
  {
   "cell_type": "code",
   "execution_count": 16,
   "metadata": {},
   "outputs": [],
   "source": [
    "\n",
    "def all(theta,epoch=1000):\n",
    "    \n",
    "    for i in range (epoch):\n",
    "        theta=Gradient(y,X,theta)\n",
    "        \n",
    "        J=cost_function(X,y,theta)\n",
    "        cost_history.append(J)\n",
    "        \n",
    "        \n",
    "        if i%200==0:\n",
    "            print (\"epoch: \" + str(i) + \"cost: \"+str(J),\"theta\" +str(theta))\n",
    "    #return theta,cost_history"
   ]
  },
  {
   "cell_type": "code",
   "execution_count": 17,
   "metadata": {},
   "outputs": [
    {
     "name": "stdout",
     "output_type": "stream",
     "text": [
      "epoch: 0cost: 3.3283187250134 theta[0.9519483  0.47086966 0.6212974 ]\n",
      "epoch: 200cost: 0.5741692888717025 theta[ 0.86148789  0.32162844 -0.09471553]\n",
      "epoch: 400cost: 0.2541363507530439 theta[ 0.83492015  0.35086118 -0.31494244]\n",
      "epoch: 600cost: 0.19930045158952603 theta[ 0.82761751  0.42867223 -0.38374727]\n",
      "epoch: 800cost: 0.16562779951934226 theta[ 0.82257309  0.49542164 -0.43099795]\n"
     ]
    }
   ],
   "source": [
    "all(theta)"
   ]
  },
  {
   "cell_type": "code",
   "execution_count": 18,
   "metadata": {},
   "outputs": [
    {
     "data": {
      "text/plain": [
       "Text(0,0.5,'cost')"
      ]
     },
     "execution_count": 18,
     "metadata": {},
     "output_type": "execute_result"
    },
    {
     "data": {
      "image/png": "[encoded data removed]",
      "text/plain": [
       "<Figure size 432x288 with 1 Axes>"
      ]
     },
     "metadata": {},
     "output_type": "display_data"
    }
   ],
   "source": [
    "### Graph of Cost vs Epoch\n",
    "plt.plot(cost_history)\n",
    "plt.xlabel('epoch')\n",
    "plt.ylabel('cost')"
   ]
  },
  {
   "cell_type": "code",
   "execution_count": 19,
   "metadata": {},
   "outputs": [],
   "source": [
    "## Theta Value I took is from epoch=800\n",
    "theta0=0.82257309 \n",
    "theta1=0.49542164\n",
    "theta2=-0.43099795\n",
    "theta=np.array([theta0,theta1,theta2])"
   ]
  },
  {
   "cell_type": "code",
   "execution_count": 20,
   "metadata": {},
   "outputs": [],
   "source": [
    "predict_y_tune=predict(X,theta)\n",
    "#predict_y_tune"
   ]
  },
  {
   "cell_type": "code",
   "execution_count": 21,
   "metadata": {},
   "outputs": [],
   "source": [
    "## Target Variable before stepping into Gradient descent\n",
    "## If probablity more than or equal to .50 it is 1 and less than it is 0. \n",
    "y_hat=predict(X,theta)\n",
    "for index,v in enumerate(y_hat):\n",
    "    if v>=.50:\n",
    "        y_hat[index]=1\n",
    "    else:\n",
    "        y_hat[index]=0"
   ]
  },
  {
   "cell_type": "code",
   "execution_count": 22,
   "metadata": {},
   "outputs": [
    {
     "data": {
      "text/plain": [
       "array([[0, 1, 1, 1, 1, 0, 1, 0, 0, 0, 0, 1, 1, 0, 1, 1, 1, 0, 1, 1, 0, 1,\n",
       "        0, 1, 1, 0, 0, 1, 0, 0, 1, 0, 0, 0, 0, 1, 0, 0, 1, 0, 0, 1, 1, 0,\n",
       "        0, 1, 1, 1, 1, 0, 0, 0, 0, 1, 1, 1, 0, 0, 1, 1, 1, 1, 0, 1, 0, 1,\n",
       "        0, 1, 0, 0, 0, 1, 0, 0, 1, 0, 1, 0, 0, 1, 1, 0, 1, 1, 0, 1, 0, 1,\n",
       "        1, 1, 0, 0, 0, 1, 1, 0, 1, 0, 0, 1]])"
      ]
     },
     "execution_count": 22,
     "metadata": {},
     "output_type": "execute_result"
    }
   ],
   "source": [
    "### After Tuning the theta\n",
    "np.array([y_hat])"
   ]
  },
  {
   "cell_type": "markdown",
   "metadata": {},
   "source": [
    "# Logistic Regression With sklearn"
   ]
  },
  {
   "cell_type": "code",
   "execution_count": 23,
   "metadata": {},
   "outputs": [],
   "source": [
    "from sklearn.linear_model import LogisticRegression\n",
    "\n",
    "clf = LogisticRegression()\n",
    "clf.fit(X,y)\n",
    "\n",
    "predict_y=clf.predict(X)"
   ]
  },
  {
   "cell_type": "code",
   "execution_count": 24,
   "metadata": {},
   "outputs": [
    {
     "data": {
      "text/plain": [
       "array([0, 1, 1, 1, 1, 0, 1, 0, 0, 0, 0, 1, 1, 0, 1, 1, 1, 0, 1, 1, 0, 1,\n",
       "       0, 1, 1, 0, 0, 1, 0, 0, 1, 0, 0, 0, 0, 1, 0, 0, 1, 0, 0, 1, 1, 0,\n",
       "       0, 1, 1, 1, 1, 0, 0, 0, 0, 1, 1, 1, 0, 0, 1, 1, 1, 1, 0, 1, 0, 1,\n",
       "       0, 1, 0, 0, 0, 1, 0, 0, 1, 0, 1, 0, 0, 1, 1, 0, 1, 1, 0, 1, 0, 1,\n",
       "       1, 1, 0, 0, 0, 1, 1, 0, 1, 0, 0, 1])"
      ]
     },
     "execution_count": 24,
     "metadata": {},
     "output_type": "execute_result"
    }
   ],
   "source": [
    "predict_y"
   ]
  },
  {
   "cell_type": "code",
   "execution_count": null,
   "metadata": {},
   "outputs": [],
   "source": []
  }
 ],
 "metadata": {
  "kernelspec": {
   "display_name": "Python 3",
   "language": "python",
   "name": "python3"
  },
  "language_info": {
   "codemirror_mode": {
    "name": "ipython",
    "version": 3
   },
   "file_extension": ".py",
   "mimetype": "text/x-python",
   "name": "python",
   "nbconvert_exporter": "python",
   "pygments_lexer": "ipython3",
   "version": "3.6.5"
  }
 },
 "nbformat": 4,
 "nbformat_minor": 2
}
