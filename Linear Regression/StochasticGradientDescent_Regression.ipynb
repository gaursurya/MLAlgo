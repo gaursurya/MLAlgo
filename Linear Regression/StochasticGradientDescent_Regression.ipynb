{
 "cells": [
  {
   "cell_type": "markdown",
   "metadata": {},
   "source": [
    "# Stochastic Gradient Descent"
   ]
  },
  {
   "cell_type": "code",
   "execution_count": 1,
   "metadata": {},
   "outputs": [
    {
     "data": {
      "text/html": [
       "<div>\n",
       "<style scoped>\n",
       "    .dataframe tbody tr th:only-of-type {\n",
       "        vertical-align: middle;\n",
       "    }\n",
       "\n",
       "    .dataframe tbody tr th {\n",
       "        vertical-align: top;\n",
       "    }\n",
       "\n",
       "    .dataframe thead th {\n",
       "        text-align: right;\n",
       "    }\n",
       "</style>\n",
       "<table border=\"1\" class=\"dataframe\">\n",
       "  <thead>\n",
       "    <tr style=\"text-align: right;\">\n",
       "      <th></th>\n",
       "      <th>X</th>\n",
       "      <th>Y</th>\n",
       "    </tr>\n",
       "  </thead>\n",
       "  <tbody>\n",
       "    <tr>\n",
       "      <th>0</th>\n",
       "      <td>32.502345</td>\n",
       "      <td>31.707006</td>\n",
       "    </tr>\n",
       "    <tr>\n",
       "      <th>1</th>\n",
       "      <td>53.426804</td>\n",
       "      <td>68.777596</td>\n",
       "    </tr>\n",
       "    <tr>\n",
       "      <th>2</th>\n",
       "      <td>61.530358</td>\n",
       "      <td>62.562382</td>\n",
       "    </tr>\n",
       "    <tr>\n",
       "      <th>3</th>\n",
       "      <td>47.475640</td>\n",
       "      <td>71.546632</td>\n",
       "    </tr>\n",
       "    <tr>\n",
       "      <th>4</th>\n",
       "      <td>59.813208</td>\n",
       "      <td>87.230925</td>\n",
       "    </tr>\n",
       "  </tbody>\n",
       "</table>\n",
       "</div>"
      ],
      "text/plain": [
       "           X          Y\n",
       "0  32.502345  31.707006\n",
       "1  53.426804  68.777596\n",
       "2  61.530358  62.562382\n",
       "3  47.475640  71.546632\n",
       "4  59.813208  87.230925"
      ]
     },
     "execution_count": 1,
     "metadata": {},
     "output_type": "execute_result"
    }
   ],
   "source": [
    "import pandas as pd\n",
    "import numpy as np\n",
    "from numpy.linalg import inv\n",
    "import matplotlib.pyplot as plt\n",
    "%matplotlib inline\n",
    "from sklearn import linear_model\n",
    "df=pd.read_csv(\"pro.csv\")\n",
    "df.head()"
   ]
  },
  {
   "cell_type": "code",
   "execution_count": 2,
   "metadata": {},
   "outputs": [],
   "source": [
    "## Independent Variables\n",
    "xx=df['X']\n",
    "## Dependent Variables\n",
    "yy=df['Y']\n",
    "X=np.column_stack((np.ones(shape=yy.shape),xx))"
   ]
  },
  {
   "cell_type": "code",
   "execution_count": 3,
   "metadata": {},
   "outputs": [
    {
     "data": {
      "text/plain": [
       "5565.107834490552"
      ]
     },
     "execution_count": 3,
     "metadata": {},
     "output_type": "execute_result"
    }
   ],
   "source": [
    "## Initial Cost\n",
    "def initial_cost(b1,b0):\n",
    "    N=len(xx)\n",
    "    y_pred = (b1 * xx) + b0\n",
    "    cost = sum([J**2 for J in yy-(y_pred)]) / N\n",
    "    return cost\n",
    "initial_cost(b1=0,b0=0)    \n",
    "    \n",
    "    "
   ]
  },
  {
   "cell_type": "code",
   "execution_count": 4,
   "metadata": {},
   "outputs": [
    {
     "data": {
      "text/plain": [
       "<matplotlib.legend.Legend at 0x1e63baa1518>"
      ]
     },
     "execution_count": 4,
     "metadata": {},
     "output_type": "execute_result"
    },
    {
     "data": {
      "image/png": "[encoded data removed]",
      "text/plain": [
       "<Figure size 432x288 with 1 Axes>"
      ]
     },
     "metadata": {},
     "output_type": "display_data"
    }
   ],
   "source": [
    "## When the bo and b1 are equal to zero and cost is 5565\n",
    "b1=0\n",
    "b0=0\n",
    "reg_line=[b1*xx[i]+b0 for i in range(len(xx))]\n",
    "plt.plot(xx,reg_line)\n",
    "plt.scatter(xx, yy, c='#ef5423', label=initial_cost(b1,b0))\n",
    "plt.legend()"
   ]
  },
  {
   "cell_type": "code",
   "execution_count": 5,
   "metadata": {},
   "outputs": [
    {
     "data": {
      "text/plain": [
       "(1.4785630034263746, 0.035103775517483414, 112.74591485126739, 99)"
      ]
     },
     "execution_count": 5,
     "metadata": {},
     "output_type": "execute_result"
    }
   ],
   "source": [
    "### SGD Implementation Using Non-Vectorization Method (Applied with the help of For loop)\n",
    "## Using SGD\n",
    "def Grad_Linear(alpha,epochs,b0,b1):\n",
    "    N=len(xx)  \n",
    "    for i in range (epochs):\n",
    "            y_pred = b1 * xx + b0\n",
    "            cost = sum([data**2 for data in yy-y_pred]) / N\n",
    "            derivative_b0=-(2/N)*sum((yy[i]-(b0+b1*xx[i])) for i in range(len(xx)))       \n",
    "            derivative_b1=-(2/N)*sum(((yy[i]-(b0+b1*xx[i]))*xx[i]) for i in range(len(xx)))\n",
    "            b0=b0-alpha*derivative_b0\n",
    "            b1=b1-alpha*derivative_b1\n",
    "            #print(\"b1={},b0={},cost={},epochs={}\".format(b1,b0,cost,i))\n",
    "            ## Creating two List's for Cost and Number of iterations\n",
    "\n",
    "    return (b1,b0,cost,i)   \n",
    "\n",
    "\n",
    "\n",
    "Grad_Linear(alpha=0.0001,epochs=100,b0=0,b1=0)"
   ]
  },
  {
   "cell_type": "code",
   "execution_count": 6,
   "metadata": {},
   "outputs": [
    {
     "data": {
      "text/plain": [
       "(1.4774977806149585, 0.08930986010626958, 112.71325397416943, 999)"
      ]
     },
     "execution_count": 6,
     "metadata": {},
     "output_type": "execute_result"
    }
   ],
   "source": [
    "### SGD Implementation Using Vectorization Method (Applied without the help of For loop)\n",
    "## Using SGD\n",
    "def Grad_Linear(xx,yy,alpha,epochs,b0,b1):\n",
    "    N=len(xx)  \n",
    "    for i in range (epochs):\n",
    "            y_pred = (b1 * xx) + b0\n",
    "            cost = sum([J**2 for J in (yy-y_pred)]) / N\n",
    "            derivative_b0=-(2/N)*sum(yy - y_pred)      \n",
    "            derivative_b1=-(2/N)*sum(xx* (yy - y_pred))\n",
    "            b0=b0-(alpha*derivative_b0)\n",
    "            b1=b1-(alpha*derivative_b1)\n",
    "            #print(\"b1={},b0={},cost={},epochs={}\".format(b1,b0,cost,i))\n",
    "            ## Creating two List's for Cost and Number of iterations\n",
    "\n",
    "    return b1,b0,cost,i   \n",
    "Grad_Linear(xx,yy,alpha=0.0001,epochs=1000,b0=0,b1=0)\n",
    "#0.6891928273528621, 8.689818887104948, 0.004791295575462396, 99"
   ]
  },
  {
   "cell_type": "code",
   "execution_count": 7,
   "metadata": {},
   "outputs": [
    {
     "data": {
      "text/plain": [
       "<matplotlib.legend.Legend at 0x1e63cd71cf8>"
      ]
     },
     "execution_count": 7,
     "metadata": {},
     "output_type": "execute_result"
    },
    {
     "data": {
      "image/png": "[encoded data removed]",
      "text/plain": [
       "<Figure size 432x288 with 1 Axes>"
      ]
     },
     "metadata": {},
     "output_type": "display_data"
    }
   ],
   "source": [
    "b1=1.4774977806149585\n",
    "b0=0.08930986010626958\n",
    "reg_line=[b1*xx[i]+b0 for i in range(len(xx))]\n",
    "plt.plot(xx,reg_line)\n",
    "plt.scatter(xx, yy, c='#ef5423', label='112.7132')\n",
    "plt.legend()"
   ]
  }
 ],
 "metadata": {
  "kernelspec": {
   "display_name": "Python 3",
   "language": "python",
   "name": "python3"
  },
  "language_info": {
   "codemirror_mode": {
    "name": "ipython",
    "version": 3
   },
   "file_extension": ".py",
   "mimetype": "text/x-python",
   "name": "python",
   "nbconvert_exporter": "python",
   "pygments_lexer": "ipython3",
   "version": "3.6.5"
  }
 },
 "nbformat": 4,
 "nbformat_minor": 2
}
