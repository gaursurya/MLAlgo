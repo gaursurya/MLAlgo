{
 "cells": [
  {
   "cell_type": "markdown",
   "metadata": {},
   "source": [
    "# Ridge Regression"
   ]
  },
  {
   "cell_type": "code",
   "execution_count": 1,
   "metadata": {},
   "outputs": [],
   "source": [
    "import pandas as pd\n",
    "import numpy as np\n",
    "import matplotlib.pyplot as plt\n",
    "import seaborn as sns\n",
    "from numpy.linalg import inv\n",
    "from math import sqrt"
   ]
  },
  {
   "cell_type": "code",
   "execution_count": 2,
   "metadata": {},
   "outputs": [
    {
     "name": "stdout",
     "output_type": "stream",
     "text": [
      "<class 'pandas.core.frame.DataFrame'>\n",
      "RangeIndex: 398 entries, 0 to 397\n",
      "Data columns (total 9 columns):\n",
      "mpg             398 non-null float64\n",
      "cylinders       398 non-null int64\n",
      "displacement    398 non-null float64\n",
      "horsepower      398 non-null object\n",
      "weight          398 non-null int64\n",
      "acceleration    398 non-null float64\n",
      "model year      398 non-null int64\n",
      "origin          398 non-null int64\n",
      "car name        398 non-null object\n",
      "dtypes: float64(3), int64(4), object(2)\n",
      "memory usage: 28.1+ KB\n"
     ]
    }
   ],
   "source": [
    "## https://www.kaggle.com/devanshbesain/exploration-and-analysis-auto-mpg/data\n",
    "df=pd.read_csv(\"auto-mpg.csv\",low_memory=False)\n",
    "df.info()"
   ]
  },
  {
   "cell_type": "code",
   "execution_count": 3,
   "metadata": {},
   "outputs": [],
   "source": [
    "df=df[['mpg','weight','acceleration','displacement']]"
   ]
  },
  {
   "cell_type": "code",
   "execution_count": 4,
   "metadata": {},
   "outputs": [
    {
     "data": {
      "text/plain": [
       "<matplotlib.axes._subplots.AxesSubplot at 0x1b06e1405c0>"
      ]
     },
     "execution_count": 4,
     "metadata": {},
     "output_type": "execute_result"
    },
    {
     "data": {
      "image/png": "[encoded data removed]",
      "text/plain": [
       "<Figure size 360x360 with 2 Axes>"
      ]
     },
     "metadata": {},
     "output_type": "display_data"
    }
   ],
   "source": [
    "### Correlation between Numerical Features\n",
    "corr = df.select_dtypes(include=['float64','int64']).iloc[:,0:].corr()\n",
    "plt.figure(figsize=(5,5))\n",
    "sns.heatmap(corr,vmax=1, square=True, annot=True)"
   ]
  },
  {
   "cell_type": "code",
   "execution_count": 5,
   "metadata": {},
   "outputs": [],
   "source": [
    "## Target Variable\n",
    "df_y=df['mpg']\n",
    "#df_y"
   ]
  },
  {
   "cell_type": "code",
   "execution_count": 6,
   "metadata": {},
   "outputs": [],
   "source": [
    "## Independent Variables\n",
    "df_x=df.drop('mpg', axis=1)\n",
    "#df_x.head()"
   ]
  },
  {
   "cell_type": "markdown",
   "metadata": {},
   "source": [
    "# Train-Test Split "
   ]
  },
  {
   "cell_type": "code",
   "execution_count": 7,
   "metadata": {},
   "outputs": [],
   "source": [
    "from sklearn.model_selection import train_test_split\n",
    "x_train, x_test, y_train, y_test = train_test_split(df_x,df_y, test_size=0.33, random_state=123)"
   ]
  },
  {
   "cell_type": "code",
   "execution_count": 8,
   "metadata": {},
   "outputs": [
    {
     "name": "stdout",
     "output_type": "stream",
     "text": [
      "x_train=(266, 3),x_test=(132, 3),y_train=(266, 1),y_test=(132, 1)\n"
     ]
    }
   ],
   "source": [
    "## Converting Dataframe into numpy Array\n",
    "x_train=np.array(x_train)\n",
    "x_test=np.array(x_test)\n",
    "y_train=np.array(y_train).reshape(len(y_train),1)\n",
    "y_test=np.array(y_test).reshape(len(y_test),1)\n",
    "print(\"x_train={},x_test={},y_train={},y_test={}\".format(x_train.shape,x_test.shape,y_train.shape,y_test.shape))"
   ]
  },
  {
   "cell_type": "code",
   "execution_count": 9,
   "metadata": {},
   "outputs": [],
   "source": [
    "## Creating L-2 Penalty\n",
    "def lamda():\n",
    "    lamda=np.linspace(stop=1, start=.0001, num=10)\n",
    "    return lamda\n",
    "lamda=lamda()"
   ]
  },
  {
   "cell_type": "code",
   "execution_count": 10,
   "metadata": {},
   "outputs": [
    {
     "data": {
      "text/plain": [
       "array([1.000e-04, 1.112e-01, 2.223e-01, 3.334e-01, 4.445e-01, 5.556e-01,\n",
       "       6.667e-01, 7.778e-01, 8.889e-01, 1.000e+00])"
      ]
     },
     "execution_count": 10,
     "metadata": {},
     "output_type": "execute_result"
    }
   ],
   "source": [
    "lamda"
   ]
  },
  {
   "cell_type": "code",
   "execution_count": 11,
   "metadata": {},
   "outputs": [],
   "source": [
    "## Ridge Regression\n",
    "#ones = np.ones(len(x_train))\n",
    "def ridge_reg(lamda,x_train,y_train):\n",
    "    ones = np.ones(len(x_train))\n",
    "    X=np.column_stack((ones,x_train))\n",
    "    y=y_train\n",
    "    Xt=np.transpose(X)\n",
    "    I=np.identity(len(Xt))\n",
    "    inverse_matrix=np.linalg.inv(np.dot(Xt,X)+lamda*I)\n",
    "    xy=np.dot(np.transpose(X),y)\n",
    "    B=np.dot(inverse_matrix,xy)\n",
    "    return B\n",
    "#theta=ridge_reg(lamda[0],x_train, y_train)"
   ]
  },
  {
   "cell_type": "code",
   "execution_count": 12,
   "metadata": {},
   "outputs": [],
   "source": [
    "## RMSE\n",
    "def rmse(theta):\n",
    "    n=len(x_train)\n",
    "    y_pred=theta[0]+theta[1]*x_train[:,0:1]+theta[1]*x_train[:,1:2]+theta[2]*x_train[:,2:3]\n",
    "    rmse=np.sum(y_train-y_pred)**2\n",
    "    rmse=1/n*rmse\n",
    "    rmse=np.sqrt(rmse)\n",
    "    return rmse\n",
    "#rmse=rmse(theta)  "
   ]
  },
  {
   "cell_type": "code",
   "execution_count": 13,
   "metadata": {},
   "outputs": [
    {
     "name": "stdout",
     "output_type": "stream",
     "text": [
      "lamda=0.0001,rmse=486.22743384359524,theta=[[ 4.11566271e+01]\n",
      " [-5.40319912e-03]\n",
      " [ 1.46156175e-01]\n",
      " [-1.96446149e-02]]\n",
      "lamda=0.2223,rmse=786.6982988565838,theta=[[ 3.85701035e+01]\n",
      " [-5.01108623e-03]\n",
      " [ 2.48378950e-01]\n",
      " [-2.07021849e-02]]\n",
      "lamda=0.4445,rmse=1051.5376928860535,theta=[[ 3.62899512e+01]\n",
      " [-4.66524371e-03]\n",
      " [ 3.38477883e-01]\n",
      " [-2.16359552e-02]]\n",
      "lamda=0.6667000000000001,rmse=1286.7224339496117,theta=[[ 3.42647796e+01]\n",
      " [-4.35791023e-03]\n",
      " [ 4.18486624e-01]\n",
      " [-2.24666916e-02]]\n",
      "lamda=0.8889,rmse=1496.9633911079627,theta=[[ 3.24540831e+01]\n",
      " [-4.08296838e-03]\n",
      " [ 4.90008079e-01]\n",
      " [-2.32107616e-02]]\n"
     ]
    }
   ],
   "source": [
    "## Merging rmse,lambda and ridge Function\n",
    "rmse_history=[]\n",
    "lamda_history=[]\n",
    "coffecient_history=[]\n",
    "for i in range(len(lamda)):\n",
    "    theta=ridge_reg(lamda[i],x_train, y_train)\n",
    "    J=rmse(theta) \n",
    "    rmse_history.append(J)\n",
    "    lamda_history.append(lamda[i])\n",
    "    coffecient_history.append(theta)\n",
    "    \n",
    "    if i%2==0:\n",
    "        print(\"lamda={},rmse={},theta={}\".format(lamda[i],J,theta))\n",
    "        \n",
    "\n",
    "    "
   ]
  },
  {
   "cell_type": "code",
   "execution_count": 14,
   "metadata": {},
   "outputs": [],
   "source": [
    "### Changing coffecient_history list into ndarray\n",
    "w=np.reshape(coffecient_history, (len(lamda),4)).T"
   ]
  },
  {
   "cell_type": "code",
   "execution_count": 15,
   "metadata": {},
   "outputs": [
    {
     "data": {
      "image/png": "[encoded data removed]",
      "text/plain": [
       "<Figure size 432x288 with 4 Axes>"
      ]
     },
     "metadata": {},
     "output_type": "display_data"
    }
   ],
   "source": [
    "### Plotting all the graphs related to subject\n",
    "#'Cost vs Lamda'\n",
    "plt.subplot(2,2,1)\n",
    "plt.plot(lamda_history,rmse_history)\n",
    "plt.xlabel('lamda')\n",
    "plt.ylabel('cost')\n",
    "plt.title('Cost vs Lamda')\n",
    "#weight coff vs Lamda\n",
    "plt.subplot(2,2,2)\n",
    "plt.plot(lamda_history,w[1],color='red')\n",
    "plt.xlabel('lamda')\n",
    "plt.ylabel('weight')\n",
    "plt.title('weight coff vs Lamda')\n",
    "plt.xlim(2, .0001)\n",
    "#weight displaxement vs Lamda\n",
    "plt.subplot(2,2,3)\n",
    "plt.plot(lamda_history,w[2],color='green')\n",
    "plt.xlabel('lamda')\n",
    "plt.ylabel('acceleration')\n",
    "#weight displacement vs Lamda\n",
    "plt.subplot(2,2,4)\n",
    "plt.plot(lamda_history,w[3],color='black')\n",
    "plt.xlabel('lamda')\n",
    "plt.ylabel('displacement')\n",
    "plt.tight_layout()"
   ]
  },
  {
   "cell_type": "code",
   "execution_count": null,
   "metadata": {},
   "outputs": [],
   "source": []
  }
 ],
 "metadata": {
  "kernelspec": {
   "display_name": "Python 3",
   "language": "python",
   "name": "python3"
  },
  "language_info": {
   "codemirror_mode": {
    "name": "ipython",
    "version": 3
   },
   "file_extension": ".py",
   "mimetype": "text/x-python",
   "name": "python",
   "nbconvert_exporter": "python",
   "pygments_lexer": "ipython3",
   "version": "3.6.5"
  }
 },
 "nbformat": 4,
 "nbformat_minor": 2
}
